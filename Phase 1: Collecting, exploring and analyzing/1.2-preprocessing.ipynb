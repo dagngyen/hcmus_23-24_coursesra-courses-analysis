{
 "cells": [
  {
   "cell_type": "code",
   "execution_count": 2,
   "metadata": {},
   "outputs": [],
   "source": [
    "import os\n",
    "import sys\n",
    "\n",
    "module_path = os.path.abspath(os.path.join('..'))\n",
    "if module_path not in sys.path:\n",
    "    sys.path.append(module_path)\n",
    "    \n",
    "import warnings\n",
    "warnings.filterwarnings('ignore')\n",
    "\n",
    "import numpy as np\n",
    "import pandas as pd\n",
    "import matplotlib.pyplot as plt\n",
    "%matplotlib inline\n",
    "\n",
    "# YOUR CODE HERE (OPTION) \n",
    "# If you need other libraries, you can import them here\n",
    "import seaborn as sns"
   ]
  },
  {
   "cell_type": "code",
   "execution_count": 3,
   "metadata": {},
   "outputs": [],
   "source": [
    "raw_df = pd.read_csv('../Data/raw_data.csv', sep=',',engine='python', encoding='utf-8')"
   ]
  },
  {
   "cell_type": "code",
   "execution_count": 3,
   "metadata": {},
   "outputs": [
    {
     "data": {
      "text/html": [
       "<div>\n",
       "<style scoped>\n",
       "    .dataframe tbody tr th:only-of-type {\n",
       "        vertical-align: middle;\n",
       "    }\n",
       "\n",
       "    .dataframe tbody tr th {\n",
       "        vertical-align: top;\n",
       "    }\n",
       "\n",
       "    .dataframe thead th {\n",
       "        text-align: right;\n",
       "    }\n",
       "</style>\n",
       "<table border=\"1\" class=\"dataframe\">\n",
       "  <thead>\n",
       "    <tr style=\"text-align: right;\">\n",
       "      <th></th>\n",
       "      <th>name</th>\n",
       "      <th>enrollment</th>\n",
       "      <th>language</th>\n",
       "      <th>rating</th>\n",
       "      <th>level</th>\n",
       "      <th>duration</th>\n",
       "      <th>description</th>\n",
       "      <th>skill</th>\n",
       "      <th>instructor</th>\n",
       "      <th>offered by</th>\n",
       "    </tr>\n",
       "  </thead>\n",
       "  <tbody>\n",
       "    <tr>\n",
       "      <th>0</th>\n",
       "      <td>Integrated and Strategic Communication Campaigns</td>\n",
       "      <td>NaN</td>\n",
       "      <td>Taught in English</td>\n",
       "      <td>NaN</td>\n",
       "      <td>Beginner level</td>\n",
       "      <td>6 hours (approximately)</td>\n",
       "      <td>Understand what integrated communication campa...</td>\n",
       "      <td>Strategic Management, Marketing Communications...</td>\n",
       "      <td>None {'Erin Willis'}</td>\n",
       "      <td>University of Colorado Boulder</td>\n",
       "    </tr>\n",
       "    <tr>\n",
       "      <th>1</th>\n",
       "      <td>The Science of Success: What Researchers Know ...</td>\n",
       "      <td>173,770 already enrolled</td>\n",
       "      <td>Taught in English</td>\n",
       "      <td>4.8</td>\n",
       "      <td>Beginner level</td>\n",
       "      <td>Approx. 11 hours to complete</td>\n",
       "      <td>Understand how to get better results at work a...</td>\n",
       "      <td>Personal Branding, Planning, Social Capital, S...</td>\n",
       "      <td>4.8  {'Paula Caproni'}</td>\n",
       "      <td>University of Michigan</td>\n",
       "    </tr>\n",
       "    <tr>\n",
       "      <th>2</th>\n",
       "      <td>Microsoft Azure Databricks for Data Engineering</td>\n",
       "      <td>12,942 already enrolled</td>\n",
       "      <td>Taught in English</td>\n",
       "      <td>4.4</td>\n",
       "      <td>Intermediate level</td>\n",
       "      <td>21 hours (approximately)</td>\n",
       "      <td>How to work with large amounts of data from mu...</td>\n",
       "      <td>Microsoft Azure, Information Engineering, Data...</td>\n",
       "      <td>4.2  {' Microsoft'}</td>\n",
       "      <td>Microsoft</td>\n",
       "    </tr>\n",
       "    <tr>\n",
       "      <th>3</th>\n",
       "      <td>Thinking About Care</td>\n",
       "      <td>NaN</td>\n",
       "      <td>Taught in English</td>\n",
       "      <td>NaN</td>\n",
       "      <td>Beginner level</td>\n",
       "      <td>7 hours (approximately)</td>\n",
       "      <td>Develop a deeper understanding of careCritical...</td>\n",
       "      <td>NaN</td>\n",
       "      <td>None {'Don Grant'}</td>\n",
       "      <td>University of Colorado Boulder</td>\n",
       "    </tr>\n",
       "    <tr>\n",
       "      <th>4</th>\n",
       "      <td>Finance for Everyone: Debt</td>\n",
       "      <td>15,586 already enrolled</td>\n",
       "      <td>Taught in English</td>\n",
       "      <td>4.8</td>\n",
       "      <td>NaN</td>\n",
       "      <td>11 hours (approximately)</td>\n",
       "      <td>NaN</td>\n",
       "      <td>NaN</td>\n",
       "      <td>4.7  {'Arshad Ahmad'}</td>\n",
       "      <td>McMaster University</td>\n",
       "    </tr>\n",
       "  </tbody>\n",
       "</table>\n",
       "</div>"
      ],
      "text/plain": [
       "                                                name  \\\n",
       "0   Integrated and Strategic Communication Campaigns   \n",
       "1  The Science of Success: What Researchers Know ...   \n",
       "2    Microsoft Azure Databricks for Data Engineering   \n",
       "3                                Thinking About Care   \n",
       "4                         Finance for Everyone: Debt   \n",
       "\n",
       "                 enrollment           language rating               level  \\\n",
       "0                       NaN  Taught in English    NaN      Beginner level   \n",
       "1  173,770 already enrolled  Taught in English    4.8      Beginner level   \n",
       "2   12,942 already enrolled  Taught in English    4.4  Intermediate level   \n",
       "3                       NaN  Taught in English    NaN      Beginner level   \n",
       "4   15,586 already enrolled  Taught in English    4.8                 NaN   \n",
       "\n",
       "                       duration  \\\n",
       "0       6 hours (approximately)   \n",
       "1  Approx. 11 hours to complete   \n",
       "2      21 hours (approximately)   \n",
       "3       7 hours (approximately)   \n",
       "4      11 hours (approximately)   \n",
       "\n",
       "                                         description  \\\n",
       "0  Understand what integrated communication campa...   \n",
       "1  Understand how to get better results at work a...   \n",
       "2  How to work with large amounts of data from mu...   \n",
       "3  Develop a deeper understanding of careCritical...   \n",
       "4                                                NaN   \n",
       "\n",
       "                                               skill              instructor  \\\n",
       "0  Strategic Management, Marketing Communications...    None {'Erin Willis'}   \n",
       "1  Personal Branding, Planning, Social Capital, S...  4.8  {'Paula Caproni'}   \n",
       "2  Microsoft Azure, Information Engineering, Data...     4.2  {' Microsoft'}   \n",
       "3                                                NaN      None {'Don Grant'}   \n",
       "4                                                NaN   4.7  {'Arshad Ahmad'}   \n",
       "\n",
       "                       offered by  \n",
       "0  University of Colorado Boulder  \n",
       "1          University of Michigan  \n",
       "2                       Microsoft  \n",
       "3  University of Colorado Boulder  \n",
       "4             McMaster University  "
      ]
     },
     "execution_count": 3,
     "metadata": {},
     "output_type": "execute_result"
    }
   ],
   "source": [
    "raw_df.head()"
   ]
  },
  {
   "cell_type": "code",
   "execution_count": 4,
   "metadata": {},
   "outputs": [
    {
     "data": {
      "text/plain": [
       "(2984, 10)"
      ]
     },
     "execution_count": 4,
     "metadata": {},
     "output_type": "execute_result"
    }
   ],
   "source": [
    "raw_df.shape"
   ]
  },
  {
   "cell_type": "markdown",
   "metadata": {},
   "source": [
    "Drop all row with none rating"
   ]
  },
  {
   "cell_type": "code",
   "execution_count": 5,
   "metadata": {},
   "outputs": [
    {
     "data": {
      "text/plain": [
       "(2248, 10)"
      ]
     },
     "execution_count": 5,
     "metadata": {},
     "output_type": "execute_result"
    }
   ],
   "source": [
    "raw_df.dropna(subset=['rating'], inplace=True)\n",
    "raw_df.shape  # shape after delete none rating"
   ]
  },
  {
   "cell_type": "code",
   "execution_count": 6,
   "metadata": {},
   "outputs": [],
   "source": [
    "drop_index = raw_df.loc[~raw_df['language'].str.contains('English')].index"
   ]
  },
  {
   "cell_type": "code",
   "execution_count": 7,
   "metadata": {},
   "outputs": [],
   "source": [
    "raw_df.drop(index=drop_index, inplace=True)"
   ]
  },
  {
   "cell_type": "code",
   "execution_count": 8,
   "metadata": {},
   "outputs": [
    {
     "data": {
      "text/html": [
       "<div>\n",
       "<style scoped>\n",
       "    .dataframe tbody tr th:only-of-type {\n",
       "        vertical-align: middle;\n",
       "    }\n",
       "\n",
       "    .dataframe tbody tr th {\n",
       "        vertical-align: top;\n",
       "    }\n",
       "\n",
       "    .dataframe thead th {\n",
       "        text-align: right;\n",
       "    }\n",
       "</style>\n",
       "<table border=\"1\" class=\"dataframe\">\n",
       "  <thead>\n",
       "    <tr style=\"text-align: right;\">\n",
       "      <th></th>\n",
       "      <th>name</th>\n",
       "      <th>enrollment</th>\n",
       "      <th>language</th>\n",
       "      <th>rating</th>\n",
       "      <th>level</th>\n",
       "      <th>duration</th>\n",
       "      <th>description</th>\n",
       "      <th>skill</th>\n",
       "      <th>instructor</th>\n",
       "      <th>offered by</th>\n",
       "    </tr>\n",
       "  </thead>\n",
       "  <tbody>\n",
       "    <tr>\n",
       "      <th>1</th>\n",
       "      <td>The Science of Success: What Researchers Know ...</td>\n",
       "      <td>173,770 already enrolled</td>\n",
       "      <td>Taught in English</td>\n",
       "      <td>4.8</td>\n",
       "      <td>Beginner level</td>\n",
       "      <td>Approx. 11 hours to complete</td>\n",
       "      <td>Understand how to get better results at work a...</td>\n",
       "      <td>Personal Branding, Planning, Social Capital, S...</td>\n",
       "      <td>4.8  {'Paula Caproni'}</td>\n",
       "      <td>University of Michigan</td>\n",
       "    </tr>\n",
       "    <tr>\n",
       "      <th>2</th>\n",
       "      <td>Microsoft Azure Databricks for Data Engineering</td>\n",
       "      <td>12,942 already enrolled</td>\n",
       "      <td>Taught in English</td>\n",
       "      <td>4.4</td>\n",
       "      <td>Intermediate level</td>\n",
       "      <td>21 hours (approximately)</td>\n",
       "      <td>How to work with large amounts of data from mu...</td>\n",
       "      <td>Microsoft Azure, Information Engineering, Data...</td>\n",
       "      <td>4.2  {' Microsoft'}</td>\n",
       "      <td>Microsoft</td>\n",
       "    </tr>\n",
       "    <tr>\n",
       "      <th>4</th>\n",
       "      <td>Finance for Everyone: Debt</td>\n",
       "      <td>15,586 already enrolled</td>\n",
       "      <td>Taught in English</td>\n",
       "      <td>4.8</td>\n",
       "      <td>NaN</td>\n",
       "      <td>11 hours (approximately)</td>\n",
       "      <td>NaN</td>\n",
       "      <td>NaN</td>\n",
       "      <td>4.7  {'Arshad Ahmad'}</td>\n",
       "      <td>McMaster University</td>\n",
       "    </tr>\n",
       "    <tr>\n",
       "      <th>7</th>\n",
       "      <td>Basics of Statutory Compliance and Taxation</td>\n",
       "      <td>3,123 already enrolled</td>\n",
       "      <td>Taught in English</td>\n",
       "      <td>4.8</td>\n",
       "      <td>Intermediate level</td>\n",
       "      <td>46 hours (approximately)</td>\n",
       "      <td>NaN</td>\n",
       "      <td>Financial Accounting, TDS, Export and Import, ...</td>\n",
       "      <td>None {'Tally Education Pvt. Ltd'}</td>\n",
       "      <td>Tally Education</td>\n",
       "    </tr>\n",
       "    <tr>\n",
       "      <th>9</th>\n",
       "      <td>Preventing Chronic Pain: A Human Systems Approach</td>\n",
       "      <td>33,519 already enrolled</td>\n",
       "      <td>Taught in English</td>\n",
       "      <td>4.7</td>\n",
       "      <td>Beginner level</td>\n",
       "      <td>Approx. 44 hours to complete</td>\n",
       "      <td>NaN</td>\n",
       "      <td>Chronic Pain Management, Plan, Pain Management...</td>\n",
       "      <td>4.8  {'Dr. James Fricton, DDS, MS'}</td>\n",
       "      <td>University of Minnesota</td>\n",
       "    </tr>\n",
       "    <tr>\n",
       "      <th>...</th>\n",
       "      <td>...</td>\n",
       "      <td>...</td>\n",
       "      <td>...</td>\n",
       "      <td>...</td>\n",
       "      <td>...</td>\n",
       "      <td>...</td>\n",
       "      <td>...</td>\n",
       "      <td>...</td>\n",
       "      <td>...</td>\n",
       "      <td>...</td>\n",
       "    </tr>\n",
       "    <tr>\n",
       "      <th>2976</th>\n",
       "      <td>Introduction to Participatory Approaches in Pu...</td>\n",
       "      <td>1,651 already enrolled</td>\n",
       "      <td>Taught in English</td>\n",
       "      <td>4.4</td>\n",
       "      <td>Beginner level</td>\n",
       "      <td>18 hours (approximately)</td>\n",
       "      <td>NaN</td>\n",
       "      <td>Public Participation, Participatory Action Res...</td>\n",
       "      <td>4.7  {'Helen Ward '}</td>\n",
       "      <td>Imperial College London</td>\n",
       "    </tr>\n",
       "    <tr>\n",
       "      <th>2977</th>\n",
       "      <td>Introducing Security: Aligning Asset and Risk ...</td>\n",
       "      <td>7,815 already enrolled</td>\n",
       "      <td>Taught in English</td>\n",
       "      <td>4.6</td>\n",
       "      <td>Beginner level</td>\n",
       "      <td>7 hours (approximately)</td>\n",
       "      <td>NaN</td>\n",
       "      <td>Asset, Risk Management</td>\n",
       "      <td>4.7  {'(ISC)Â² Education &amp; Training'}</td>\n",
       "      <td>ISC2</td>\n",
       "    </tr>\n",
       "    <tr>\n",
       "      <th>2978</th>\n",
       "      <td>Academic Information Seeking</td>\n",
       "      <td>28,386 already enrolled</td>\n",
       "      <td>Taught in English</td>\n",
       "      <td>4.7</td>\n",
       "      <td>NaN</td>\n",
       "      <td>Approx. 6 hours to complete</td>\n",
       "      <td>NaN</td>\n",
       "      <td>NaN</td>\n",
       "      <td>4.7  {'Thomas Skov Jensen ', 'Birgitte Munk', ...</td>\n",
       "      <td>Technical University of Denmark (DTU)</td>\n",
       "    </tr>\n",
       "    <tr>\n",
       "      <th>2979</th>\n",
       "      <td>A Blueprint for Success â Your Video Pre-Pro...</td>\n",
       "      <td>5,438 already enrolled</td>\n",
       "      <td>Taught in English</td>\n",
       "      <td>4.5</td>\n",
       "      <td>Beginner level</td>\n",
       "      <td>11 hours (approximately)</td>\n",
       "      <td>Identify equipment and software needs to creat...</td>\n",
       "      <td>Video Editing, Linear Editing, Video Productio...</td>\n",
       "      <td>4.7  {'Emilie Johnson', 'Paul Daugherty'}</td>\n",
       "      <td>University of Colorado Boulder</td>\n",
       "    </tr>\n",
       "    <tr>\n",
       "      <th>2983</th>\n",
       "      <td>Modern Robotics, Course 2:  Robot Kinematics</td>\n",
       "      <td>17,444 already enrolled</td>\n",
       "      <td>Taught in English</td>\n",
       "      <td>4.9</td>\n",
       "      <td>Intermediate level</td>\n",
       "      <td>18 hours (approximately)</td>\n",
       "      <td>NaN</td>\n",
       "      <td>NaN</td>\n",
       "      <td>4.8  {'Kevin Lynch'}</td>\n",
       "      <td>Northwestern University</td>\n",
       "    </tr>\n",
       "  </tbody>\n",
       "</table>\n",
       "<p>1762 rows × 10 columns</p>\n",
       "</div>"
      ],
      "text/plain": [
       "                                                   name  \\\n",
       "1     The Science of Success: What Researchers Know ...   \n",
       "2       Microsoft Azure Databricks for Data Engineering   \n",
       "4                            Finance for Everyone: Debt   \n",
       "7           Basics of Statutory Compliance and Taxation   \n",
       "9     Preventing Chronic Pain: A Human Systems Approach   \n",
       "...                                                 ...   \n",
       "2976  Introduction to Participatory Approaches in Pu...   \n",
       "2977  Introducing Security: Aligning Asset and Risk ...   \n",
       "2978                       Academic Information Seeking   \n",
       "2979  A Blueprint for Success â Your Video Pre-Pro...   \n",
       "2983       Modern Robotics, Course 2:  Robot Kinematics   \n",
       "\n",
       "                    enrollment           language rating               level  \\\n",
       "1     173,770 already enrolled  Taught in English    4.8      Beginner level   \n",
       "2      12,942 already enrolled  Taught in English    4.4  Intermediate level   \n",
       "4      15,586 already enrolled  Taught in English    4.8                 NaN   \n",
       "7       3,123 already enrolled  Taught in English    4.8  Intermediate level   \n",
       "9      33,519 already enrolled  Taught in English    4.7      Beginner level   \n",
       "...                        ...                ...    ...                 ...   \n",
       "2976    1,651 already enrolled  Taught in English    4.4      Beginner level   \n",
       "2977    7,815 already enrolled  Taught in English    4.6      Beginner level   \n",
       "2978   28,386 already enrolled  Taught in English    4.7                 NaN   \n",
       "2979    5,438 already enrolled  Taught in English    4.5      Beginner level   \n",
       "2983   17,444 already enrolled  Taught in English    4.9  Intermediate level   \n",
       "\n",
       "                          duration  \\\n",
       "1     Approx. 11 hours to complete   \n",
       "2         21 hours (approximately)   \n",
       "4         11 hours (approximately)   \n",
       "7         46 hours (approximately)   \n",
       "9     Approx. 44 hours to complete   \n",
       "...                            ...   \n",
       "2976      18 hours (approximately)   \n",
       "2977       7 hours (approximately)   \n",
       "2978   Approx. 6 hours to complete   \n",
       "2979      11 hours (approximately)   \n",
       "2983      18 hours (approximately)   \n",
       "\n",
       "                                            description  \\\n",
       "1     Understand how to get better results at work a...   \n",
       "2     How to work with large amounts of data from mu...   \n",
       "4                                                   NaN   \n",
       "7                                                   NaN   \n",
       "9                                                   NaN   \n",
       "...                                                 ...   \n",
       "2976                                                NaN   \n",
       "2977                                                NaN   \n",
       "2978                                                NaN   \n",
       "2979  Identify equipment and software needs to creat...   \n",
       "2983                                                NaN   \n",
       "\n",
       "                                                  skill  \\\n",
       "1     Personal Branding, Planning, Social Capital, S...   \n",
       "2     Microsoft Azure, Information Engineering, Data...   \n",
       "4                                                   NaN   \n",
       "7     Financial Accounting, TDS, Export and Import, ...   \n",
       "9     Chronic Pain Management, Plan, Pain Management...   \n",
       "...                                                 ...   \n",
       "2976  Public Participation, Participatory Action Res...   \n",
       "2977                             Asset, Risk Management   \n",
       "2978                                                NaN   \n",
       "2979  Video Editing, Linear Editing, Video Productio...   \n",
       "2983                                                NaN   \n",
       "\n",
       "                                             instructor  \\\n",
       "1                                4.8  {'Paula Caproni'}   \n",
       "2                                   4.2  {' Microsoft'}   \n",
       "4                                 4.7  {'Arshad Ahmad'}   \n",
       "7                     None {'Tally Education Pvt. Ltd'}   \n",
       "9                   4.8  {'Dr. James Fricton, DDS, MS'}   \n",
       "...                                                 ...   \n",
       "2976                               4.7  {'Helen Ward '}   \n",
       "2977              4.7  {'(ISC)Â² Education & Training'}   \n",
       "2978  4.7  {'Thomas Skov Jensen ', 'Birgitte Munk', ...   \n",
       "2979          4.7  {'Emilie Johnson', 'Paul Daugherty'}   \n",
       "2983                               4.8  {'Kevin Lynch'}   \n",
       "\n",
       "                                 offered by  \n",
       "1                    University of Michigan  \n",
       "2                                 Microsoft  \n",
       "4                       McMaster University  \n",
       "7                           Tally Education  \n",
       "9                   University of Minnesota  \n",
       "...                                     ...  \n",
       "2976                Imperial College London  \n",
       "2977                                   ISC2  \n",
       "2978  Technical University of Denmark (DTU)  \n",
       "2979         University of Colorado Boulder  \n",
       "2983                Northwestern University  \n",
       "\n",
       "[1762 rows x 10 columns]"
      ]
     },
     "execution_count": 8,
     "metadata": {},
     "output_type": "execute_result"
    }
   ],
   "source": [
    "raw_df"
   ]
  },
  {
   "cell_type": "markdown",
   "metadata": {},
   "source": [
    "Check duplicate row"
   ]
  },
  {
   "cell_type": "code",
   "execution_count": 9,
   "metadata": {},
   "outputs": [
    {
     "data": {
      "text/plain": [
       "True"
      ]
     },
     "execution_count": 9,
     "metadata": {},
     "output_type": "execute_result"
    }
   ],
   "source": [
    "is_duplicate = raw_df.duplicated().any()\n",
    "is_duplicate"
   ]
  },
  {
   "cell_type": "code",
   "execution_count": 10,
   "metadata": {},
   "outputs": [
    {
     "name": "stdout",
     "output_type": "stream",
     "text": [
      "<class 'pandas.core.frame.DataFrame'>\n",
      "Index: 1762 entries, 1 to 2983\n",
      "Data columns (total 10 columns):\n",
      " #   Column       Non-Null Count  Dtype \n",
      "---  ------       --------------  ----- \n",
      " 0   name         1762 non-null   object\n",
      " 1   enrollment   1688 non-null   object\n",
      " 2   language     1762 non-null   object\n",
      " 3   rating       1762 non-null   object\n",
      " 4   level        1423 non-null   object\n",
      " 5   duration     1762 non-null   object\n",
      " 6   description  756 non-null    object\n",
      " 7   skill        1003 non-null   object\n",
      " 8   instructor   1759 non-null   object\n",
      " 9   offered by   1759 non-null   object\n",
      "dtypes: object(10)\n",
      "memory usage: 151.4+ KB\n"
     ]
    }
   ],
   "source": [
    "raw_df.info()"
   ]
  },
  {
   "cell_type": "code",
   "execution_count": 11,
   "metadata": {},
   "outputs": [],
   "source": [
    "raw_df['enrollment'] = raw_df['enrollment'].str.extract('(\\d+,\\d+)')\n",
    "try:\n",
    "    raw_df['enrollment'] = pd.to_numeric(raw_df['enrollment'].replace(',', '', regex=True), errors='coerce').astype('Int64')\n",
    "except ValueError:\n",
    "    raw_df['enrollment'] = None"
   ]
  },
  {
   "cell_type": "code",
   "execution_count": 12,
   "metadata": {},
   "outputs": [],
   "source": [
    "raw_df['rating'] = raw_df['rating'].astype(float)"
   ]
  },
  {
   "cell_type": "code",
   "execution_count": 13,
   "metadata": {},
   "outputs": [],
   "source": [
    "raw_df['language'] = 'English'"
   ]
  },
  {
   "cell_type": "raw",
   "metadata": {},
   "source": [
    "Show value in level column"
   ]
  },
  {
   "cell_type": "code",
   "execution_count": 14,
   "metadata": {},
   "outputs": [
    {
     "data": {
      "text/plain": [
       "array(['Beginner level', 'Intermediate level', nan, 'Advanced level'],\n",
       "      dtype=object)"
      ]
     },
     "execution_count": 14,
     "metadata": {},
     "output_type": "execute_result"
    }
   ],
   "source": [
    "raw_df['level'].unique()"
   ]
  },
  {
   "cell_type": "markdown",
   "metadata": {},
   "source": [
    "- `level` column has three levels at this time, we gonna fill `none` by `Other`\n",
    "- Remove 'level' in values.\n",
    "- Then check `none` value in this columns"
   ]
  },
  {
   "cell_type": "code",
   "execution_count": 15,
   "metadata": {},
   "outputs": [
    {
     "data": {
      "text/plain": [
       "0"
      ]
     },
     "execution_count": 15,
     "metadata": {},
     "output_type": "execute_result"
    }
   ],
   "source": [
    "raw_df['level'] = raw_df['level'].fillna('Other')\n",
    "raw_df['level'] = raw_df['level'].str.replace('level', '')\n",
    "raw_df['level'].isnull().sum()"
   ]
  },
  {
   "cell_type": "markdown",
   "metadata": {},
   "source": [
    "Get value of duration "
   ]
  },
  {
   "cell_type": "code",
   "execution_count": 16,
   "metadata": {},
   "outputs": [],
   "source": [
    "raw_df['duration'] = raw_df['duration'].str.extract('(\\d+)').astype(int)"
   ]
  },
  {
   "cell_type": "code",
   "execution_count": 17,
   "metadata": {
    "scrolled": true
   },
   "outputs": [
    {
     "name": "stdout",
     "output_type": "stream",
     "text": [
      "<class 'pandas.core.frame.DataFrame'>\n",
      "Index: 1762 entries, 1 to 2983\n",
      "Data columns (total 10 columns):\n",
      " #   Column       Non-Null Count  Dtype  \n",
      "---  ------       --------------  -----  \n",
      " 0   name         1762 non-null   object \n",
      " 1   enrollment   1688 non-null   Int64  \n",
      " 2   language     1762 non-null   object \n",
      " 3   rating       1762 non-null   float64\n",
      " 4   level        1762 non-null   object \n",
      " 5   duration     1762 non-null   int64  \n",
      " 6   description  756 non-null    object \n",
      " 7   skill        1003 non-null   object \n",
      " 8   instructor   1759 non-null   object \n",
      " 9   offered by   1759 non-null   object \n",
      "dtypes: Int64(1), float64(1), int64(1), object(7)\n",
      "memory usage: 153.1+ KB\n"
     ]
    }
   ],
   "source": [
    "raw_df.info()"
   ]
  },
  {
   "cell_type": "markdown",
   "metadata": {},
   "source": [
    "Drop `description`, `skill` columns"
   ]
  },
  {
   "cell_type": "code",
   "execution_count": 18,
   "metadata": {},
   "outputs": [],
   "source": [
    "raw_df.drop(['description','skill'], axis = 1, inplace=True)"
   ]
  },
  {
   "cell_type": "markdown",
   "metadata": {},
   "source": [
    "Get `instructor_rate` columms"
   ]
  },
  {
   "cell_type": "code",
   "execution_count": 19,
   "metadata": {},
   "outputs": [],
   "source": [
    "raw_df['instructor_rate'] = raw_df['instructor'].str.replace(r'\\{(.+)\\}', '', regex=True)\n",
    "raw_df['instructor_rate'] = raw_df['instructor_rate'].str.strip()\n",
    "\n",
    "raw_df['instructor'] = raw_df['instructor'].str.extract(r'\\{(.+)\\}')\n",
    "raw_df['instructor'] = raw_df['instructor'].str.replace(\"'\", '')"
   ]
  },
  {
   "cell_type": "markdown",
   "metadata": {},
   "source": [
    "Astype `instructor_rate` to float"
   ]
  },
  {
   "cell_type": "code",
   "execution_count": 20,
   "metadata": {},
   "outputs": [],
   "source": [
    "raw_df['instructor_rate'] = pd.to_numeric(raw_df['instructor_rate'], errors='coerce')\n",
    "raw_df['instructor_rate'] = raw_df['instructor_rate'].astype(float)\n"
   ]
  },
  {
   "cell_type": "code",
   "execution_count": 21,
   "metadata": {},
   "outputs": [],
   "source": [
    "# raw_df.to_csv('../Data/pr_data_2.csv', index=False)"
   ]
  },
  {
   "cell_type": "code",
   "execution_count": 22,
   "metadata": {},
   "outputs": [
    {
     "name": "stdout",
     "output_type": "stream",
     "text": [
      "<class 'pandas.core.frame.DataFrame'>\n",
      "Index: 1762 entries, 1 to 2983\n",
      "Data columns (total 9 columns):\n",
      " #   Column           Non-Null Count  Dtype  \n",
      "---  ------           --------------  -----  \n",
      " 0   name             1762 non-null   object \n",
      " 1   enrollment       1688 non-null   Int64  \n",
      " 2   language         1762 non-null   object \n",
      " 3   rating           1762 non-null   float64\n",
      " 4   level            1762 non-null   object \n",
      " 5   duration         1762 non-null   int64  \n",
      " 6   instructor       1759 non-null   object \n",
      " 7   offered by       1759 non-null   object \n",
      " 8   instructor_rate  1610 non-null   float64\n",
      "dtypes: Int64(1), float64(2), int64(1), object(5)\n",
      "memory usage: 139.4+ KB\n"
     ]
    }
   ],
   "source": [
    "raw_df.info()"
   ]
  },
  {
   "cell_type": "markdown",
   "metadata": {},
   "source": [
    "Fill `enrollment` and `instructor_rate` by median. `enrollment` should be astype as `int`."
   ]
  },
  {
   "cell_type": "code",
   "execution_count": 23,
   "metadata": {},
   "outputs": [],
   "source": [
    "raw_df['enrollment'] = raw_df['enrollment'].fillna(int(raw_df['enrollment'].median()))\n",
    "raw_df['instructor_rate'] =raw_df['instructor_rate'].fillna(raw_df['instructor_rate'].median())\n"
   ]
  },
  {
   "cell_type": "code",
   "execution_count": 24,
   "metadata": {},
   "outputs": [
    {
     "name": "stdout",
     "output_type": "stream",
     "text": [
      "<class 'pandas.core.frame.DataFrame'>\n",
      "Index: 1762 entries, 1 to 2983\n",
      "Data columns (total 9 columns):\n",
      " #   Column           Non-Null Count  Dtype  \n",
      "---  ------           --------------  -----  \n",
      " 0   name             1762 non-null   object \n",
      " 1   enrollment       1762 non-null   Int64  \n",
      " 2   language         1762 non-null   object \n",
      " 3   rating           1762 non-null   float64\n",
      " 4   level            1762 non-null   object \n",
      " 5   duration         1762 non-null   int64  \n",
      " 6   instructor       1759 non-null   object \n",
      " 7   offered by       1759 non-null   object \n",
      " 8   instructor_rate  1762 non-null   float64\n",
      "dtypes: Int64(1), float64(2), int64(1), object(5)\n",
      "memory usage: 139.4+ KB\n"
     ]
    }
   ],
   "source": [
    "raw_df.info()"
   ]
  },
  {
   "cell_type": "code",
   "execution_count": 25,
   "metadata": {},
   "outputs": [],
   "source": [
    "raw_df.to_csv('../Data/processed_data.csv', index=False)"
   ]
  }
 ],
 "metadata": {
  "kernelspec": {
   "display_name": "Python 3 (ipykernel)",
   "language": "python",
   "name": "python3"
  },
  "language_info": {
   "codemirror_mode": {
    "name": "ipython",
    "version": 3
   },
   "file_extension": ".py",
   "mimetype": "text/x-python",
   "name": "python",
   "nbconvert_exporter": "python",
   "pygments_lexer": "ipython3",
   "version": "3.10.8"
  }
 },
 "nbformat": 4,
 "nbformat_minor": 2
}
