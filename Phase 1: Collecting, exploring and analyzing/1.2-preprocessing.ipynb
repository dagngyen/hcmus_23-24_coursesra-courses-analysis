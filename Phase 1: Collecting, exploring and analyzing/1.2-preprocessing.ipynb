{
 "cells": [
  {
   "cell_type": "markdown",
   "metadata": {},
   "source": [
    "<div style=\"text-align: center; background-color: #0A6EBD; font-family: 'Trebuchet MS', Arial, sans-serif; color: white; padding: 20px; font-size: 40px; font-weight: bold; border-radius: 0 0 0 0; box-shadow: 0px 6px 8px rgba(0, 0, 0, 0.2);\">\n",
    "  Final Project - Introduction To Data Science @ FIT-HCMUS, VNU-HCM\n",
    "</div>"
   ]
  },
  {
   "cell_type": "markdown",
   "metadata": {},
   "source": [
    "<div style=\"text-align: center; background-color: #559CFF; font-family: 'Trebuchet MS', Arial, sans-serif; color: white; padding: 20px; font-size: 40px; font-weight: bold; border-radius: 0 0 0 0; box-shadow: 0px 6px 8px rgba(0, 0, 0, 0.2);\">\n",
    "  Stage 02 - Data exploring and preprocessing \n",
    "</div>"
   ]
  },
  {
   "cell_type": "markdown",
   "metadata": {},
   "source": [
    "## Import necessary libraries"
   ]
  },
  {
   "cell_type": "code",
   "execution_count": 1,
   "metadata": {},
   "outputs": [],
   "source": [
    "import os\n",
    "import sys\n",
    "\n",
    "module_path = os.path.abspath(os.path.join('..'))\n",
    "if module_path not in sys.path:\n",
    "    sys.path.append(module_path)\n",
    "    \n",
    "import warnings\n",
    "warnings.filterwarnings('ignore')\n",
    "\n",
    "import numpy as np\n",
    "import pandas as pd\n",
    "import matplotlib.pyplot as plt\n",
    "import seaborn as sns\n",
    "%matplotlib inline"
   ]
  },
  {
   "cell_type": "markdown",
   "metadata": {},
   "source": [
    "## Exploring your data"
   ]
  },
  {
   "cell_type": "markdown",
   "metadata": {},
   "source": [
    "### Read raw data from file"
   ]
  },
  {
   "cell_type": "code",
   "execution_count": 2,
   "metadata": {},
   "outputs": [],
   "source": [
    "raw_df = pd.read_csv('../Data/raw_data.csv', sep=',',engine='python', encoding='utf-8')"
   ]
  },
  {
   "cell_type": "code",
   "execution_count": 3,
   "metadata": {},
   "outputs": [
    {
     "data": {
      "text/html": [
       "<div>\n",
       "<style scoped>\n",
       "    .dataframe tbody tr th:only-of-type {\n",
       "        vertical-align: middle;\n",
       "    }\n",
       "\n",
       "    .dataframe tbody tr th {\n",
       "        vertical-align: top;\n",
       "    }\n",
       "\n",
       "    .dataframe thead th {\n",
       "        text-align: right;\n",
       "    }\n",
       "</style>\n",
       "<table border=\"1\" class=\"dataframe\">\n",
       "  <thead>\n",
       "    <tr style=\"text-align: right;\">\n",
       "      <th></th>\n",
       "      <th>name</th>\n",
       "      <th>field</th>\n",
       "      <th>enrollment</th>\n",
       "      <th>language</th>\n",
       "      <th>rating</th>\n",
       "      <th>level</th>\n",
       "      <th>duration</th>\n",
       "      <th>description</th>\n",
       "      <th>skill</th>\n",
       "      <th>instructor</th>\n",
       "      <th>offered by</th>\n",
       "    </tr>\n",
       "  </thead>\n",
       "  <tbody>\n",
       "    <tr>\n",
       "      <th>0</th>\n",
       "      <td>Cyber Threat Intelligence</td>\n",
       "      <td>Information Technology &gt; Security</td>\n",
       "      <td>52,299 already enrolled</td>\n",
       "      <td>Taught in English</td>\n",
       "      <td>4.7</td>\n",
       "      <td>Beginner level</td>\n",
       "      <td>25 hours (approximately)</td>\n",
       "      <td>NaN</td>\n",
       "      <td>Cybersecurity, network defensive tactics, thre...</td>\n",
       "      <td>4.5  {'IBM Skills Network Team'}</td>\n",
       "      <td>IBM</td>\n",
       "    </tr>\n",
       "    <tr>\n",
       "      <th>1</th>\n",
       "      <td>Network Security</td>\n",
       "      <td>Information Technology &gt; Security</td>\n",
       "      <td>6,909 already enrolled</td>\n",
       "      <td>Taught in English</td>\n",
       "      <td>4.7</td>\n",
       "      <td>Beginner level</td>\n",
       "      <td>8 hours (approximately)</td>\n",
       "      <td>NaN</td>\n",
       "      <td>Cyberattacks, Network Security, Threat</td>\n",
       "      <td>4.9  {'(ISC)² Education &amp; Training'}</td>\n",
       "      <td>ISC2</td>\n",
       "    </tr>\n",
       "    <tr>\n",
       "      <th>2</th>\n",
       "      <td>Security Principles</td>\n",
       "      <td>Information Technology &gt; Security</td>\n",
       "      <td>12,400 already enrolled</td>\n",
       "      <td>Taught in English</td>\n",
       "      <td>4.7</td>\n",
       "      <td>Beginner level</td>\n",
       "      <td>5 hours (approximately)</td>\n",
       "      <td>NaN</td>\n",
       "      <td>Risk, security, governance, Information Assurance</td>\n",
       "      <td>4.6  {'(ISC)² Education &amp; Training'}</td>\n",
       "      <td>ISC2</td>\n",
       "    </tr>\n",
       "    <tr>\n",
       "      <th>3</th>\n",
       "      <td>Grow Your Business with Goldman Sachs 10,000 W...</td>\n",
       "      <td>Business &gt; Entrepreneurship</td>\n",
       "      <td>50,738 already enrolled</td>\n",
       "      <td>Taught in English</td>\n",
       "      <td>4.8</td>\n",
       "      <td>NaN</td>\n",
       "      <td>Approx. 4 hours to complete</td>\n",
       "      <td>Develop your community and discuss the value o...</td>\n",
       "      <td>None</td>\n",
       "      <td>None</td>\n",
       "      <td>None</td>\n",
       "    </tr>\n",
       "    <tr>\n",
       "      <th>4</th>\n",
       "      <td>Explore a potential growth opportunity for yo...</td>\n",
       "      <td>Opportunity Identification, Strategic Thinking...</td>\n",
       "      <td>4.8  {'Mori Taheripour', 'Goldman Sachs 10,000...</td>\n",
       "      <td>Goldman Sachs</td>\n",
       "      <td>NaN</td>\n",
       "      <td>None</td>\n",
       "      <td>None</td>\n",
       "      <td>None</td>\n",
       "      <td>None</td>\n",
       "      <td>None</td>\n",
       "      <td>None</td>\n",
       "    </tr>\n",
       "  </tbody>\n",
       "</table>\n",
       "</div>"
      ],
      "text/plain": [
       "                                                name  \\\n",
       "0                          Cyber Threat Intelligence   \n",
       "1                                   Network Security   \n",
       "2                                Security Principles   \n",
       "3  Grow Your Business with Goldman Sachs 10,000 W...   \n",
       "4   Explore a potential growth opportunity for yo...   \n",
       "\n",
       "                                               field  \\\n",
       "0                  Information Technology > Security   \n",
       "1                  Information Technology > Security   \n",
       "2                  Information Technology > Security   \n",
       "3                        Business > Entrepreneurship   \n",
       "4  Opportunity Identification, Strategic Thinking...   \n",
       "\n",
       "                                          enrollment           language  \\\n",
       "0                            52,299 already enrolled  Taught in English   \n",
       "1                             6,909 already enrolled  Taught in English   \n",
       "2                            12,400 already enrolled  Taught in English   \n",
       "3                            50,738 already enrolled  Taught in English   \n",
       "4  4.8  {'Mori Taheripour', 'Goldman Sachs 10,000...      Goldman Sachs   \n",
       "\n",
       "   rating           level                     duration  \\\n",
       "0     4.7  Beginner level     25 hours (approximately)   \n",
       "1     4.7  Beginner level      8 hours (approximately)   \n",
       "2     4.7  Beginner level      5 hours (approximately)   \n",
       "3     4.8             NaN  Approx. 4 hours to complete   \n",
       "4     NaN            None                         None   \n",
       "\n",
       "                                         description  \\\n",
       "0                                                NaN   \n",
       "1                                                NaN   \n",
       "2                                                NaN   \n",
       "3  Develop your community and discuss the value o...   \n",
       "4                                               None   \n",
       "\n",
       "                                               skill  \\\n",
       "0  Cybersecurity, network defensive tactics, thre...   \n",
       "1             Cyberattacks, Network Security, Threat   \n",
       "2  Risk, security, governance, Information Assurance   \n",
       "3                                               None   \n",
       "4                                               None   \n",
       "\n",
       "                             instructor offered by  \n",
       "0      4.5  {'IBM Skills Network Team'}        IBM  \n",
       "1  4.9  {'(ISC)² Education & Training'}       ISC2  \n",
       "2  4.6  {'(ISC)² Education & Training'}       ISC2  \n",
       "3                                  None       None  \n",
       "4                                  None       None  "
      ]
     },
     "execution_count": 3,
     "metadata": {},
     "output_type": "execute_result"
    }
   ],
   "source": [
    "raw_df.head(5)"
   ]
  },
  {
   "cell_type": "markdown",
   "metadata": {},
   "source": [
    "### What does each column mean?\n",
    "    - name: Name of course.\n",
    "    - field: field or domain knowledge which course provides.\n",
    "    - enrollment: number of student enter in course.\n",
    "    - language: language provided by the course.\n",
    "    - rating: average rating of this course.\n",
    "    - level: suggested level of learners to know whether they are suitable with this course or not.\n",
    "    - duration: approximate time to complete this course.\n",
    "    - description: describe the content and topics student can learn in the course.\n",
    "    - skill: some skill, technical that student gain after complete the course.\n",
    "    - instructor: teacher who teach this course.\n",
    "    - offered by: university provide this course."
   ]
  },
  {
   "cell_type": "markdown",
   "metadata": {},
   "source": [
    "### How many rows and how many columns does the raw data have? "
   ]
  },
  {
   "cell_type": "code",
   "execution_count": 4,
   "metadata": {},
   "outputs": [
    {
     "data": {
      "text/plain": [
       "(8014, 11)"
      ]
     },
     "execution_count": 4,
     "metadata": {},
     "output_type": "execute_result"
    }
   ],
   "source": [
    "raw_df.shape"
   ]
  },
  {
   "cell_type": "markdown",
   "metadata": {},
   "source": [
    "### Are there any columns need to drop?"
   ]
  },
  {
   "cell_type": "markdown",
   "metadata": {},
   "source": [
    "There are two columns `description`, `skill`. Both of them has high ratio of missing value (about 50%) and values in each column are long strings which cause difficulty to process or to get keywords so we will drop these two columns."
   ]
  },
  {
   "cell_type": "code",
   "execution_count": 5,
   "metadata": {},
   "outputs": [],
   "source": [
    "# Drop description, skill columns\n",
    "raw_df.drop(['description','skill'], axis = 1, inplace=True)"
   ]
  },
  {
   "cell_type": "markdown",
   "metadata": {},
   "source": [
    "### Does the raw data have duplicate rows?"
   ]
  },
  {
   "cell_type": "markdown",
   "metadata": {},
   "source": [
    "Check data if they has duplicated rows then store in the variable `is_duplicated`. If the variable is True, drop these rows (the first line is not counted as repeated)."
   ]
  },
  {
   "cell_type": "code",
   "execution_count": 6,
   "metadata": {},
   "outputs": [
    {
     "name": "stdout",
     "output_type": "stream",
     "text": [
      "Data have duplicated. Please de-deduplicate it.!\n"
     ]
    }
   ],
   "source": [
    "is_duplicate = raw_df.duplicated().any()\n",
    "if is_duplicate:\n",
    "    print(f\"Data have duplicated. Please de-deduplicate it.!\")\n",
    "else:\n",
    "    print(f\"Data have no duplicated row.\")"
   ]
  },
  {
   "cell_type": "markdown",
   "metadata": {},
   "source": [
    "### Delete duplicated row"
   ]
  },
  {
   "cell_type": "code",
   "execution_count": 7,
   "metadata": {},
   "outputs": [],
   "source": [
    "# Drop dupliacated row\n",
    "raw_df.drop_duplicates(inplace=True)"
   ]
  },
  {
   "cell_type": "code",
   "execution_count": 8,
   "metadata": {},
   "outputs": [
    {
     "data": {
      "text/plain": [
       "(8010, 9)"
      ]
     },
     "execution_count": 8,
     "metadata": {},
     "output_type": "execute_result"
    }
   ],
   "source": [
    "raw_df.shape"
   ]
  },
  {
   "cell_type": "markdown",
   "metadata": {},
   "source": [
    "### What data type does each column currently have? Are there any columns whose data types are not suitable for further processing? "
   ]
  },
  {
   "cell_type": "code",
   "execution_count": 9,
   "metadata": {},
   "outputs": [
    {
     "name": "stdout",
     "output_type": "stream",
     "text": [
      "<class 'pandas.core.frame.DataFrame'>\n",
      "Index: 8010 entries, 0 to 8013\n",
      "Data columns (total 9 columns):\n",
      " #   Column      Non-Null Count  Dtype  \n",
      "---  ------      --------------  -----  \n",
      " 0   name        8004 non-null   object \n",
      " 1   field       7986 non-null   object \n",
      " 2   enrollment  5468 non-null   object \n",
      " 3   language    7991 non-null   object \n",
      " 4   rating      5718 non-null   float64\n",
      " 5   level       6640 non-null   object \n",
      " 6   duration    7975 non-null   object \n",
      " 7   instructor  7959 non-null   object \n",
      " 8   offered by  7959 non-null   object \n",
      "dtypes: float64(1), object(8)\n",
      "memory usage: 625.8+ KB\n"
     ]
    }
   ],
   "source": [
    "raw_df.info()"
   ]
  },
  {
   "cell_type": "markdown",
   "metadata": {},
   "source": [
    "### Process unsuitable type to numeric"
   ]
  },
  {
   "cell_type": "markdown",
   "metadata": {},
   "source": [
    "- First, we will parse the `duration`and `enrollment` columns to get their numeric values. Then both will convert to `int`.\n",
    "\n",
    "- We also split `instructor` column.\n",
    "    - Let's take a look at this columns, it has a pair of values: rating score of instructor and instructor.\n",
    "    - We will split it into two columns: `instructor ` and  `instructor_rate`.\n",
    "    - They have `object` and `float` respectively."
   ]
  },
  {
   "cell_type": "code",
   "execution_count": 10,
   "metadata": {},
   "outputs": [],
   "source": [
    "# Get the numeric of enrollment\n",
    "raw_df['enrollment'] = raw_df['enrollment'].replace(to_replace=[None], value=np.nan)\n",
    "raw_df['enrollment'] = raw_df['enrollment'].str.extract('(\\d+,\\d+)')\n",
    "try:\n",
    "    raw_df['enrollment'] = pd.to_numeric(raw_df['enrollment'].replace(',', '', regex=True), errors='coerce').astype('Int64')\n",
    "except ValueError:\n",
    "    raw_df['enrollment'] = None\n",
    "\n",
    "# Get the numeric of duration\n",
    "raw_df['duration'] = raw_df['duration'].replace(to_replace=[None], value=np.nan)\n",
    "raw_df['duration'] = raw_df['duration'].str.extract('(\\d+)')\n",
    "try:\n",
    "    raw_df['duration'] = pd.to_numeric(raw_df['duration'], errors='coerce').astype('Int64')\n",
    "except ValueError:\n",
    "    raw_df['duration'] = None"
   ]
  },
  {
   "cell_type": "code",
   "execution_count": 11,
   "metadata": {},
   "outputs": [],
   "source": [
    "# Split instructor  into  instructor and  instructor_rate\n",
    "raw_df['instructor_rate'] = raw_df['instructor'].str.replace(r'\\{(.+)\\}', '', regex=True)\n",
    "raw_df['instructor_rate'] = raw_df['instructor_rate'].str.strip()\n",
    "\n",
    "raw_df['instructor'] = raw_df['instructor'].str.extract(r'\\{(.+)\\}')\n",
    "raw_df['instructor'] = raw_df['instructor'].str.replace(\"'\", '')\n",
    "\n",
    "# Astype 'instructor_rate' to float\n",
    "raw_df['instructor_rate'] = pd.to_numeric(raw_df['instructor_rate'], errors='coerce')\n",
    "raw_df['instructor_rate'] = raw_df['instructor_rate'].astype(float)\n"
   ]
  },
  {
   "cell_type": "code",
   "execution_count": 12,
   "metadata": {},
   "outputs": [
    {
     "name": "stdout",
     "output_type": "stream",
     "text": [
      "<class 'pandas.core.frame.DataFrame'>\n",
      "Index: 8010 entries, 0 to 8013\n",
      "Data columns (total 10 columns):\n",
      " #   Column           Non-Null Count  Dtype  \n",
      "---  ------           --------------  -----  \n",
      " 0   name             8004 non-null   object \n",
      " 1   field            7986 non-null   object \n",
      " 2   enrollment       5453 non-null   Int64  \n",
      " 3   language         7991 non-null   object \n",
      " 4   rating           5718 non-null   float64\n",
      " 5   level            6640 non-null   object \n",
      " 6   duration         7975 non-null   Int64  \n",
      " 7   instructor       7959 non-null   object \n",
      " 8   offered by       7959 non-null   object \n",
      " 9   instructor_rate  5121 non-null   float64\n",
      "dtypes: Int64(2), float64(2), object(6)\n",
      "memory usage: 704.0+ KB\n"
     ]
    }
   ],
   "source": [
    "#test \n",
    "raw_df.info()"
   ]
  },
  {
   "cell_type": "markdown",
   "metadata": {},
   "source": [
    "### We completed to convert numeric columns. \n",
    "\n",
    "### For each column with numeric data type, how are the values distributed?"
   ]
  },
  {
   "cell_type": "markdown",
   "metadata": {},
   "source": [
    "For columns with numeric data types, we will calculate:\n",
    "- Percentage (from 0 to 100) of missing values\n",
    "- The min\n",
    "- The lower quartile (phân vị 25)\n",
    "- The median (phân vị 50)\n",
    "- The upper quartile (phân vị 75)\n",
    "- The max\n",
    "\n",
    "The results will be saved to a DataFrame `num_col_info_df`, where:\n",
    "- The names of the columns are the names of the numeric columns in `raw_df`\n",
    "- Names of rows: \"missing_ratio\", \"min\", \"lower_quartile\", \"median\", \"upper_quartile\", \"max\"  \n",
    "\n",
    "For ease of viewing, you round all values to 1 decimal place using the `.round(1)` method."
   ]
  },
  {
   "cell_type": "code",
   "execution_count": 13,
   "metadata": {},
   "outputs": [],
   "source": [
    "def missing_ratio(df):\n",
    "    return (df.isnull().sum()*100/len(df)).round(1)\n",
    "\n",
    "def lower_quartile(df):\n",
    "    return df.quantile(0.25).round(1)\n",
    "\n",
    "def median(df):\n",
    "    return df.quantile(0.5).round(1)\n",
    "\n",
    "def upper_quartile(df):\n",
    "    return df.quantile(0.75).round(1)"
   ]
  },
  {
   "cell_type": "code",
   "execution_count": 14,
   "metadata": {},
   "outputs": [],
   "source": [
    "# YOUR CODE HERE\n",
    "num_col_info_df = raw_df.select_dtypes(include=np.number)\n",
    "num_col_info_df = num_col_info_df.agg([missing_ratio, \"min\", lower_quartile, median, upper_quartile, \"max\"])"
   ]
  },
  {
   "cell_type": "code",
   "execution_count": 15,
   "metadata": {},
   "outputs": [
    {
     "data": {
      "text/html": [
       "<div>\n",
       "<style scoped>\n",
       "    .dataframe tbody tr th:only-of-type {\n",
       "        vertical-align: middle;\n",
       "    }\n",
       "\n",
       "    .dataframe tbody tr th {\n",
       "        vertical-align: top;\n",
       "    }\n",
       "\n",
       "    .dataframe thead th {\n",
       "        text-align: right;\n",
       "    }\n",
       "</style>\n",
       "<table border=\"1\" class=\"dataframe\">\n",
       "  <thead>\n",
       "    <tr style=\"text-align: right;\">\n",
       "      <th></th>\n",
       "      <th>enrollment</th>\n",
       "      <th>rating</th>\n",
       "      <th>duration</th>\n",
       "      <th>instructor_rate</th>\n",
       "    </tr>\n",
       "  </thead>\n",
       "  <tbody>\n",
       "    <tr>\n",
       "      <th>missing_ratio</th>\n",
       "      <td>31.9</td>\n",
       "      <td>28.6</td>\n",
       "      <td>0.4</td>\n",
       "      <td>36.1</td>\n",
       "    </tr>\n",
       "    <tr>\n",
       "      <th>min</th>\n",
       "      <td>1002.0</td>\n",
       "      <td>3.0</td>\n",
       "      <td>1.0</td>\n",
       "      <td>1.4</td>\n",
       "    </tr>\n",
       "    <tr>\n",
       "      <th>lower_quartile</th>\n",
       "      <td>4710.0</td>\n",
       "      <td>4.6</td>\n",
       "      <td>8.0</td>\n",
       "      <td>4.6</td>\n",
       "    </tr>\n",
       "    <tr>\n",
       "      <th>median</th>\n",
       "      <td>13220.0</td>\n",
       "      <td>4.7</td>\n",
       "      <td>13.0</td>\n",
       "      <td>4.7</td>\n",
       "    </tr>\n",
       "    <tr>\n",
       "      <th>upper_quartile</th>\n",
       "      <td>36281.0</td>\n",
       "      <td>4.8</td>\n",
       "      <td>20.0</td>\n",
       "      <td>4.8</td>\n",
       "    </tr>\n",
       "    <tr>\n",
       "      <th>max</th>\n",
       "      <td>973927.0</td>\n",
       "      <td>5.0</td>\n",
       "      <td>127.0</td>\n",
       "      <td>5.0</td>\n",
       "    </tr>\n",
       "  </tbody>\n",
       "</table>\n",
       "</div>"
      ],
      "text/plain": [
       "                enrollment  rating  duration  instructor_rate\n",
       "missing_ratio         31.9    28.6       0.4             36.1\n",
       "min                 1002.0     3.0       1.0              1.4\n",
       "lower_quartile      4710.0     4.6       8.0              4.6\n",
       "median             13220.0     4.7      13.0              4.7\n",
       "upper_quartile     36281.0     4.8      20.0              4.8\n",
       "max               973927.0     5.0     127.0              5.0"
      ]
     },
     "execution_count": 15,
     "metadata": {},
     "output_type": "execute_result"
    }
   ],
   "source": [
    "num_col_info_df"
   ]
  },
  {
   "cell_type": "markdown",
   "metadata": {},
   "source": [
    "Let's take a look at the table. We have there columns has quite high missing ratio but for futher processing (training, analyzing..) we will **drop** all rows that have none rating value."
   ]
  },
  {
   "cell_type": "code",
   "execution_count": 16,
   "metadata": {},
   "outputs": [
    {
     "data": {
      "text/plain": [
       "(5718, 10)"
      ]
     },
     "execution_count": 16,
     "metadata": {},
     "output_type": "execute_result"
    }
   ],
   "source": [
    "# drop rows with none rating\n",
    "raw_df.dropna(subset=['rating'], inplace=True)\n",
    "raw_df.shape "
   ]
  },
  {
   "cell_type": "markdown",
   "metadata": {},
   "source": [
    "Now, take a look again DataFrame `num_col_info_df`."
   ]
  },
  {
   "cell_type": "code",
   "execution_count": 17,
   "metadata": {},
   "outputs": [
    {
     "data": {
      "text/html": [
       "<div>\n",
       "<style scoped>\n",
       "    .dataframe tbody tr th:only-of-type {\n",
       "        vertical-align: middle;\n",
       "    }\n",
       "\n",
       "    .dataframe tbody tr th {\n",
       "        vertical-align: top;\n",
       "    }\n",
       "\n",
       "    .dataframe thead th {\n",
       "        text-align: right;\n",
       "    }\n",
       "</style>\n",
       "<table border=\"1\" class=\"dataframe\">\n",
       "  <thead>\n",
       "    <tr style=\"text-align: right;\">\n",
       "      <th></th>\n",
       "      <th>enrollment</th>\n",
       "      <th>rating</th>\n",
       "      <th>duration</th>\n",
       "      <th>instructor_rate</th>\n",
       "    </tr>\n",
       "  </thead>\n",
       "  <tbody>\n",
       "    <tr>\n",
       "      <th>missing_ratio</th>\n",
       "      <td>7.7</td>\n",
       "      <td>0.0</td>\n",
       "      <td>0.0</td>\n",
       "      <td>11.2</td>\n",
       "    </tr>\n",
       "    <tr>\n",
       "      <th>min</th>\n",
       "      <td>1002.0</td>\n",
       "      <td>3.0</td>\n",
       "      <td>1.0</td>\n",
       "      <td>1.7</td>\n",
       "    </tr>\n",
       "    <tr>\n",
       "      <th>lower_quartile</th>\n",
       "      <td>5124.0</td>\n",
       "      <td>4.6</td>\n",
       "      <td>9.0</td>\n",
       "      <td>4.6</td>\n",
       "    </tr>\n",
       "    <tr>\n",
       "      <th>median</th>\n",
       "      <td>13926.0</td>\n",
       "      <td>4.7</td>\n",
       "      <td>14.0</td>\n",
       "      <td>4.7</td>\n",
       "    </tr>\n",
       "    <tr>\n",
       "      <th>upper_quartile</th>\n",
       "      <td>37704.0</td>\n",
       "      <td>4.8</td>\n",
       "      <td>20.0</td>\n",
       "      <td>4.8</td>\n",
       "    </tr>\n",
       "    <tr>\n",
       "      <th>max</th>\n",
       "      <td>973927.0</td>\n",
       "      <td>5.0</td>\n",
       "      <td>127.0</td>\n",
       "      <td>5.0</td>\n",
       "    </tr>\n",
       "  </tbody>\n",
       "</table>\n",
       "</div>"
      ],
      "text/plain": [
       "                enrollment  rating  duration  instructor_rate\n",
       "missing_ratio          7.7     0.0       0.0             11.2\n",
       "min                 1002.0     3.0       1.0              1.7\n",
       "lower_quartile      5124.0     4.6       9.0              4.6\n",
       "median             13926.0     4.7      14.0              4.7\n",
       "upper_quartile     37704.0     4.8      20.0              4.8\n",
       "max               973927.0     5.0     127.0              5.0"
      ]
     },
     "execution_count": 17,
     "metadata": {},
     "output_type": "execute_result"
    }
   ],
   "source": [
    "# YOUR CODE HERE\n",
    "num_col_info_df = raw_df.select_dtypes(include=np.number)\n",
    "num_col_info_df = num_col_info_df.agg([missing_ratio, \"min\", lower_quartile, median, upper_quartile, \"max\"])\n",
    "num_col_info_df"
   ]
  },
  {
   "cell_type": "markdown",
   "metadata": {},
   "source": [
    "After remove useless rows, our dataframe still have missing values. So that, we need to fill these missing values so that they can be used in analysis.\n",
    "\n",
    "- Fill `enrollment` and `instructor_rate` by median."
   ]
  },
  {
   "cell_type": "code",
   "execution_count": 18,
   "metadata": {},
   "outputs": [],
   "source": [
    "def filling_missing_value(df: pd.DataFrame) -> pd.DataFrame:\n",
    "    \"\"\"Filling missing features from Pandas dataframe\n",
    "    \n",
    "    The first, you need to replace all None values with NaN, fillna only works on nans.\n",
    "    \n",
    "    After that, you replace all NaN values with the mean of the column values.\n",
    "\n",
    "    Args:\n",
    "        df (pd.DataFrame): Input dataframe for processing.\n",
    "\n",
    "    Returns:\n",
    "        pd.DataFrame: Updated dataframe\n",
    "    \"\"\"\n",
    "    numeric_cols = df.select_dtypes(exclude='object').columns   # choose numeric columns\n",
    "    df[numeric_cols] = df[numeric_cols].replace(to_replace=[None], value=np.nan)\n",
    "    df[numeric_cols] = df[numeric_cols].fillna(df[numeric_cols].median())\n",
    "    return df"
   ]
  },
  {
   "cell_type": "code",
   "execution_count": 19,
   "metadata": {},
   "outputs": [],
   "source": [
    "raw_df = filling_missing_value(df = raw_df)"
   ]
  },
  {
   "cell_type": "code",
   "execution_count": 20,
   "metadata": {},
   "outputs": [
    {
     "data": {
      "text/html": [
       "<div>\n",
       "<style scoped>\n",
       "    .dataframe tbody tr th:only-of-type {\n",
       "        vertical-align: middle;\n",
       "    }\n",
       "\n",
       "    .dataframe tbody tr th {\n",
       "        vertical-align: top;\n",
       "    }\n",
       "\n",
       "    .dataframe thead th {\n",
       "        text-align: right;\n",
       "    }\n",
       "</style>\n",
       "<table border=\"1\" class=\"dataframe\">\n",
       "  <thead>\n",
       "    <tr style=\"text-align: right;\">\n",
       "      <th></th>\n",
       "      <th>enrollment</th>\n",
       "      <th>rating</th>\n",
       "      <th>duration</th>\n",
       "      <th>instructor_rate</th>\n",
       "    </tr>\n",
       "  </thead>\n",
       "  <tbody>\n",
       "    <tr>\n",
       "      <th>missing_ratio</th>\n",
       "      <td>0.0</td>\n",
       "      <td>0.0</td>\n",
       "      <td>0.0</td>\n",
       "      <td>0.0</td>\n",
       "    </tr>\n",
       "    <tr>\n",
       "      <th>min</th>\n",
       "      <td>1002.0</td>\n",
       "      <td>3.0</td>\n",
       "      <td>1.0</td>\n",
       "      <td>1.7</td>\n",
       "    </tr>\n",
       "    <tr>\n",
       "      <th>lower_quartile</th>\n",
       "      <td>5612.5</td>\n",
       "      <td>4.6</td>\n",
       "      <td>9.0</td>\n",
       "      <td>4.6</td>\n",
       "    </tr>\n",
       "    <tr>\n",
       "      <th>median</th>\n",
       "      <td>13926.0</td>\n",
       "      <td>4.7</td>\n",
       "      <td>14.0</td>\n",
       "      <td>4.7</td>\n",
       "    </tr>\n",
       "    <tr>\n",
       "      <th>upper_quartile</th>\n",
       "      <td>34392.0</td>\n",
       "      <td>4.8</td>\n",
       "      <td>20.0</td>\n",
       "      <td>4.8</td>\n",
       "    </tr>\n",
       "    <tr>\n",
       "      <th>max</th>\n",
       "      <td>973927.0</td>\n",
       "      <td>5.0</td>\n",
       "      <td>127.0</td>\n",
       "      <td>5.0</td>\n",
       "    </tr>\n",
       "  </tbody>\n",
       "</table>\n",
       "</div>"
      ],
      "text/plain": [
       "                enrollment  rating  duration  instructor_rate\n",
       "missing_ratio          0.0     0.0       0.0              0.0\n",
       "min                 1002.0     3.0       1.0              1.7\n",
       "lower_quartile      5612.5     4.6       9.0              4.6\n",
       "median             13926.0     4.7      14.0              4.7\n",
       "upper_quartile     34392.0     4.8      20.0              4.8\n",
       "max               973927.0     5.0     127.0              5.0"
      ]
     },
     "execution_count": 20,
     "metadata": {},
     "output_type": "execute_result"
    }
   ],
   "source": [
    "# TEST\n",
    "raw_df.select_dtypes(exclude='object').agg([missing_ratio, \"min\", lower_quartile, median, upper_quartile, \"max\"])"
   ]
  },
  {
   "cell_type": "code",
   "execution_count": 21,
   "metadata": {},
   "outputs": [
    {
     "data": {
      "image/png": "[encoded data removed]",
      "text/plain": [
       "<Figure size 1200x800 with 4 Axes>"
      ]
     },
     "metadata": {},
     "output_type": "display_data"
    }
   ],
   "source": [
    "fig, axes = plt.subplots(nrows=2, ncols=2, figsize=(12, 8))\n",
    "\n",
    "axes[0, 0].boxplot(raw_df['enrollment'])\n",
    "axes[0, 0].set_title('Enrollment')\n",
    "\n",
    "axes[0, 1].boxplot(raw_df['rating'])\n",
    "axes[0, 1].set_title('Rating')\n",
    "\n",
    "axes[1, 0].boxplot(raw_df['duration'])\n",
    "axes[1, 0].set_title('Duration')\n",
    "\n",
    "axes[1, 1].boxplot(raw_df['instructor_rate'])\n",
    "axes[1, 1].set_title('Instructor Rate')\n",
    "\n",
    "plt.tight_layout()\n",
    "plt.show()"
   ]
  },
  {
   "cell_type": "code",
   "execution_count": 22,
   "metadata": {},
   "outputs": [],
   "source": [
    "# # handle for duration\n",
    "# Q1 = raw_df['duration'].quantile(0.25)\n",
    "# Q3 = raw_df['duration'].quantile(0.75)\n",
    "\n",
    "# IQR = Q3 - Q1\n",
    "\n",
    "# lower_bound = Q1 - 1.5*IQR\n",
    "# upper_bound = Q3 + 1.5*IQR\n",
    "\n",
    "# # Cap values above the upper bound\n",
    "# raw_df.loc[raw_df['duration'] > upper_bound, 'duration'] = int(upper_bound)\n",
    "# print(upper_bound)\n",
    "# # Cap values below the lower bound to 0\n",
    "# raw_df.loc[raw_df['duration'] < lower_bound, 'duration'] = max(int(lower_bound), 0)\n",
    "\n",
    "\n",
    "# # # handle for enrollment\n",
    "# Q1 = raw_df['enrollment'].quantile(0.25)\n",
    "# Q3 = raw_df['enrollment'].quantile(0.75)\n",
    "\n",
    "# IQR = Q3 - Q1\n",
    "\n",
    "# lower_bound = Q1 - 1.5*IQR\n",
    "# upper_bound = Q3 + 1.5*IQR\n",
    "\n",
    "# # Cap values above the upper bound to int(upper_bound)\n",
    "# raw_df.loc[raw_df['enrollment'] > upper_bound, 'enrollment'] = int(upper_bound)\n",
    "\n",
    "# # Cap values below the lower bound to max(int(lower_bound), 0)\n",
    "# raw_df.loc[raw_df['enrollment'] < lower_bound, 'enrollment'] = max(int(lower_bound), 0)\n",
    "\n",
    "\n",
    "# print(raw_df.loc[raw_df['duration'] < lower_bound, 'duration'].sum())"
   ]
  },
  {
   "cell_type": "code",
   "execution_count": 23,
   "metadata": {},
   "outputs": [
    {
     "data": {
      "text/plain": [
       "Text(0.5, 1.0, 'Duration')"
      ]
     },
     "execution_count": 23,
     "metadata": {},
     "output_type": "execute_result"
    },
    {
     "data": {
      "image/png": "[encoded data removed]",
      "text/plain": [
       "<Figure size 800x1200 with 2 Axes>"
      ]
     },
     "metadata": {},
     "output_type": "display_data"
    }
   ],
   "source": [
    "fig, axes = plt.subplots(nrows=2, ncols=1, figsize=(8,12))\n",
    "\n",
    "# Box plot with histogram 'enrollment'\n",
    "axes[0].boxplot(raw_df['enrollment'])\n",
    "axes[0].set_title('Enrollment')\n",
    "# axes[0].get_yaxis().set_visible(False)\n",
    "# Box plot with histogram 'duration'\n",
    "axes[1].boxplot(raw_df['duration'])\n",
    "axes[1].set_title('Duration')\n",
    "# axes[1].get_yaxis().set_visible(False)\n"
   ]
  },
  {
   "cell_type": "markdown",
   "metadata": {},
   "source": [
    "### Preprocess non numeric columns"
   ]
  },
  {
   "cell_type": "markdown",
   "metadata": {},
   "source": [
    "Value in `field` column has the same format: `general_field` > `specitfy_field`.\n",
    "- For analyzing, we will **split** `field` into two columns `general` and `specify`.\n",
    "- Then drop `field` columns"
   ]
  },
  {
   "cell_type": "code",
   "execution_count": 24,
   "metadata": {},
   "outputs": [],
   "source": [
    "# split into two columns\n",
    "raw_df[['general', 'specify']] = raw_df['field'].str.split(' > ', expand = True)\n",
    "\n",
    "# drop field column\n",
    "raw_df.drop(['field'], axis= 1,inplace=True)"
   ]
  },
  {
   "cell_type": "code",
   "execution_count": 25,
   "metadata": {},
   "outputs": [
    {
     "data": {
      "text/plain": [
       "Index(['name', 'enrollment', 'language', 'rating', 'level', 'duration',\n",
       "       'instructor', 'offered by', 'instructor_rate', 'general', 'specify'],\n",
       "      dtype='object')"
      ]
     },
     "execution_count": 25,
     "metadata": {},
     "output_type": "execute_result"
    }
   ],
   "source": [
    "# test \n",
    "raw_df.columns"
   ]
  },
  {
   "cell_type": "markdown",
   "metadata": {},
   "source": [
    "### For each column with a non-numeric data type, how are the values distributed?"
   ]
  },
  {
   "cell_type": "markdown",
   "metadata": {},
   "source": [
    "For columns with non-numeric data types, calculate:\n",
    "- Percentage (from 0 to 100) of missing values\n",
    "- Number of values (the values here are different values and we do not consider missing values): with columns whose type is categorical, it is a set with a finite number of categories. \n",
    "- The percentage (from 0 to 100) of each value is sorted by decreasing percentage (we do not consider missing values, the ratio is the ratio compared to the number of non-missing values): use a dictionary to store , key is the value, value is the percentage; With the column corresponding to each type, the method is similar to above.\n",
    "\n",
    "Results are saves to DataFrame `cat_col_info_df`, where:\n",
    "- The names of the columns are the names of the non-numeric columns in `raw_df`\n",
    "- The names of the lines are: \"missing_ratio\", \"num_values\", \"value_ratios\"\n",
    "\n"
   ]
  },
  {
   "cell_type": "code",
   "execution_count": 26,
   "metadata": {},
   "outputs": [],
   "source": [
    "def num_values(df):\n",
    "    return df.nunique()\n",
    "def value_ratios(df):\n",
    "    value_counts = df.value_counts(normalize=True)*100\n",
    "    value_ratios = value_counts.round(1).to_dict()\n",
    "    value_ratios = dict(sorted(value_ratios.items(), key=lambda item: item[1], reverse=True))\n",
    "    return value_ratios"
   ]
  },
  {
   "cell_type": "code",
   "execution_count": 27,
   "metadata": {},
   "outputs": [],
   "source": [
    "pd.set_option('display.max_colwidth', 100) # For clearly"
   ]
  },
  {
   "cell_type": "code",
   "execution_count": 28,
   "metadata": {},
   "outputs": [
    {
     "data": {
      "text/html": [
       "<div>\n",
       "<style scoped>\n",
       "    .dataframe tbody tr th:only-of-type {\n",
       "        vertical-align: middle;\n",
       "    }\n",
       "\n",
       "    .dataframe tbody tr th {\n",
       "        vertical-align: top;\n",
       "    }\n",
       "\n",
       "    .dataframe thead th {\n",
       "        text-align: right;\n",
       "    }\n",
       "</style>\n",
       "<table border=\"1\" class=\"dataframe\">\n",
       "  <thead>\n",
       "    <tr style=\"text-align: right;\">\n",
       "      <th></th>\n",
       "      <th>language</th>\n",
       "      <th>level</th>\n",
       "      <th>instructor</th>\n",
       "      <th>offered by</th>\n",
       "      <th>general</th>\n",
       "      <th>specify</th>\n",
       "    </tr>\n",
       "  </thead>\n",
       "  <tbody>\n",
       "    <tr>\n",
       "      <th>missing_ratio</th>\n",
       "      <td>0.0</td>\n",
       "      <td>20.6</td>\n",
       "      <td>0.3</td>\n",
       "      <td>0.3</td>\n",
       "      <td>0.0</td>\n",
       "      <td>0.0</td>\n",
       "    </tr>\n",
       "    <tr>\n",
       "      <th>num_values</th>\n",
       "      <td>20</td>\n",
       "      <td>3</td>\n",
       "      <td>3030</td>\n",
       "      <td>331</td>\n",
       "      <td>11</td>\n",
       "      <td>45</td>\n",
       "    </tr>\n",
       "    <tr>\n",
       "      <th>value_ratios</th>\n",
       "      <td>{'Taught in English': 75.2, 'Taught in Spanish': 11.2, 'Taught in Portuguese (Brazilian)': 2.9, ...</td>\n",
       "      <td>{'Beginner level': 65.0, 'Intermediate level': 31.1, 'Advanced level': 3.9}</td>\n",
       "      <td>{'Google Career Certificates': 3.8, 'Google Cloud Training': 3.4, 'Alfaisal.KLD': 1.1, ' Microso...</td>\n",
       "      <td>{'Google': 4.2, 'Google Cloud': 3.4, 'University of Colorado Boulder': 3.3, 'University of Illin...</td>\n",
       "      <td>{'Business': 25.6, 'Computer Science': 14.7, 'Data Science': 11.0, 'Health': 10.4, 'Physical Sci...</td>\n",
       "      <td>{'Leadership and Management': 7.7, 'Software Development': 6.8, 'Data Analysis': 6.5, 'Business ...</td>\n",
       "    </tr>\n",
       "  </tbody>\n",
       "</table>\n",
       "</div>"
      ],
      "text/plain": [
       "                                                                                                          language  \\\n",
       "missing_ratio                                                                                                  0.0   \n",
       "num_values                                                                                                      20   \n",
       "value_ratios   {'Taught in English': 75.2, 'Taught in Spanish': 11.2, 'Taught in Portuguese (Brazilian)': 2.9, ...   \n",
       "\n",
       "                                                                                     level  \\\n",
       "missing_ratio                                                                         20.6   \n",
       "num_values                                                                               3   \n",
       "value_ratios   {'Beginner level': 65.0, 'Intermediate level': 31.1, 'Advanced level': 3.9}   \n",
       "\n",
       "                                                                                                        instructor  \\\n",
       "missing_ratio                                                                                                  0.3   \n",
       "num_values                                                                                                    3030   \n",
       "value_ratios   {'Google Career Certificates': 3.8, 'Google Cloud Training': 3.4, 'Alfaisal.KLD': 1.1, ' Microso...   \n",
       "\n",
       "                                                                                                        offered by  \\\n",
       "missing_ratio                                                                                                  0.3   \n",
       "num_values                                                                                                     331   \n",
       "value_ratios   {'Google': 4.2, 'Google Cloud': 3.4, 'University of Colorado Boulder': 3.3, 'University of Illin...   \n",
       "\n",
       "                                                                                                           general  \\\n",
       "missing_ratio                                                                                                  0.0   \n",
       "num_values                                                                                                      11   \n",
       "value_ratios   {'Business': 25.6, 'Computer Science': 14.7, 'Data Science': 11.0, 'Health': 10.4, 'Physical Sci...   \n",
       "\n",
       "                                                                                                           specify  \n",
       "missing_ratio                                                                                                  0.0  \n",
       "num_values                                                                                                      45  \n",
       "value_ratios   {'Leadership and Management': 7.7, 'Software Development': 6.8, 'Data Analysis': 6.5, 'Business ...  "
      ]
     },
     "execution_count": 28,
     "metadata": {},
     "output_type": "execute_result"
    }
   ],
   "source": [
    "# YOUR CODE HERE\n",
    "cat_col_info_df = raw_df.select_dtypes(include='object').drop(columns='name')\n",
    "\n",
    "cat_col_info_df = cat_col_info_df.agg([missing_ratio, num_values, value_ratios])\n",
    "cat_col_info_df"
   ]
  },
  {
   "cell_type": "markdown",
   "metadata": {},
   "source": [
    "### Fill missing value in categorical columns"
   ]
  },
  {
   "cell_type": "markdown",
   "metadata": {},
   "source": [
    "In `cat_col_info_df` DataFrame above:\n",
    "- Column `level` has three unique values and still has missing. We will fill None with `Other`.\n",
    "- Remove missing row in other columns."
   ]
  },
  {
   "cell_type": "code",
   "execution_count": 29,
   "metadata": {},
   "outputs": [],
   "source": [
    "# fill none by 'Other'\n",
    "raw_df['level'] = raw_df['level'].fillna('Other')\n",
    "\n",
    "raw_df.dropna(inplace=True)"
   ]
  },
  {
   "cell_type": "code",
   "execution_count": 30,
   "metadata": {},
   "outputs": [
    {
     "data": {
      "text/plain": [
       "0"
      ]
     },
     "execution_count": 30,
     "metadata": {},
     "output_type": "execute_result"
    }
   ],
   "source": [
    "# test\n",
    "raw_df['level'].isnull().sum()"
   ]
  },
  {
   "cell_type": "code",
   "execution_count": 31,
   "metadata": {},
   "outputs": [
    {
     "name": "stdout",
     "output_type": "stream",
     "text": [
      "<class 'pandas.core.frame.DataFrame'>\n",
      "Index: 5702 entries, 0 to 8012\n",
      "Data columns (total 11 columns):\n",
      " #   Column           Non-Null Count  Dtype  \n",
      "---  ------           --------------  -----  \n",
      " 0   name             5702 non-null   object \n",
      " 1   enrollment       5702 non-null   Int64  \n",
      " 2   language         5702 non-null   object \n",
      " 3   rating           5702 non-null   float64\n",
      " 4   level            5702 non-null   object \n",
      " 5   duration         5702 non-null   Int64  \n",
      " 6   instructor       5702 non-null   object \n",
      " 7   offered by       5702 non-null   object \n",
      " 8   instructor_rate  5702 non-null   float64\n",
      " 9   general          5702 non-null   object \n",
      " 10  specify          5702 non-null   object \n",
      "dtypes: Int64(2), float64(2), object(7)\n",
      "memory usage: 545.7+ KB\n"
     ]
    }
   ],
   "source": [
    "raw_df.info()"
   ]
  },
  {
   "cell_type": "markdown",
   "metadata": {},
   "source": [
    "### Which columns can be optimized?"
   ]
  },
  {
   "cell_type": "markdown",
   "metadata": {},
   "source": [
    "Let's take a look at data."
   ]
  },
  {
   "cell_type": "code",
   "execution_count": 32,
   "metadata": {},
   "outputs": [
    {
     "data": {
      "text/html": [
       "<div>\n",
       "<style scoped>\n",
       "    .dataframe tbody tr th:only-of-type {\n",
       "        vertical-align: middle;\n",
       "    }\n",
       "\n",
       "    .dataframe tbody tr th {\n",
       "        vertical-align: top;\n",
       "    }\n",
       "\n",
       "    .dataframe thead th {\n",
       "        text-align: right;\n",
       "    }\n",
       "</style>\n",
       "<table border=\"1\" class=\"dataframe\">\n",
       "  <thead>\n",
       "    <tr style=\"text-align: right;\">\n",
       "      <th></th>\n",
       "      <th>name</th>\n",
       "      <th>enrollment</th>\n",
       "      <th>language</th>\n",
       "      <th>rating</th>\n",
       "      <th>level</th>\n",
       "      <th>duration</th>\n",
       "      <th>instructor</th>\n",
       "      <th>offered by</th>\n",
       "      <th>instructor_rate</th>\n",
       "      <th>general</th>\n",
       "      <th>specify</th>\n",
       "    </tr>\n",
       "  </thead>\n",
       "  <tbody>\n",
       "    <tr>\n",
       "      <th>0</th>\n",
       "      <td>Cyber Threat Intelligence</td>\n",
       "      <td>52299</td>\n",
       "      <td>Taught in English</td>\n",
       "      <td>4.7</td>\n",
       "      <td>Beginner level</td>\n",
       "      <td>25</td>\n",
       "      <td>IBM Skills Network Team</td>\n",
       "      <td>IBM</td>\n",
       "      <td>4.5</td>\n",
       "      <td>Information Technology</td>\n",
       "      <td>Security</td>\n",
       "    </tr>\n",
       "    <tr>\n",
       "      <th>1</th>\n",
       "      <td>Network Security</td>\n",
       "      <td>6909</td>\n",
       "      <td>Taught in English</td>\n",
       "      <td>4.7</td>\n",
       "      <td>Beginner level</td>\n",
       "      <td>8</td>\n",
       "      <td>(ISC)² Education &amp; Training</td>\n",
       "      <td>ISC2</td>\n",
       "      <td>4.9</td>\n",
       "      <td>Information Technology</td>\n",
       "      <td>Security</td>\n",
       "    </tr>\n",
       "    <tr>\n",
       "      <th>2</th>\n",
       "      <td>Security Principles</td>\n",
       "      <td>12400</td>\n",
       "      <td>Taught in English</td>\n",
       "      <td>4.7</td>\n",
       "      <td>Beginner level</td>\n",
       "      <td>5</td>\n",
       "      <td>(ISC)² Education &amp; Training</td>\n",
       "      <td>ISC2</td>\n",
       "      <td>4.6</td>\n",
       "      <td>Information Technology</td>\n",
       "      <td>Security</td>\n",
       "    </tr>\n",
       "    <tr>\n",
       "      <th>6</th>\n",
       "      <td>Fundamentals of Negotiation, with Goldman Sachs 10,000 Women</td>\n",
       "      <td>20097</td>\n",
       "      <td>Taught in English</td>\n",
       "      <td>4.6</td>\n",
       "      <td>Other</td>\n",
       "      <td>4</td>\n",
       "      <td>Mori Taheripour, Goldman Sachs 10,000 Women, Edward David, Geetha Krishnan, Michael Fetters, Ann...</td>\n",
       "      <td>Goldman Sachs</td>\n",
       "      <td>4.6</td>\n",
       "      <td>Business</td>\n",
       "      <td>Entrepreneurship</td>\n",
       "    </tr>\n",
       "  </tbody>\n",
       "</table>\n",
       "</div>"
      ],
      "text/plain": [
       "                                                           name  enrollment  \\\n",
       "0                                     Cyber Threat Intelligence       52299   \n",
       "1                                              Network Security        6909   \n",
       "2                                           Security Principles       12400   \n",
       "6  Fundamentals of Negotiation, with Goldman Sachs 10,000 Women       20097   \n",
       "\n",
       "            language  rating           level  duration  \\\n",
       "0  Taught in English     4.7  Beginner level        25   \n",
       "1  Taught in English     4.7  Beginner level         8   \n",
       "2  Taught in English     4.7  Beginner level         5   \n",
       "6  Taught in English     4.6           Other         4   \n",
       "\n",
       "                                                                                            instructor  \\\n",
       "0                                                                              IBM Skills Network Team   \n",
       "1                                                                          (ISC)² Education & Training   \n",
       "2                                                                          (ISC)² Education & Training   \n",
       "6  Mori Taheripour, Goldman Sachs 10,000 Women, Edward David, Geetha Krishnan, Michael Fetters, Ann...   \n",
       "\n",
       "      offered by  instructor_rate                 general           specify  \n",
       "0            IBM              4.5  Information Technology          Security  \n",
       "1           ISC2              4.9  Information Technology          Security  \n",
       "2           ISC2              4.6  Information Technology          Security  \n",
       "6  Goldman Sachs              4.6                Business  Entrepreneurship  "
      ]
     },
     "execution_count": 32,
     "metadata": {},
     "output_type": "execute_result"
    }
   ],
   "source": [
    "raw_df.head(4)"
   ]
  },
  {
   "cell_type": "code",
   "execution_count": 33,
   "metadata": {},
   "outputs": [
    {
     "data": {
      "text/html": [
       "<div>\n",
       "<style scoped>\n",
       "    .dataframe tbody tr th:only-of-type {\n",
       "        vertical-align: middle;\n",
       "    }\n",
       "\n",
       "    .dataframe tbody tr th {\n",
       "        vertical-align: top;\n",
       "    }\n",
       "\n",
       "    .dataframe thead th {\n",
       "        text-align: right;\n",
       "    }\n",
       "</style>\n",
       "<table border=\"1\" class=\"dataframe\">\n",
       "  <thead>\n",
       "    <tr style=\"text-align: right;\">\n",
       "      <th></th>\n",
       "      <th>level</th>\n",
       "    </tr>\n",
       "  </thead>\n",
       "  <tbody>\n",
       "    <tr>\n",
       "      <th>0</th>\n",
       "      <td>Beginner level</td>\n",
       "    </tr>\n",
       "    <tr>\n",
       "      <th>1</th>\n",
       "      <td>Other</td>\n",
       "    </tr>\n",
       "    <tr>\n",
       "      <th>2</th>\n",
       "      <td>Advanced level</td>\n",
       "    </tr>\n",
       "    <tr>\n",
       "      <th>3</th>\n",
       "      <td>Intermediate level</td>\n",
       "    </tr>\n",
       "  </tbody>\n",
       "</table>\n",
       "</div>"
      ],
      "text/plain": [
       "                level\n",
       "0      Beginner level\n",
       "1               Other\n",
       "2      Advanced level\n",
       "3  Intermediate level"
      ]
     },
     "execution_count": 33,
     "metadata": {},
     "output_type": "execute_result"
    }
   ],
   "source": [
    "pd.DataFrame(raw_df['level'].unique(), columns=['level'])"
   ]
  },
  {
   "cell_type": "markdown",
   "metadata": {},
   "source": [
    "In `language` and `level` columns, we can reduce the size of data by removing some words like: 'Taught in', 'level'. Without these words, our data are still meaningful. "
   ]
  },
  {
   "cell_type": "code",
   "execution_count": 34,
   "metadata": {},
   "outputs": [],
   "source": [
    "# remove useless words\n",
    "raw_df['level'] = raw_df['level'].str.replace('level', '').str.strip()\n",
    "raw_df['language'] = raw_df['language'].str.replace('Taught in', '').str.strip()"
   ]
  },
  {
   "cell_type": "markdown",
   "metadata": {},
   "source": [
    "### Save processed data "
   ]
  },
  {
   "cell_type": "markdown",
   "metadata": {},
   "source": [
    "Reorder columns for easily understanding"
   ]
  },
  {
   "cell_type": "code",
   "execution_count": 35,
   "metadata": {},
   "outputs": [],
   "source": [
    "col = ['name','general','specify','enrollment',\n",
    "       'language','rating','level','duration',\n",
    "       'instructor','instructor_rate','offered by']\n",
    "raw_df = raw_df[col]"
   ]
  },
  {
   "cell_type": "code",
   "execution_count": 36,
   "metadata": {},
   "outputs": [
    {
     "name": "stdout",
     "output_type": "stream",
     "text": [
      "Total number of features: 11\n"
     ]
    },
    {
     "data": {
      "text/plain": [
       "name                object\n",
       "general             object\n",
       "specify             object\n",
       "enrollment           Int64\n",
       "language            object\n",
       "rating             float64\n",
       "level               object\n",
       "duration             Int64\n",
       "instructor          object\n",
       "instructor_rate    float64\n",
       "offered by          object\n",
       "dtype: object"
      ]
     },
     "execution_count": 36,
     "metadata": {},
     "output_type": "execute_result"
    }
   ],
   "source": [
    "print(f\"Total number of features: {raw_df.shape[1]}\")\n",
    "raw_df.dtypes"
   ]
  },
  {
   "cell_type": "code",
   "execution_count": 37,
   "metadata": {},
   "outputs": [],
   "source": [
    "# save to csv\n",
    "raw_df.to_csv('../Data/processed_data.csv', index=False)"
   ]
  }
 ],
 "metadata": {
  "kernelspec": {
   "display_name": "Python 3 (ipykernel)",
   "language": "python",
   "name": "python3"
  },
  "language_info": {
   "codemirror_mode": {
    "name": "ipython",
    "version": 3
   },
   "file_extension": ".py",
   "mimetype": "text/x-python",
   "name": "python",
   "nbconvert_exporter": "python",
   "pygments_lexer": "ipython3",
   "version": "3.10.8"
  }
 },
 "nbformat": 4,
 "nbformat_minor": 2
}
