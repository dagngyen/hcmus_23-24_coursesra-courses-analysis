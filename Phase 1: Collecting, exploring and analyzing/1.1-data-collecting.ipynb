{
 "cells": [
  {
   "cell_type": "markdown",
   "metadata": {},
   "source": [
    "<div style=\"text-align: center; background-color: #0A6EBD; font-family: 'Trebuchet MS', Arial, sans-serif; color: white; padding: 20px; font-size: 40px; font-weight: bold; border-radius: 0 0 0 0; box-shadow: 0px 6px 8px rgba(0, 0, 0, 0.2);\">\n",
    "  Final Project - Introduction To Data Science @ FIT-HCMUS, VNU-HCM\n",
    "</div>"
   ]
  },
  {
   "cell_type": "markdown",
   "metadata": {},
   "source": [
    "<div style=\"text-align: center; background-color: #5A96E3; font-family: 'Trebuchet MS', Arial, sans-serif; color: white; padding: 20px; font-size: 40px; font-weight: bold; border-radius: 0 0 0 0; box-shadow: 0px 6px 8px rgba(0, 0, 0, 0.2);\">\n",
    "  Stage 01 - Data collecting\n",
    "</div>"
   ]
  },
  {
   "cell_type": "markdown",
   "metadata": {},
   "source": [
    "**Import necessary libraries**"
   ]
  },
  {
   "cell_type": "code",
   "execution_count": 1,
   "metadata": {},
   "outputs": [],
   "source": [
    "import re\n",
    "import random\n",
    "import requests\n",
    "import pandas as pd \n",
    "from bs4 import BeautifulSoup\n",
    "import xml.etree.ElementTree as ET"
   ]
  },
  {
   "cell_type": "markdown",
   "metadata": {},
   "source": [
    "**Get links of all courses from Coursera using sitemap**"
   ]
  },
  {
   "cell_type": "code",
   "execution_count": 2,
   "metadata": {},
   "outputs": [
    {
     "name": "stdout",
     "output_type": "stream",
     "text": [
      "Data (with 8001 links) has been written to course_url.txt\n"
     ]
    }
   ],
   "source": [
    "url = 'https://www.coursera.org/sitemap~www~courses.xml'\n",
    "root = ET.fromstring(requests.get(url).content)\n",
    "links = []\n",
    "for child in root:\n",
    "    for data in child:\n",
    "        links.append(data.text)\n",
    "        \n",
    "file_path = 'course_url.txt'\n",
    "with open(file_path, 'w') as txt_file:\n",
    "    for item in links:\n",
    "        txt_file.write(str(item) + '\\n')\n",
    "print(f'Data (with {len(links)} links) has been written to {file_path}')"
   ]
  },
  {
   "cell_type": "markdown",
   "metadata": {},
   "source": [
    "**Collect Coursera's course information by parsing HTML**"
   ]
  },
  {
   "cell_type": "code",
   "execution_count": 3,
   "metadata": {},
   "outputs": [
    {
     "name": "stdout",
     "output_type": "stream",
     "text": [
      "https://www.coursera.org/learn/ibm-cyber-threat-intelligence?specialization=security-analyst-fundamentals\n"
     ]
    }
   ],
   "source": [
    "name_list = []\n",
    "field_list = []\n",
    "enrollment_list = []\n",
    "language_list = []\n",
    "rating_list = []\n",
    "level_list = []\n",
    "duration_list = []\n",
    "description_list = []\n",
    "skill_list = []\n",
    "instructor_list = []\n",
    "offered_list = []\n",
    "\n",
    "with open('course_url.txt', 'r') as file:\n",
    "    for line in file:\n",
    "        url = line.strip()\n",
    "        print(url)\n",
    "        try:\n",
    "            content = requests.get(url, timeout=30)\n",
    "        except requests.exceptions.ConnectionError:\n",
    "            continue\n",
    "        \n",
    "        soup = BeautifulSoup(content.content, \"html.parser\")\n",
    "\n",
    "        name = soup.find('h1', attrs={'class':'cds-119 cds-Typography-base css-1xy8ceb cds-121'})\n",
    "        name = name.text if name is not None else 'None'\n",
    "\n",
    "        fields = soup.find_all('li', attrs={'class':'cds-breadcrumbs-listItem'})\n",
    "        field = ' > '.join(item.text for item in fields[2:] if item)\n",
    "        \n",
    "        enrollment = soup.find_all('div', attrs={'class':'css-kd6yq1'})\n",
    "        if len(enrollment) == 0:\n",
    "            enrollment = soup.find_all('div', attrs={'class':'css-6chzbh'})\n",
    "            if len(enrollment) == 0:\n",
    "                continue\n",
    "            else:\n",
    "                enrollment = enrollment[1]\n",
    "        else:\n",
    "            enrollment = enrollment[1]\n",
    "        enrollment = enrollment.text if enrollment is not None else 'None'\n",
    "\n",
    "        language = soup.find_all('p', attrs={'class':'cds-119 cds-Typography-base css-80vnnb cds-121'})\n",
    "        language = next((item.text for item in language if 'Taught in' in item.text), 'None')\n",
    "\n",
    "        detail = soup.find_all('div', attrs={'class':'cds-119 cds-Typography-base css-h1jogs cds-121'})\n",
    "        if len(detail) == 0:\n",
    "            continue\n",
    "        rating = ''\n",
    "        level = ''\n",
    "        duration = ''\n",
    "        for item in detail:\n",
    "            if item:\n",
    "                content = item.text\n",
    "                pattern = re.compile(r'\\b\\d+\\.\\d+\\b')\n",
    "                match = pattern.search(content)\n",
    "                rating = match.group() if match else rating\n",
    "                level = content if 'level' in content else level\n",
    "                duration = content if 'hour' in content else duration\n",
    "\n",
    "        about = soup.find('div', attrs={'id':'about', 'class':'css-qpssb7'})\n",
    "        if about is None:\n",
    "            continue\n",
    "        description = about.find('ul', attrs={'class':'cds-9 css-7avemv cds-10'})\n",
    "        description = description.text if description is not None else 'None'\n",
    "        skills = about.find_all('span', attrs={'class':'css-1l1jvyr'})\n",
    "        skill = ', '.join(item.text for item in skills if item)\n",
    "\n",
    "        info = soup.find('div', attrs={'class':'cds-9 css-0 cds-11 cds-grid-item cds-56 cds-77 cds-90'})\n",
    "        if info is None:\n",
    "            continue\n",
    "        instructor = info.find_all('span', attrs={'class':'cds-119 cds-Typography-base css-e7lgfl cds-121'})\n",
    "        if len(instructor) == 0:\n",
    "            continue\n",
    "        offered = instructor[-1]\n",
    "        offered = offered.text if offered is not None else 'None'\n",
    "        instructor = [item.text for item in instructor[:-1] if item.text is not None]\n",
    "        instructor_rating = info.find('span', attrs={'class':'css-1tdi49m'})\n",
    "        instructor_rating = instructor_rating.text if instructor_rating is not None else 'None'\n",
    "        instructor = f'{instructor_rating} {set(instructor)}'\n",
    "        \n",
    "        name_list.append(name)\n",
    "        field_list.append(field)\n",
    "        enrollment_list.append(enrollment)\n",
    "        language_list.append(language)\n",
    "        rating_list.append(rating)\n",
    "        level_list.append(level)\n",
    "        duration_list.append(duration)\n",
    "        description_list.append(description)\n",
    "        skill_list.append(skill)\n",
    "        instructor_list.append(instructor)\n",
    "        offered_list.append(offered)"
   ]
  },
  {
   "cell_type": "markdown",
   "metadata": {},
   "source": [
    "**Save data to csv**"
   ]
  },
  {
   "cell_type": "code",
   "execution_count": 4,
   "metadata": {},
   "outputs": [],
   "source": [
    "courses = pd.DataFrame({'name': name_list,\n",
    "                    'field': field_list,\n",
    "                    'enrollment': enrollment_list,\n",
    "                    'language': language_list,\n",
    "                    'rating': rating_list,\n",
    "                    'level': level_list,\n",
    "                    'duration': duration_list,\n",
    "                    'description': description_list,\n",
    "                    'skill': skill_list,\n",
    "                    'instructor': instructor_list,\n",
    "                    'offered by': offered_list})\n",
    "\n",
    "courses.to_csv('../Data/raw_data.csv', index=False)"
   ]
  }
 ],
 "metadata": {
  "kernelspec": {
   "display_name": "Python 3 (ipykernel)",
   "language": "python",
   "name": "python3"
  },
  "language_info": {
   "codemirror_mode": {
    "name": "ipython",
    "version": 3
   },
   "file_extension": ".py",
   "mimetype": "text/x-python",
   "name": "python",
   "nbconvert_exporter": "python",
   "pygments_lexer": "ipython3",
   "version": "3.10.8"
  }
 },
 "nbformat": 4,
 "nbformat_minor": 2
}
