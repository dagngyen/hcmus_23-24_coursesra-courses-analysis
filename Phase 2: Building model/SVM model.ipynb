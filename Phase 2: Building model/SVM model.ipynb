{
 "cells": [
  {
   "cell_type": "markdown",
   "metadata": {},
   "source": [
    "# **Support vector machine (SVM)**"
   ]
  },
  {
   "cell_type": "markdown",
   "metadata": {},
   "source": [
    "## **1. Import necessary libraries**"
   ]
  },
  {
   "cell_type": "code",
   "execution_count": 34,
   "metadata": {},
   "outputs": [],
   "source": [
    "import pandas as pd\n",
    "import numpy as np\n",
    "import time\n",
    "\n",
    "from sklearn.model_selection import train_test_split\n",
    "from sklearn.svm import SVR\n",
    "from sklearn.model_selection import GridSearchCV\n",
    "from sklearn.preprocessing import OneHotEncoder, StandardScaler\n",
    "from sklearn.metrics import accuracy_score\n",
    "from sklearn.metrics import mean_squared_error, r2_score\n",
    "from sklearn.compose import ColumnTransformer\n",
    "from sklearn.pipeline import Pipeline\n",
    "\n",
    "import matplotlib.pyplot as plt\n",
    "import seaborn as sns"
   ]
  },
  {
   "cell_type": "code",
   "execution_count": 4,
   "metadata": {},
   "outputs": [],
   "source": [
    "import warnings\n",
    "warnings.filterwarnings('ignore')"
   ]
  },
  {
   "cell_type": "markdown",
   "metadata": {},
   "source": [
    "## **2. Insert and preprocess data**"
   ]
  },
  {
   "cell_type": "markdown",
   "metadata": {},
   "source": [
    "### **2.1. Load data**\n",
    "Load our data from path `../Data/processed_data.csv`."
   ]
  },
  {
   "cell_type": "code",
   "execution_count": 5,
   "metadata": {},
   "outputs": [
    {
     "data": {
      "text/html": [
       "<div>\n",
       "<style scoped>\n",
       "    .dataframe tbody tr th:only-of-type {\n",
       "        vertical-align: middle;\n",
       "    }\n",
       "\n",
       "    .dataframe tbody tr th {\n",
       "        vertical-align: top;\n",
       "    }\n",
       "\n",
       "    .dataframe thead th {\n",
       "        text-align: right;\n",
       "    }\n",
       "</style>\n",
       "<table border=\"1\" class=\"dataframe\">\n",
       "  <thead>\n",
       "    <tr style=\"text-align: right;\">\n",
       "      <th></th>\n",
       "      <th>name</th>\n",
       "      <th>general</th>\n",
       "      <th>specify</th>\n",
       "      <th>enrollment</th>\n",
       "      <th>language</th>\n",
       "      <th>rating</th>\n",
       "      <th>level</th>\n",
       "      <th>duration</th>\n",
       "      <th>instructor</th>\n",
       "      <th>instructor_rate</th>\n",
       "      <th>offered by</th>\n",
       "    </tr>\n",
       "  </thead>\n",
       "  <tbody>\n",
       "    <tr>\n",
       "      <th>4001</th>\n",
       "      <td>Opportunity Management in Salesforce</td>\n",
       "      <td>Business</td>\n",
       "      <td>Business Essentials</td>\n",
       "      <td>7963</td>\n",
       "      <td>English</td>\n",
       "      <td>4.7</td>\n",
       "      <td>Beginner</td>\n",
       "      <td>29</td>\n",
       "      <td>Trailhead, Salesforce, Anthony Jones, Angela P...</td>\n",
       "      <td>4.7</td>\n",
       "      <td>Pathstream</td>\n",
       "    </tr>\n",
       "    <tr>\n",
       "      <th>1089</th>\n",
       "      <td>La comunicación laboral en el siglo XXI</td>\n",
       "      <td>Business</td>\n",
       "      <td>Leadership and Management</td>\n",
       "      <td>17721</td>\n",
       "      <td>Spanish</td>\n",
       "      <td>4.5</td>\n",
       "      <td>Other</td>\n",
       "      <td>4</td>\n",
       "      <td>Patricia  Bravo, MBA, SPHR</td>\n",
       "      <td>4.5</td>\n",
       "      <td>University of California, Irvine</td>\n",
       "    </tr>\n",
       "    <tr>\n",
       "      <th>4494</th>\n",
       "      <td>Python Data Representations</td>\n",
       "      <td>Computer Science</td>\n",
       "      <td>Software Development</td>\n",
       "      <td>25576</td>\n",
       "      <td>English</td>\n",
       "      <td>4.7</td>\n",
       "      <td>Beginner</td>\n",
       "      <td>8</td>\n",
       "      <td>Joe Warren, Scott Rixner</td>\n",
       "      <td>4.8</td>\n",
       "      <td>Rice University</td>\n",
       "    </tr>\n",
       "    <tr>\n",
       "      <th>5434</th>\n",
       "      <td>UX (User Experience) Capstone</td>\n",
       "      <td>Computer Science</td>\n",
       "      <td>Design and Product</td>\n",
       "      <td>12354</td>\n",
       "      <td>English</td>\n",
       "      <td>4.7</td>\n",
       "      <td>Beginner</td>\n",
       "      <td>18</td>\n",
       "      <td>Mark Newman</td>\n",
       "      <td>4.1</td>\n",
       "      <td>University of Michigan</td>\n",
       "    </tr>\n",
       "    <tr>\n",
       "      <th>3875</th>\n",
       "      <td>Necessary Condition Analysis (NCA)</td>\n",
       "      <td>Social Sciences</td>\n",
       "      <td>Economics</td>\n",
       "      <td>13926</td>\n",
       "      <td>English</td>\n",
       "      <td>4.8</td>\n",
       "      <td>Beginner</td>\n",
       "      <td>6</td>\n",
       "      <td>Jon Bokrantz, Chloé Schwizgebel, Nicole Franzi...</td>\n",
       "      <td>4.8</td>\n",
       "      <td>Erasmus University Rotterdam</td>\n",
       "    </tr>\n",
       "  </tbody>\n",
       "</table>\n",
       "</div>"
      ],
      "text/plain": [
       "                                          name           general  \\\n",
       "4001      Opportunity Management in Salesforce          Business   \n",
       "1089  La comunicación laboral en el siglo XXI           Business   \n",
       "4494               Python Data Representations  Computer Science   \n",
       "5434             UX (User Experience) Capstone  Computer Science   \n",
       "3875        Necessary Condition Analysis (NCA)   Social Sciences   \n",
       "\n",
       "                        specify  enrollment language  rating     level  \\\n",
       "4001        Business Essentials        7963  English     4.7  Beginner   \n",
       "1089  Leadership and Management       17721  Spanish     4.5     Other   \n",
       "4494       Software Development       25576  English     4.7  Beginner   \n",
       "5434         Design and Product       12354  English     4.7  Beginner   \n",
       "3875                  Economics       13926  English     4.8  Beginner   \n",
       "\n",
       "      duration                                         instructor  \\\n",
       "4001        29  Trailhead, Salesforce, Anthony Jones, Angela P...   \n",
       "1089         4                        Patricia  Bravo, MBA, SPHR    \n",
       "4494         8                           Joe Warren, Scott Rixner   \n",
       "5434        18                                        Mark Newman   \n",
       "3875         6  Jon Bokrantz, Chloé Schwizgebel, Nicole Franzi...   \n",
       "\n",
       "      instructor_rate                        offered by  \n",
       "4001              4.7                        Pathstream  \n",
       "1089              4.5  University of California, Irvine  \n",
       "4494              4.8                   Rice University  \n",
       "5434              4.1            University of Michigan  \n",
       "3875              4.8      Erasmus University Rotterdam  "
      ]
     },
     "execution_count": 5,
     "metadata": {},
     "output_type": "execute_result"
    }
   ],
   "source": [
    "# Load our data from path `../Data/processed_data.csv`\n",
    "courses_df = pd.read_csv('../Data/processed_data.csv', sep=',',engine='python', encoding='utf-8')\n",
    "courses_df.sample(5)"
   ]
  },
  {
   "cell_type": "markdown",
   "metadata": {},
   "source": [
    "### **2.2. Preprocess data**"
   ]
  },
  {
   "cell_type": "markdown",
   "metadata": {},
   "source": [
    "- The `name` and `instructor` features needs to be removed because it is not useful in training the model."
   ]
  },
  {
   "cell_type": "code",
   "execution_count": 6,
   "metadata": {},
   "outputs": [
    {
     "data": {
      "text/html": [
       "<div>\n",
       "<style scoped>\n",
       "    .dataframe tbody tr th:only-of-type {\n",
       "        vertical-align: middle;\n",
       "    }\n",
       "\n",
       "    .dataframe tbody tr th {\n",
       "        vertical-align: top;\n",
       "    }\n",
       "\n",
       "    .dataframe thead th {\n",
       "        text-align: right;\n",
       "    }\n",
       "</style>\n",
       "<table border=\"1\" class=\"dataframe\">\n",
       "  <thead>\n",
       "    <tr style=\"text-align: right;\">\n",
       "      <th></th>\n",
       "      <th>general</th>\n",
       "      <th>specify</th>\n",
       "      <th>enrollment</th>\n",
       "      <th>language</th>\n",
       "      <th>rating</th>\n",
       "      <th>level</th>\n",
       "      <th>duration</th>\n",
       "      <th>instructor_rate</th>\n",
       "      <th>offered by</th>\n",
       "    </tr>\n",
       "  </thead>\n",
       "  <tbody>\n",
       "    <tr>\n",
       "      <th>4346</th>\n",
       "      <td>Computer Science</td>\n",
       "      <td>Software Development</td>\n",
       "      <td>2513</td>\n",
       "      <td>Spanish</td>\n",
       "      <td>4.7</td>\n",
       "      <td>Intermediate</td>\n",
       "      <td>11</td>\n",
       "      <td>4.4</td>\n",
       "      <td>Pontificia Universidad Católica de Chile</td>\n",
       "    </tr>\n",
       "    <tr>\n",
       "      <th>1759</th>\n",
       "      <td>Physical Science and Engineering</td>\n",
       "      <td>Electrical Engineering</td>\n",
       "      <td>6834</td>\n",
       "      <td>English</td>\n",
       "      <td>4.8</td>\n",
       "      <td>Advanced</td>\n",
       "      <td>19</td>\n",
       "      <td>4.7</td>\n",
       "      <td>Korea Advanced Institute of Science and Techno...</td>\n",
       "    </tr>\n",
       "    <tr>\n",
       "      <th>4058</th>\n",
       "      <td>Health</td>\n",
       "      <td>Patient Care</td>\n",
       "      <td>13926</td>\n",
       "      <td>English</td>\n",
       "      <td>4.4</td>\n",
       "      <td>Intermediate</td>\n",
       "      <td>13</td>\n",
       "      <td>4.7</td>\n",
       "      <td>Stanford University</td>\n",
       "    </tr>\n",
       "    <tr>\n",
       "      <th>75</th>\n",
       "      <td>Social Sciences</td>\n",
       "      <td>Education</td>\n",
       "      <td>27040</td>\n",
       "      <td>English</td>\n",
       "      <td>4.7</td>\n",
       "      <td>Beginner</td>\n",
       "      <td>13</td>\n",
       "      <td>4.8</td>\n",
       "      <td>University of Toronto</td>\n",
       "    </tr>\n",
       "    <tr>\n",
       "      <th>3517</th>\n",
       "      <td>Computer Science</td>\n",
       "      <td>Computer Security and Networks</td>\n",
       "      <td>168011</td>\n",
       "      <td>English</td>\n",
       "      <td>4.8</td>\n",
       "      <td>Beginner</td>\n",
       "      <td>11</td>\n",
       "      <td>4.9</td>\n",
       "      <td>Google</td>\n",
       "    </tr>\n",
       "  </tbody>\n",
       "</table>\n",
       "</div>"
      ],
      "text/plain": [
       "                               general                         specify  \\\n",
       "4346                  Computer Science            Software Development   \n",
       "1759  Physical Science and Engineering          Electrical Engineering   \n",
       "4058                            Health                    Patient Care   \n",
       "75                     Social Sciences                       Education   \n",
       "3517                  Computer Science  Computer Security and Networks   \n",
       "\n",
       "      enrollment language  rating         level  duration  instructor_rate  \\\n",
       "4346        2513  Spanish     4.7  Intermediate        11              4.4   \n",
       "1759        6834  English     4.8      Advanced        19              4.7   \n",
       "4058       13926  English     4.4  Intermediate        13              4.7   \n",
       "75         27040  English     4.7      Beginner        13              4.8   \n",
       "3517      168011  English     4.8      Beginner        11              4.9   \n",
       "\n",
       "                                             offered by  \n",
       "4346           Pontificia Universidad Católica de Chile  \n",
       "1759  Korea Advanced Institute of Science and Techno...  \n",
       "4058                                Stanford University  \n",
       "75                                University of Toronto  \n",
       "3517                                             Google  "
      ]
     },
     "execution_count": 6,
     "metadata": {},
     "output_type": "execute_result"
    }
   ],
   "source": [
    "data_ = courses_df.copy().drop(columns=['name', 'instructor'])\n",
    "data_.sample(5)"
   ]
  },
  {
   "cell_type": "markdown",
   "metadata": {},
   "source": [
    "- Explore missing values in variables:\n",
    "    + View summary of dataset."
   ]
  },
  {
   "cell_type": "code",
   "execution_count": 7,
   "metadata": {},
   "outputs": [
    {
     "name": "stdout",
     "output_type": "stream",
     "text": [
      "<class 'pandas.core.frame.DataFrame'>\n",
      "RangeIndex: 5718 entries, 0 to 5717\n",
      "Data columns (total 9 columns):\n",
      " #   Column           Non-Null Count  Dtype  \n",
      "---  ------           --------------  -----  \n",
      " 0   general          5717 non-null   object \n",
      " 1   specify          5717 non-null   object \n",
      " 2   enrollment       5718 non-null   int64  \n",
      " 3   language         5718 non-null   object \n",
      " 4   rating           5718 non-null   float64\n",
      " 5   level            5718 non-null   object \n",
      " 6   duration         5718 non-null   int64  \n",
      " 7   instructor_rate  5718 non-null   float64\n",
      " 8   offered by       5703 non-null   object \n",
      "dtypes: float64(2), int64(2), object(5)\n",
      "memory usage: 402.2+ KB\n"
     ]
    }
   ],
   "source": [
    "data_.info()"
   ]
  },
  {
   "cell_type": "code",
   "execution_count": 8,
   "metadata": {},
   "outputs": [
    {
     "name": "stdout",
     "output_type": "stream",
     "text": [
      "Number missing values in each column:\n",
      " general             1\n",
      "specify             1\n",
      "enrollment          0\n",
      "language            0\n",
      "rating              0\n",
      "level               0\n",
      "duration            0\n",
      "instructor_rate     0\n",
      "offered by         15\n",
      "dtype: int64\n"
     ]
    }
   ],
   "source": [
    "print('Number missing values in each column:\\n',data_.isnull().sum())"
   ]
  },
  {
   "cell_type": "markdown",
   "metadata": {},
   "source": [
    "- Explore missing values in variables:\n",
    "    + Drop rows with missing values: Because the number of missing values each variable is insignificant, we will remove rows containing missing data."
   ]
  },
  {
   "cell_type": "code",
   "execution_count": 9,
   "metadata": {},
   "outputs": [
    {
     "name": "stdout",
     "output_type": "stream",
     "text": [
      "Number missing values in each column:\n",
      " general            0\n",
      "specify            0\n",
      "enrollment         0\n",
      "language           0\n",
      "rating             0\n",
      "level              0\n",
      "duration           0\n",
      "instructor_rate    0\n",
      "offered by         0\n",
      "dtype: int64\n"
     ]
    }
   ],
   "source": [
    "# Drop rows with missing values\n",
    "data_.dropna(inplace=True)\n",
    "print('Number missing values in each column:\\n',data_.isnull().sum())"
   ]
  },
  {
   "cell_type": "markdown",
   "metadata": {},
   "source": [
    "## **3. Prepare for training model**"
   ]
  },
  {
   "cell_type": "markdown",
   "metadata": {},
   "source": [
    "### **3.1. Define kind of features**"
   ]
  },
  {
   "cell_type": "markdown",
   "metadata": {},
   "source": [
    "- Define selection and target features to prepare data for training model."
   ]
  },
  {
   "cell_type": "code",
   "execution_count": 10,
   "metadata": {},
   "outputs": [],
   "source": [
    "# Define selection and target features to prepare data for training model\n",
    "target = ['rating']\n",
    "specificities = list(set(data_.columns) - set(target))"
   ]
  },
  {
   "cell_type": "markdown",
   "metadata": {},
   "source": [
    "- Define numerical and categorical features to transformer."
   ]
  },
  {
   "cell_type": "code",
   "execution_count": 11,
   "metadata": {},
   "outputs": [
    {
     "name": "stdout",
     "output_type": "stream",
     "text": [
      "Numerical features: ['instructor_rate', 'duration', 'enrollment']\n",
      "Categorical features: ['language', 'general', 'specify', 'level', 'offered by']\n"
     ]
    }
   ],
   "source": [
    "# Define numerical and categorical features\n",
    "numeracy_ = list(set(specificities) - set(courses_df.select_dtypes(include=['object']).columns))\n",
    "category_ = list(set(specificities) - set(courses_df.select_dtypes(exclude=['object']).columns))\n",
    "print('Numerical features:', numeracy_)\n",
    "print('Categorical features:', category_)"
   ]
  },
  {
   "cell_type": "markdown",
   "metadata": {},
   "source": [
    "### **3.2. Split data**\n",
    "Split data into 3 datasets: `Training dataset` and `Testing dataset`. We’ll perform splitting on the following ratio 80-20."
   ]
  },
  {
   "cell_type": "code",
   "execution_count": 12,
   "metadata": {},
   "outputs": [],
   "source": [
    "# Define the constant variable random_state\n",
    "random_state = 2112\n",
    "\n",
    "# Select features and target variable\n",
    "X = data_[specificities]\n",
    "y = data_[target]\n",
    "\n",
    "# Split data on the following ratio 80-20\n",
    "X_train, X_test, y_train, y_test = train_test_split(X, y, test_size=0.2,random_state=random_state)"
   ]
  },
  {
   "cell_type": "markdown",
   "metadata": {},
   "source": [
    "### **3.3. Initialize transformer**"
   ]
  },
  {
   "cell_type": "code",
   "execution_count": 13,
   "metadata": {},
   "outputs": [],
   "source": [
    "# Create transformer for numerical and categorical features by using Pipeline\n",
    "num_transformer = Pipeline(steps=[('scaler', StandardScaler())])\n",
    "cat_transformer = Pipeline(steps=[('onehot', OneHotEncoder(sparse=False, handle_unknown='ignore'))])\n",
    "\n",
    "# Create a preprocessor using ColumnTransformer\n",
    "preprocessor = ColumnTransformer(transformers=[('num', num_transformer, numeracy_),\n",
    "                                               ('cat', cat_transformer, category_)])"
   ]
  },
  {
   "cell_type": "markdown",
   "metadata": {},
   "source": [
    "### **3.4. Search hyperparameter for available data fitting model**"
   ]
  },
  {
   "cell_type": "markdown",
   "metadata": {},
   "source": [
    "- When tuning the hyperparameter, I use `GridSearchCV`.\n",
    "- While setting up the `Pipeline` for `GridSearchCV`, I set the variable value `cv=4`.\n",
    "    + This means that `GridSearchCV` will divide the training dataset into 4 sub-datasets.\n",
    "    + Each sub-dataset will be used as a **_validation dataset_** while the others will be used for **_training_** and **_hyperparameter-tuning_**.\n",
    "- To calculate the **Mean Squared Error** (MSE) score, `GridSearchCV` will take the average of splitting the training dataset 4 times.\n",
    "\n",
    "We take into account some essential hyperparameters for fine-tuning SVMs:\n",
    "- **`C`**: The regularization parameter that controls the trade-off between the margin and the number of training errors. A larger value of C penalizes training errors more heavily, resulting in a smaller margin but potentially better generalization performance. A smaller value of C allows for more training errors but may lead to overfitting.\n",
    "- **`Kernel`**: The kernel function that defines the similarity between data points. Different kernels can capture different relationships between data points, and the choice of kernel can significantly impact the performance of the SVM. Common kernels include linear, polynomial, radial basis function (RBF), and sigmoid.\n",
    "- **`Gamma`**: The parameter that controls the influence of support vectors on the decision boundary. A larger value of gamma indicates that nearby support vectors have a stronger influence, while a smaller value indicates that distant support vectors have a weaker influence. The choice of gamma is particularly important for RBF kernels."
   ]
  },
  {
   "cell_type": "code",
   "execution_count": null,
   "metadata": {},
   "outputs": [],
   "source": [
    "# Use SVR for regression\n",
    "pipe_svm = Pipeline([('preprocessor', preprocessor),\n",
    "                      ('regressor', SVR())])\n",
    "\n",
    "# Fine-tuning hyperparameters\n",
    "param_kernel = ['linear', 'rbf', 'sigmoid', 'poly']\n",
    "param_C = [0.01, 0.1, 1.0, 10.0]\n",
    "param_gamma = [0.001, 0.01, 0.1, 1.0]\n",
    "param_grid = [{'regressor__C': param_C,\n",
    "               'regressor__kernel': param_kernel,\n",
    "               'regressor__gamma': param_gamma}]\n",
    "\n",
    "# Use a regression-specific scoring metric\n",
    "reg_gs = GridSearchCV(\n",
    "    estimator=pipe_svm,\n",
    "    param_grid=param_grid,\n",
    "    scoring=\"neg_mean_squared_error\",\n",
    "    return_train_score=True,\n",
    "    cv=4)\n",
    "\n",
    "reg_gs = reg_gs.fit(X_train, y_train)"
   ]
  },
  {
   "cell_type": "code",
   "execution_count": 20,
   "metadata": {},
   "outputs": [],
   "source": [
    "# Get scoring values of ref_gs\n",
    "recording_df = pd.DataFrame({'kernel':np.ma.getdata(reg_gs.cv_results_['param_regressor__kernel']),\n",
    "                             'C':np.ma.getdata(reg_gs.cv_results_['param_regressor__C']),\n",
    "                             'gamma':np.ma.getdata(reg_gs.cv_results_['param_regressor__gamma']),\n",
    "                             'mean_test':['{:f}'.format(item) for item in -reg_gs.cv_results_['mean_test_score'].round(6)],\n",
    "                             'mean_train':['{:f}'.format(item) for item in -reg_gs.cv_results_['mean_train_score'].round(6)],\n",
    "                             'rank_test_score':reg_gs.cv_results_['rank_test_score'],\n",
    "                             'mean_fit_time': reg_gs.cv_results_['mean_fit_time'],\n",
    "                             'mean_score_time': reg_gs.cv_results_['mean_score_time']},\n",
    "                            index=reg_gs.cv_results_['params'])\\\n",
    "                                .sort_values(by=['kernel', 'C', 'gamma'], ascending=[True, True, True])\n",
    "recording_df.to_csv('record_hyperparameters_svm.csv', encoding='utf-8-sig')"
   ]
  },
  {
   "cell_type": "markdown",
   "metadata": {},
   "source": [
    "Since hyperparameter-tuning is time-consuming, I have saved the table that records the **Mean Squared Error** (**MSE**) data results to a `record_hyperparameters_svm.csv` file. By doing so, I can retrieve the saved data later on to explore the results, saving my time in case of interruptions during the project. This way, I can avoid redoing the hyperparameter tuning process."
   ]
  },
  {
   "cell_type": "code",
   "execution_count": 14,
   "metadata": {},
   "outputs": [
    {
     "data": {
      "text/html": [
       "<div>\n",
       "<style scoped>\n",
       "    .dataframe tbody tr th:only-of-type {\n",
       "        vertical-align: middle;\n",
       "    }\n",
       "\n",
       "    .dataframe tbody tr th {\n",
       "        vertical-align: top;\n",
       "    }\n",
       "\n",
       "    .dataframe thead th {\n",
       "        text-align: right;\n",
       "    }\n",
       "</style>\n",
       "<table border=\"1\" class=\"dataframe\">\n",
       "  <thead>\n",
       "    <tr style=\"text-align: right;\">\n",
       "      <th></th>\n",
       "      <th>kernel</th>\n",
       "      <th>C</th>\n",
       "      <th>gamma</th>\n",
       "      <th>mean_test</th>\n",
       "      <th>mean_train</th>\n",
       "      <th>rank_test_score</th>\n",
       "      <th>mean_fit_time</th>\n",
       "      <th>mean_score_time</th>\n",
       "    </tr>\n",
       "  </thead>\n",
       "  <tbody>\n",
       "    <tr>\n",
       "      <th>{'regressor__C': 0.01, 'regressor__gamma': 0.001, 'regressor__kernel': 'linear'}</th>\n",
       "      <td>linear</td>\n",
       "      <td>0.01</td>\n",
       "      <td>0.001</td>\n",
       "      <td>3.442900e-02</td>\n",
       "      <td>3.301200e-02</td>\n",
       "      <td>17</td>\n",
       "      <td>0.742550</td>\n",
       "      <td>0.128368</td>\n",
       "    </tr>\n",
       "    <tr>\n",
       "      <th>{'regressor__C': 0.01, 'regressor__gamma': 0.01, 'regressor__kernel': 'linear'}</th>\n",
       "      <td>linear</td>\n",
       "      <td>0.01</td>\n",
       "      <td>0.010</td>\n",
       "      <td>3.442900e-02</td>\n",
       "      <td>3.301200e-02</td>\n",
       "      <td>17</td>\n",
       "      <td>0.805426</td>\n",
       "      <td>0.206080</td>\n",
       "    </tr>\n",
       "    <tr>\n",
       "      <th>{'regressor__C': 0.01, 'regressor__gamma': 0.1, 'regressor__kernel': 'linear'}</th>\n",
       "      <td>linear</td>\n",
       "      <td>0.01</td>\n",
       "      <td>0.100</td>\n",
       "      <td>3.442900e-02</td>\n",
       "      <td>3.301200e-02</td>\n",
       "      <td>17</td>\n",
       "      <td>0.859454</td>\n",
       "      <td>0.202827</td>\n",
       "    </tr>\n",
       "    <tr>\n",
       "      <th>{'regressor__C': 0.01, 'regressor__gamma': 1.0, 'regressor__kernel': 'linear'}</th>\n",
       "      <td>linear</td>\n",
       "      <td>0.01</td>\n",
       "      <td>1.000</td>\n",
       "      <td>3.442900e-02</td>\n",
       "      <td>3.301200e-02</td>\n",
       "      <td>17</td>\n",
       "      <td>0.983865</td>\n",
       "      <td>0.200977</td>\n",
       "    </tr>\n",
       "    <tr>\n",
       "      <th>{'regressor__C': 0.1, 'regressor__gamma': 0.001, 'regressor__kernel': 'linear'}</th>\n",
       "      <td>linear</td>\n",
       "      <td>0.10</td>\n",
       "      <td>0.001</td>\n",
       "      <td>3.400200e-02</td>\n",
       "      <td>3.061800e-02</td>\n",
       "      <td>4</td>\n",
       "      <td>1.085307</td>\n",
       "      <td>0.193959</td>\n",
       "    </tr>\n",
       "    <tr>\n",
       "      <th>...</th>\n",
       "      <td>...</td>\n",
       "      <td>...</td>\n",
       "      <td>...</td>\n",
       "      <td>...</td>\n",
       "      <td>...</td>\n",
       "      <td>...</td>\n",
       "      <td>...</td>\n",
       "      <td>...</td>\n",
       "    </tr>\n",
       "    <tr>\n",
       "      <th>{'regressor__C': 1.0, 'regressor__gamma': 1.0, 'regressor__kernel': 'sigmoid'}</th>\n",
       "      <td>sigmoid</td>\n",
       "      <td>1.00</td>\n",
       "      <td>1.000</td>\n",
       "      <td>3.036000e+04</td>\n",
       "      <td>3.213924e+04</td>\n",
       "      <td>62</td>\n",
       "      <td>2.851976</td>\n",
       "      <td>0.972086</td>\n",
       "    </tr>\n",
       "    <tr>\n",
       "      <th>{'regressor__C': 10.0, 'regressor__gamma': 0.001, 'regressor__kernel': 'sigmoid'}</th>\n",
       "      <td>sigmoid</td>\n",
       "      <td>10.00</td>\n",
       "      <td>0.001</td>\n",
       "      <td>3.443000e-02</td>\n",
       "      <td>3.301500e-02</td>\n",
       "      <td>21</td>\n",
       "      <td>1.012043</td>\n",
       "      <td>0.223565</td>\n",
       "    </tr>\n",
       "    <tr>\n",
       "      <th>{'regressor__C': 10.0, 'regressor__gamma': 0.01, 'regressor__kernel': 'sigmoid'}</th>\n",
       "      <td>sigmoid</td>\n",
       "      <td>10.00</td>\n",
       "      <td>0.010</td>\n",
       "      <td>5.870744e+00</td>\n",
       "      <td>5.664162e+00</td>\n",
       "      <td>58</td>\n",
       "      <td>1.829366</td>\n",
       "      <td>0.421085</td>\n",
       "    </tr>\n",
       "    <tr>\n",
       "      <th>{'regressor__C': 10.0, 'regressor__gamma': 0.1, 'regressor__kernel': 'sigmoid'}</th>\n",
       "      <td>sigmoid</td>\n",
       "      <td>10.00</td>\n",
       "      <td>0.100</td>\n",
       "      <td>6.987010e+04</td>\n",
       "      <td>6.859291e+04</td>\n",
       "      <td>63</td>\n",
       "      <td>2.498179</td>\n",
       "      <td>0.766424</td>\n",
       "    </tr>\n",
       "    <tr>\n",
       "      <th>{'regressor__C': 10.0, 'regressor__gamma': 1.0, 'regressor__kernel': 'sigmoid'}</th>\n",
       "      <td>sigmoid</td>\n",
       "      <td>10.00</td>\n",
       "      <td>1.000</td>\n",
       "      <td>3.079751e+06</td>\n",
       "      <td>3.208348e+06</td>\n",
       "      <td>64</td>\n",
       "      <td>3.103383</td>\n",
       "      <td>0.869590</td>\n",
       "    </tr>\n",
       "  </tbody>\n",
       "</table>\n",
       "<p>64 rows × 8 columns</p>\n",
       "</div>"
      ],
      "text/plain": [
       "                                                     kernel      C  gamma  \\\n",
       "{'regressor__C': 0.01, 'regressor__gamma': 0.00...   linear   0.01  0.001   \n",
       "{'regressor__C': 0.01, 'regressor__gamma': 0.01...   linear   0.01  0.010   \n",
       "{'regressor__C': 0.01, 'regressor__gamma': 0.1,...   linear   0.01  0.100   \n",
       "{'regressor__C': 0.01, 'regressor__gamma': 1.0,...   linear   0.01  1.000   \n",
       "{'regressor__C': 0.1, 'regressor__gamma': 0.001...   linear   0.10  0.001   \n",
       "...                                                     ...    ...    ...   \n",
       "{'regressor__C': 1.0, 'regressor__gamma': 1.0, ...  sigmoid   1.00  1.000   \n",
       "{'regressor__C': 10.0, 'regressor__gamma': 0.00...  sigmoid  10.00  0.001   \n",
       "{'regressor__C': 10.0, 'regressor__gamma': 0.01...  sigmoid  10.00  0.010   \n",
       "{'regressor__C': 10.0, 'regressor__gamma': 0.1,...  sigmoid  10.00  0.100   \n",
       "{'regressor__C': 10.0, 'regressor__gamma': 1.0,...  sigmoid  10.00  1.000   \n",
       "\n",
       "                                                       mean_test  \\\n",
       "{'regressor__C': 0.01, 'regressor__gamma': 0.00...  3.442900e-02   \n",
       "{'regressor__C': 0.01, 'regressor__gamma': 0.01...  3.442900e-02   \n",
       "{'regressor__C': 0.01, 'regressor__gamma': 0.1,...  3.442900e-02   \n",
       "{'regressor__C': 0.01, 'regressor__gamma': 1.0,...  3.442900e-02   \n",
       "{'regressor__C': 0.1, 'regressor__gamma': 0.001...  3.400200e-02   \n",
       "...                                                          ...   \n",
       "{'regressor__C': 1.0, 'regressor__gamma': 1.0, ...  3.036000e+04   \n",
       "{'regressor__C': 10.0, 'regressor__gamma': 0.00...  3.443000e-02   \n",
       "{'regressor__C': 10.0, 'regressor__gamma': 0.01...  5.870744e+00   \n",
       "{'regressor__C': 10.0, 'regressor__gamma': 0.1,...  6.987010e+04   \n",
       "{'regressor__C': 10.0, 'regressor__gamma': 1.0,...  3.079751e+06   \n",
       "\n",
       "                                                      mean_train  \\\n",
       "{'regressor__C': 0.01, 'regressor__gamma': 0.00...  3.301200e-02   \n",
       "{'regressor__C': 0.01, 'regressor__gamma': 0.01...  3.301200e-02   \n",
       "{'regressor__C': 0.01, 'regressor__gamma': 0.1,...  3.301200e-02   \n",
       "{'regressor__C': 0.01, 'regressor__gamma': 1.0,...  3.301200e-02   \n",
       "{'regressor__C': 0.1, 'regressor__gamma': 0.001...  3.061800e-02   \n",
       "...                                                          ...   \n",
       "{'regressor__C': 1.0, 'regressor__gamma': 1.0, ...  3.213924e+04   \n",
       "{'regressor__C': 10.0, 'regressor__gamma': 0.00...  3.301500e-02   \n",
       "{'regressor__C': 10.0, 'regressor__gamma': 0.01...  5.664162e+00   \n",
       "{'regressor__C': 10.0, 'regressor__gamma': 0.1,...  6.859291e+04   \n",
       "{'regressor__C': 10.0, 'regressor__gamma': 1.0,...  3.208348e+06   \n",
       "\n",
       "                                                    rank_test_score  \\\n",
       "{'regressor__C': 0.01, 'regressor__gamma': 0.00...               17   \n",
       "{'regressor__C': 0.01, 'regressor__gamma': 0.01...               17   \n",
       "{'regressor__C': 0.01, 'regressor__gamma': 0.1,...               17   \n",
       "{'regressor__C': 0.01, 'regressor__gamma': 1.0,...               17   \n",
       "{'regressor__C': 0.1, 'regressor__gamma': 0.001...                4   \n",
       "...                                                             ...   \n",
       "{'regressor__C': 1.0, 'regressor__gamma': 1.0, ...               62   \n",
       "{'regressor__C': 10.0, 'regressor__gamma': 0.00...               21   \n",
       "{'regressor__C': 10.0, 'regressor__gamma': 0.01...               58   \n",
       "{'regressor__C': 10.0, 'regressor__gamma': 0.1,...               63   \n",
       "{'regressor__C': 10.0, 'regressor__gamma': 1.0,...               64   \n",
       "\n",
       "                                                    mean_fit_time  \\\n",
       "{'regressor__C': 0.01, 'regressor__gamma': 0.00...       0.742550   \n",
       "{'regressor__C': 0.01, 'regressor__gamma': 0.01...       0.805426   \n",
       "{'regressor__C': 0.01, 'regressor__gamma': 0.1,...       0.859454   \n",
       "{'regressor__C': 0.01, 'regressor__gamma': 1.0,...       0.983865   \n",
       "{'regressor__C': 0.1, 'regressor__gamma': 0.001...       1.085307   \n",
       "...                                                           ...   \n",
       "{'regressor__C': 1.0, 'regressor__gamma': 1.0, ...       2.851976   \n",
       "{'regressor__C': 10.0, 'regressor__gamma': 0.00...       1.012043   \n",
       "{'regressor__C': 10.0, 'regressor__gamma': 0.01...       1.829366   \n",
       "{'regressor__C': 10.0, 'regressor__gamma': 0.1,...       2.498179   \n",
       "{'regressor__C': 10.0, 'regressor__gamma': 1.0,...       3.103383   \n",
       "\n",
       "                                                    mean_score_time  \n",
       "{'regressor__C': 0.01, 'regressor__gamma': 0.00...         0.128368  \n",
       "{'regressor__C': 0.01, 'regressor__gamma': 0.01...         0.206080  \n",
       "{'regressor__C': 0.01, 'regressor__gamma': 0.1,...         0.202827  \n",
       "{'regressor__C': 0.01, 'regressor__gamma': 1.0,...         0.200977  \n",
       "{'regressor__C': 0.1, 'regressor__gamma': 0.001...         0.193959  \n",
       "...                                                             ...  \n",
       "{'regressor__C': 1.0, 'regressor__gamma': 1.0, ...         0.972086  \n",
       "{'regressor__C': 10.0, 'regressor__gamma': 0.00...         0.223565  \n",
       "{'regressor__C': 10.0, 'regressor__gamma': 0.01...         0.421085  \n",
       "{'regressor__C': 10.0, 'regressor__gamma': 0.1,...         0.766424  \n",
       "{'regressor__C': 10.0, 'regressor__gamma': 1.0,...         0.869590  \n",
       "\n",
       "[64 rows x 8 columns]"
      ]
     },
     "execution_count": 14,
     "metadata": {},
     "output_type": "execute_result"
    }
   ],
   "source": [
    "# Read recording data from record_hyperparameters_svm.csv\n",
    "recording_save_df = pd.read_csv('record_hyperparameters_svm.csv', sep=',', engine='python', encoding='utf-8', index_col=[0])\n",
    "recording_save_df"
   ]
  },
  {
   "cell_type": "markdown",
   "metadata": {},
   "source": [
    "Let's examine the MSE value of each kernel through the relationship between `C` and `gamma`."
   ]
  },
  {
   "cell_type": "code",
   "execution_count": 15,
   "metadata": {},
   "outputs": [
    {
     "data": {
      "image/png": "[encoded data removed]",
      "text/plain": [
       "<Figure size 1000x800 with 8 Axes>"
      ]
     },
     "metadata": {},
     "output_type": "display_data"
    }
   ],
   "source": [
    "heatmap_df = recording_save_df.copy().reset_index().drop(columns=['index', 'mean_test', 'rank_test_score', 'mean_fit_time', 'mean_score_time']).set_index(['kernel'])\n",
    "min_range = heatmap_df['mean_train'].min()\n",
    "\n",
    "# Set up the matplotlib figure\n",
    "fig, axes = plt.subplots(nrows=2, ncols=2, figsize=(10, 8), sharex=True, sharey=True)\n",
    "\n",
    "# Plot heatmap each kernel\n",
    "for index, kernel in enumerate(heatmap_df.index.unique()):\n",
    "    ax = axes[index // 2, index % 2]\n",
    "    data_plot = heatmap_df.loc[kernel].copy()\\\n",
    "        .reset_index().drop(columns=['kernel'])\\\n",
    "        .set_index(['C', 'gamma'])\n",
    "    data_plot = data_plot['mean_train'].unstack('gamma').rename_axis(None, axis=1)\n",
    "    data_plot.index.name = None\n",
    "    sns.heatmap(data_plot, annot=True, ax=ax,\n",
    "                vmin=min_range, vmax=0.1, fmt='.3f',\n",
    "                cmap='Blues_r', annot_kws={\"size\": 6})\n",
    "    ax.set_title('MSE of SVM with ' + kernel)\n",
    "    if index % 2 == 0:\n",
    "        ax.set_ylabel('C')\n",
    "        \n",
    "    if index // 2 == 1:\n",
    "        ax.set_xlabel('gamma')\n",
    "\n",
    "plt.show()"
   ]
  },
  {
   "cell_type": "markdown",
   "metadata": {},
   "source": [
    "It appears that the `sigmoid` kernel have lighter colors compared to the `linear`, `rbf` and `poly` kernels. When using the `sigmoid` kernel, the MSE tends to increase as the hyperparameter gets larger. This indicates that when the penalty coefficient `C` is higher, the SVM with sigmoid tends to suffer from **_underfitting_**."
   ]
  },
  {
   "cell_type": "markdown",
   "metadata": {},
   "source": [
    "Let's check if **_overfitting_** occurs with the kernels of the SVM model."
   ]
  },
  {
   "cell_type": "code",
   "execution_count": 16,
   "metadata": {},
   "outputs": [
    {
     "data": {
      "image/png": "[encoded data removed]",
      "text/plain": [
       "<Figure size 1000x800 with 8 Axes>"
      ]
     },
     "metadata": {},
     "output_type": "display_data"
    }
   ],
   "source": [
    "bar_df = pd.DataFrame({'kernel': recording_save_df['kernel'],\n",
    "                       'C': recording_save_df['C'],\n",
    "                       'gamma': recording_save_df['gamma'],\n",
    "                       'influence': recording_save_df['mean_train'] - recording_save_df['mean_test']},\n",
    "                       index=recording_save_df.index)\n",
    "bar_df = bar_df.reset_index().drop(columns=['index']).set_index(['kernel'])\n",
    "\n",
    "# Set up the matplotlib figure\n",
    "fig, axes = plt.subplots(nrows=2, ncols=2, figsize=(10, 8), sharex=True, sharey=True)\n",
    "\n",
    "# Plot heatmap each kernel\n",
    "for index, kernel in enumerate(bar_df.index.unique()):\n",
    "    ax = axes[index // 2, index % 2]\n",
    "    data_plot = bar_df.loc[kernel].copy()\\\n",
    "        .reset_index().drop(columns=['kernel'])\\\n",
    "        .set_index(['C', 'gamma'])\n",
    "    data_plot = data_plot['influence'].unstack('gamma').rename_axis(None, axis=1)\n",
    "    data_plot.index.name = None\n",
    "    sns.heatmap(data_plot, annot=True, ax=ax,\n",
    "                vmin=-0.5, vmax=0.5, fmt='.3f',\n",
    "                cmap='coolwarm_r', annot_kws={\"size\": 6})\n",
    "    ax.set_title('Influence value of SVM with ' + kernel)\n",
    "    if index % 2 == 0:\n",
    "        ax.set_ylabel('C')\n",
    "        \n",
    "    if index // 2 == 1:\n",
    "        ax.set_xlabel('gamma')\n",
    "\n",
    "plt.show()"
   ]
  },
  {
   "cell_type": "markdown",
   "metadata": {},
   "source": [
    "The `influence` value has a specific meaning:\n",
    "- When the value is positive (in blue), it indicates that the MSE of the training dataset is higher than the MSE of the validation dataset. It means that the model performs better on the validation dataset compared to the training dataset.\n",
    "- When the value is negative (in red), it indicates that the MSE of the training dataset is lower than the MSE of the validation dataset. It means that the model performs better on the training dataset compared to the validation dataset.\n",
    "\n",
    "It has been observed that the difference between the MSE of the training dataset and validation dataset is larger for SVM with `poly` and `sigmoid` kernels when the hyperparameter value is higher.\n",
    "\n",
    "Besides, for SVM with `poly` kernel, the `influence` value tends to be redder, which indicates that as the value of the penalty coefficient `C` increases, the model performs better on the training dataset but not on the validation dataset. This suggests that SVM with `poly` kernel is prone to **_overfitting_**."
   ]
  },
  {
   "cell_type": "markdown",
   "metadata": {},
   "source": [
    "After conducting `cross-validation` and `hyperparameter-tuning`, `GridSearchCV()` gave the best hyperparameter on my dataset:"
   ]
  },
  {
   "cell_type": "code",
   "execution_count": 17,
   "metadata": {},
   "outputs": [
    {
     "name": "stdout",
     "output_type": "stream",
     "text": [
      "SVR: Grid Search with cv=5\n",
      "- Kernel:  rbf\n",
      "- C:  10.0\n",
      "- Gamma:  0.01\n",
      "- Validation MSE: 0.032912\n"
     ]
    }
   ],
   "source": [
    "# # If you ran Grid Search with cv=5, you can print the best parameters and the best score by code below\n",
    "# print('SVR: Grid Search with cv=5')\n",
    "# print('- Kernel: ', reg_gs.best_params_['regressor__kernel'])\n",
    "# print('- C: ', reg_gs.best_params_['regressor__C'])\n",
    "# print('- Gamma: ', reg_gs.best_params_['regressor__gamma'])\n",
    "# print('- Validation MSE: %.6f' % -reg_gs.best_score_)\n",
    "\n",
    "# Otherwise, you can print the best parameters and the best score by code below\n",
    "print('SVR: Grid Search with cv=5')\n",
    "print('- Kernel: ', recording_save_df[recording_save_df['rank_test_score'] == 1]['kernel'].values[0])\n",
    "print('- C: ', recording_save_df[recording_save_df['rank_test_score'] == 1]['C'].values[0])\n",
    "print('- Gamma: ', recording_save_df[recording_save_df['rank_test_score'] == 1]['gamma'].values[0])\n",
    "print('- Validation MSE: %.6f' % recording_save_df[recording_save_df['rank_test_score'] == 1]['mean_test'].values[0])"
   ]
  },
  {
   "cell_type": "markdown",
   "metadata": {},
   "source": [
    "## **4. Evaluate SVM model**"
   ]
  },
  {
   "cell_type": "code",
   "execution_count": 35,
   "metadata": {},
   "outputs": [
    {
     "name": "stdout",
     "output_type": "stream",
     "text": [
      "Training for SVM model takes 2.017543 seconds\n",
      "MSE of SVM: 0.031149\n",
      "R2 score of SVM: 0.398953\n"
     ]
    }
   ],
   "source": [
    "# SVM model with best parameters on testing dataset\n",
    "kernel_best = recording_save_df[recording_save_df['rank_test_score'] == 1]['kernel'].values[0]\n",
    "C_best = recording_save_df[recording_save_df['rank_test_score'] == 1]['C'].values[0]\n",
    "gamma_best = recording_save_df[recording_save_df['rank_test_score'] == 1]['gamma'].values[0]\n",
    "\n",
    "# Create the SVM model\n",
    "modelSVM = SVR(kernel=kernel_best, C=C_best, gamma=gamma_best)\n",
    "pipe_svm = Pipeline([('preprocessor', preprocessor),\n",
    "                      ('regressor', modelSVM)])\n",
    "\n",
    "# Measure time for training the model\n",
    "time_start = time.time()\n",
    "# Training the model on the training dataset\n",
    "history = pipe_svm.fit(X_train, y_train)\n",
    "time_end = time.time()\n",
    "\n",
    "# Evaluate the model on the testing dataset\n",
    "print('Training for SVM model takes %f seconds' % (time_end - time_start))\n",
    "print('MSE of SVM: %.6f' % mean_squared_error(y_test, pipe_svm.predict(X_test)))\n",
    "print('R2 score of SVM: %.6f' % r2_score(y_test, pipe_svm.predict(X_test)))"
   ]
  }
 ],
 "metadata": {
  "kernelspec": {
   "display_name": "min_ds-env",
   "language": "python",
   "name": "python3"
  },
  "language_info": {
   "codemirror_mode": {
    "name": "ipython",
    "version": 3
   },
   "file_extension": ".py",
   "mimetype": "text/x-python",
   "name": "python",
   "nbconvert_exporter": "python",
   "pygments_lexer": "ipython3",
   "version": "3.10.8"
  }
 },
 "nbformat": 4,
 "nbformat_minor": 2
}
