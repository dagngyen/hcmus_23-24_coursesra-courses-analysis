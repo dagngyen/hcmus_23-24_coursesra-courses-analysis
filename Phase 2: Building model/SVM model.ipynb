{
 "cells": [
  {
   "cell_type": "markdown",
   "metadata": {},
   "source": [
    "# **Support vector machine sigmoid kernel (SVM with sigmoid)**"
   ]
  },
  {
   "cell_type": "markdown",
   "metadata": {},
   "source": [
    "## **1. Import necessary libraries**"
   ]
  },
  {
   "cell_type": "code",
   "execution_count": 39,
   "metadata": {},
   "outputs": [],
   "source": [
    "import pandas as pd\n",
    "import numpy as np\n",
    "\n",
    "from sklearn.model_selection import train_test_split\n",
    "from sklearn.svm import SVR\n",
    "from sklearn.model_selection import GridSearchCV\n",
    "from sklearn.preprocessing import OneHotEncoder, StandardScaler\n",
    "from sklearn.metrics import accuracy_score\n",
    "from sklearn.metrics import mean_squared_error\n",
    "from sklearn.compose import ColumnTransformer\n",
    "from sklearn.pipeline import Pipeline\n",
    "\n",
    "import matplotlib.pyplot as plt\n",
    "import seaborn as sns"
   ]
  },
  {
   "cell_type": "code",
   "execution_count": 2,
   "metadata": {},
   "outputs": [
    {
     "data": {
      "text/plain": [
       "'/home/dagngyen5462/miniconda3/envs/min_ds-env/bin/python'"
      ]
     },
     "execution_count": 2,
     "metadata": {},
     "output_type": "execute_result"
    }
   ],
   "source": [
    "import warnings\n",
    "warnings.filterwarnings('ignore')\n",
    "\n",
    "import sys\n",
    "sys.executable"
   ]
  },
  {
   "cell_type": "markdown",
   "metadata": {},
   "source": [
    "## **2. Insert and preprocess data**"
   ]
  },
  {
   "cell_type": "markdown",
   "metadata": {},
   "source": [
    "### **2.1. Load data**\n",
    "Load our data from path `../Data/processed_data.csv`."
   ]
  },
  {
   "cell_type": "code",
   "execution_count": 14,
   "metadata": {},
   "outputs": [
    {
     "data": {
      "text/html": [
       "<div>\n",
       "<style scoped>\n",
       "    .dataframe tbody tr th:only-of-type {\n",
       "        vertical-align: middle;\n",
       "    }\n",
       "\n",
       "    .dataframe tbody tr th {\n",
       "        vertical-align: top;\n",
       "    }\n",
       "\n",
       "    .dataframe thead th {\n",
       "        text-align: right;\n",
       "    }\n",
       "</style>\n",
       "<table border=\"1\" class=\"dataframe\">\n",
       "  <thead>\n",
       "    <tr style=\"text-align: right;\">\n",
       "      <th></th>\n",
       "      <th>name</th>\n",
       "      <th>general</th>\n",
       "      <th>specify</th>\n",
       "      <th>enrollment</th>\n",
       "      <th>language</th>\n",
       "      <th>rating</th>\n",
       "      <th>level</th>\n",
       "      <th>duration</th>\n",
       "      <th>instructor</th>\n",
       "      <th>instructor_rate</th>\n",
       "      <th>offered by</th>\n",
       "    </tr>\n",
       "  </thead>\n",
       "  <tbody>\n",
       "    <tr>\n",
       "      <th>5562</th>\n",
       "      <td>Web of Data</td>\n",
       "      <td>Data Science</td>\n",
       "      <td>Data Analysis</td>\n",
       "      <td>5918</td>\n",
       "      <td>English</td>\n",
       "      <td>4.1</td>\n",
       "      <td>Intermediate</td>\n",
       "      <td>18</td>\n",
       "      <td>Fabien Gandon, Catherine Faron Zucker, Olivier...</td>\n",
       "      <td>3.9</td>\n",
       "      <td>EIT Digital</td>\n",
       "    </tr>\n",
       "    <tr>\n",
       "      <th>5422</th>\n",
       "      <td>Applied Public History: Places, People, Stories</td>\n",
       "      <td>Arts and Humanities</td>\n",
       "      <td>History</td>\n",
       "      <td>5234</td>\n",
       "      <td>English</td>\n",
       "      <td>4.8</td>\n",
       "      <td>Beginner</td>\n",
       "      <td>26</td>\n",
       "      <td>Catherine Clarke</td>\n",
       "      <td>4.9</td>\n",
       "      <td>University of London</td>\n",
       "    </tr>\n",
       "    <tr>\n",
       "      <th>3044</th>\n",
       "      <td>Introduction to Particle Accelerators (NPAP MOOC)</td>\n",
       "      <td>Physical Science and Engineering</td>\n",
       "      <td>Research Methods</td>\n",
       "      <td>6200</td>\n",
       "      <td>English</td>\n",
       "      <td>4.7</td>\n",
       "      <td>Intermediate</td>\n",
       "      <td>11</td>\n",
       "      <td>Mats Lindroos, Sverker Werin, Erik Adli, Franc...</td>\n",
       "      <td>4.6</td>\n",
       "      <td>Lund University</td>\n",
       "    </tr>\n",
       "    <tr>\n",
       "      <th>1107</th>\n",
       "      <td>Connect Your Services with Microsoft Azure Ser...</td>\n",
       "      <td>Computer Science</td>\n",
       "      <td>Software Development</td>\n",
       "      <td>2612</td>\n",
       "      <td>English</td>\n",
       "      <td>4.6</td>\n",
       "      <td>Intermediate</td>\n",
       "      <td>10</td>\n",
       "      <td>Microsoft</td>\n",
       "      <td>4.7</td>\n",
       "      <td>Microsoft</td>\n",
       "    </tr>\n",
       "    <tr>\n",
       "      <th>2056</th>\n",
       "      <td>Data Processing and Feature Engineering with M...</td>\n",
       "      <td>Data Science</td>\n",
       "      <td>Data Analysis</td>\n",
       "      <td>14316</td>\n",
       "      <td>English</td>\n",
       "      <td>4.7</td>\n",
       "      <td>Intermediate</td>\n",
       "      <td>20</td>\n",
       "      <td>Amanda  Wang, Matt Rich, Cris LaPierre, Adam F...</td>\n",
       "      <td>4.7</td>\n",
       "      <td>MathWorks</td>\n",
       "    </tr>\n",
       "  </tbody>\n",
       "</table>\n",
       "</div>"
      ],
      "text/plain": [
       "                                                   name  \\\n",
       "5562                                        Web of Data   \n",
       "5422    Applied Public History: Places, People, Stories   \n",
       "3044  Introduction to Particle Accelerators (NPAP MOOC)   \n",
       "1107  Connect Your Services with Microsoft Azure Ser...   \n",
       "2056  Data Processing and Feature Engineering with M...   \n",
       "\n",
       "                               general               specify  enrollment  \\\n",
       "5562                      Data Science         Data Analysis        5918   \n",
       "5422               Arts and Humanities               History        5234   \n",
       "3044  Physical Science and Engineering      Research Methods        6200   \n",
       "1107                  Computer Science  Software Development        2612   \n",
       "2056                      Data Science         Data Analysis       14316   \n",
       "\n",
       "     language  rating         level  duration  \\\n",
       "5562  English     4.1  Intermediate        18   \n",
       "5422  English     4.8      Beginner        26   \n",
       "3044  English     4.7  Intermediate        11   \n",
       "1107  English     4.6  Intermediate        10   \n",
       "2056  English     4.7  Intermediate        20   \n",
       "\n",
       "                                             instructor  instructor_rate  \\\n",
       "5562  Fabien Gandon, Catherine Faron Zucker, Olivier...              3.9   \n",
       "5422                                   Catherine Clarke              4.9   \n",
       "3044  Mats Lindroos, Sverker Werin, Erik Adli, Franc...              4.6   \n",
       "1107                                          Microsoft              4.7   \n",
       "2056  Amanda  Wang, Matt Rich, Cris LaPierre, Adam F...              4.7   \n",
       "\n",
       "                offered by  \n",
       "5562          EIT Digital   \n",
       "5422  University of London  \n",
       "3044       Lund University  \n",
       "1107             Microsoft  \n",
       "2056             MathWorks  "
      ]
     },
     "execution_count": 14,
     "metadata": {},
     "output_type": "execute_result"
    }
   ],
   "source": [
    "# Load our data from path `../Data/processed_data.csv`\n",
    "courses_df = pd.read_csv('../Data/processed_data.csv', sep=',',engine='python', encoding='utf-8')\n",
    "courses_df.sample(5)"
   ]
  },
  {
   "cell_type": "markdown",
   "metadata": {},
   "source": [
    "### **2.2. Preprocess data**"
   ]
  },
  {
   "cell_type": "markdown",
   "metadata": {},
   "source": [
    "- The `name` and `instructor` features needs to be removed because it is not useful in training the model."
   ]
  },
  {
   "cell_type": "code",
   "execution_count": 15,
   "metadata": {},
   "outputs": [
    {
     "data": {
      "text/html": [
       "<div>\n",
       "<style scoped>\n",
       "    .dataframe tbody tr th:only-of-type {\n",
       "        vertical-align: middle;\n",
       "    }\n",
       "\n",
       "    .dataframe tbody tr th {\n",
       "        vertical-align: top;\n",
       "    }\n",
       "\n",
       "    .dataframe thead th {\n",
       "        text-align: right;\n",
       "    }\n",
       "</style>\n",
       "<table border=\"1\" class=\"dataframe\">\n",
       "  <thead>\n",
       "    <tr style=\"text-align: right;\">\n",
       "      <th></th>\n",
       "      <th>general</th>\n",
       "      <th>specify</th>\n",
       "      <th>enrollment</th>\n",
       "      <th>language</th>\n",
       "      <th>rating</th>\n",
       "      <th>level</th>\n",
       "      <th>duration</th>\n",
       "      <th>instructor_rate</th>\n",
       "      <th>offered by</th>\n",
       "    </tr>\n",
       "  </thead>\n",
       "  <tbody>\n",
       "    <tr>\n",
       "      <th>761</th>\n",
       "      <td>Computer Science</td>\n",
       "      <td>Software Development</td>\n",
       "      <td>3299</td>\n",
       "      <td>English</td>\n",
       "      <td>4.7</td>\n",
       "      <td>Beginner</td>\n",
       "      <td>13</td>\n",
       "      <td>4.8</td>\n",
       "      <td>Institut Mines-Télécom</td>\n",
       "    </tr>\n",
       "    <tr>\n",
       "      <th>3404</th>\n",
       "      <td>Business</td>\n",
       "      <td>Leadership and Management</td>\n",
       "      <td>3483</td>\n",
       "      <td>English</td>\n",
       "      <td>4.9</td>\n",
       "      <td>Beginner</td>\n",
       "      <td>5</td>\n",
       "      <td>4.7</td>\n",
       "      <td>Politecnico di Milano</td>\n",
       "    </tr>\n",
       "    <tr>\n",
       "      <th>1213</th>\n",
       "      <td>Computer Science</td>\n",
       "      <td>Design and Product</td>\n",
       "      <td>9176</td>\n",
       "      <td>Spanish</td>\n",
       "      <td>4.9</td>\n",
       "      <td>Beginner</td>\n",
       "      <td>20</td>\n",
       "      <td>4.9</td>\n",
       "      <td>Google</td>\n",
       "    </tr>\n",
       "    <tr>\n",
       "      <th>5540</th>\n",
       "      <td>Computer Science</td>\n",
       "      <td>Algorithms</td>\n",
       "      <td>20741</td>\n",
       "      <td>English</td>\n",
       "      <td>4.7</td>\n",
       "      <td>Intermediate</td>\n",
       "      <td>24</td>\n",
       "      <td>4.4</td>\n",
       "      <td>University of Illinois at Urbana-Champaign</td>\n",
       "    </tr>\n",
       "    <tr>\n",
       "      <th>1967</th>\n",
       "      <td>Business</td>\n",
       "      <td>Entrepreneurship</td>\n",
       "      <td>7246</td>\n",
       "      <td>French</td>\n",
       "      <td>4.6</td>\n",
       "      <td>Beginner</td>\n",
       "      <td>11</td>\n",
       "      <td>4.6</td>\n",
       "      <td>ESSEC Business School</td>\n",
       "    </tr>\n",
       "  </tbody>\n",
       "</table>\n",
       "</div>"
      ],
      "text/plain": [
       "               general                    specify  enrollment language  \\\n",
       "761   Computer Science       Software Development        3299  English   \n",
       "3404          Business  Leadership and Management        3483  English   \n",
       "1213  Computer Science         Design and Product        9176  Spanish   \n",
       "5540  Computer Science                 Algorithms       20741  English   \n",
       "1967          Business           Entrepreneurship        7246   French   \n",
       "\n",
       "      rating         level  duration  instructor_rate  \\\n",
       "761      4.7      Beginner        13              4.8   \n",
       "3404     4.9      Beginner         5              4.7   \n",
       "1213     4.9      Beginner        20              4.9   \n",
       "5540     4.7  Intermediate        24              4.4   \n",
       "1967     4.6      Beginner        11              4.6   \n",
       "\n",
       "                                      offered by  \n",
       "761                       Institut Mines-Télécom  \n",
       "3404                       Politecnico di Milano  \n",
       "1213                                      Google  \n",
       "5540  University of Illinois at Urbana-Champaign  \n",
       "1967                       ESSEC Business School  "
      ]
     },
     "execution_count": 15,
     "metadata": {},
     "output_type": "execute_result"
    }
   ],
   "source": [
    "data_ = courses_df.copy().drop(columns=['name', 'instructor'])\n",
    "data_.sample(5)"
   ]
  },
  {
   "cell_type": "markdown",
   "metadata": {},
   "source": [
    "- Explore missing values in variables:\n",
    "    + View summary of dataset."
   ]
  },
  {
   "cell_type": "code",
   "execution_count": 21,
   "metadata": {},
   "outputs": [
    {
     "name": "stdout",
     "output_type": "stream",
     "text": [
      "<class 'pandas.core.frame.DataFrame'>\n",
      "Index: 5702 entries, 0 to 5717\n",
      "Data columns (total 9 columns):\n",
      " #   Column           Non-Null Count  Dtype  \n",
      "---  ------           --------------  -----  \n",
      " 0   general          5702 non-null   object \n",
      " 1   specify          5702 non-null   object \n",
      " 2   enrollment       5702 non-null   int64  \n",
      " 3   language         5702 non-null   object \n",
      " 4   rating           5702 non-null   float64\n",
      " 5   level            5702 non-null   object \n",
      " 6   duration         5702 non-null   int64  \n",
      " 7   instructor_rate  5702 non-null   float64\n",
      " 8   offered by       5702 non-null   object \n",
      "dtypes: float64(2), int64(2), object(5)\n",
      "memory usage: 445.5+ KB\n"
     ]
    }
   ],
   "source": [
    "data_.info()"
   ]
  },
  {
   "cell_type": "code",
   "execution_count": 22,
   "metadata": {},
   "outputs": [
    {
     "name": "stdout",
     "output_type": "stream",
     "text": [
      "Number missing values in each column:\n",
      " general            0\n",
      "specify            0\n",
      "enrollment         0\n",
      "language           0\n",
      "rating             0\n",
      "level              0\n",
      "duration           0\n",
      "instructor_rate    0\n",
      "offered by         0\n",
      "dtype: int64\n"
     ]
    }
   ],
   "source": [
    "print('Number missing values in each column:\\n',data_.isnull().sum())"
   ]
  },
  {
   "cell_type": "markdown",
   "metadata": {},
   "source": [
    "- Explore missing values in variables:\n",
    "    + Drop rows with missing values: Because the number of missing values each variable is insignificant, we will remove rows containing missing data."
   ]
  },
  {
   "cell_type": "code",
   "execution_count": 23,
   "metadata": {},
   "outputs": [
    {
     "name": "stdout",
     "output_type": "stream",
     "text": [
      "Number missing values in each column:\n",
      " general            0\n",
      "specify            0\n",
      "enrollment         0\n",
      "language           0\n",
      "rating             0\n",
      "level              0\n",
      "duration           0\n",
      "instructor_rate    0\n",
      "offered by         0\n",
      "dtype: int64\n"
     ]
    }
   ],
   "source": [
    "# Drop rows with missing values\n",
    "data_.dropna(inplace=True)\n",
    "print('Number missing values in each column:\\n',data_.isnull().sum())"
   ]
  },
  {
   "cell_type": "markdown",
   "metadata": {},
   "source": [
    "## **3. Prepare for training model**"
   ]
  },
  {
   "cell_type": "markdown",
   "metadata": {},
   "source": [
    "### **3.1. Define kind of features**"
   ]
  },
  {
   "cell_type": "markdown",
   "metadata": {},
   "source": [
    "- Define selection and target features to prepare data for training model."
   ]
  },
  {
   "cell_type": "code",
   "execution_count": 24,
   "metadata": {},
   "outputs": [],
   "source": [
    "# Define selection and target features to prepare data for training model\n",
    "target = ['rating']\n",
    "specificities = list(set(data_.columns) - set(target))"
   ]
  },
  {
   "cell_type": "markdown",
   "metadata": {},
   "source": [
    "- Define numerical and categorical features to transformer."
   ]
  },
  {
   "cell_type": "code",
   "execution_count": 25,
   "metadata": {},
   "outputs": [
    {
     "name": "stdout",
     "output_type": "stream",
     "text": [
      "Numerical features: ['duration', 'enrollment', 'instructor_rate']\n",
      "Categorical features: ['offered by', 'level', 'general', 'language', 'specify']\n"
     ]
    }
   ],
   "source": [
    "# Define numerical and categorical features\n",
    "numeracy_ = list(set(specificities) - set(courses_df.select_dtypes(include=['object']).columns))\n",
    "category_ = list(set(specificities) - set(courses_df.select_dtypes(exclude=['object']).columns))\n",
    "print('Numerical features:', numeracy_)\n",
    "print('Categorical features:', category_)"
   ]
  },
  {
   "cell_type": "markdown",
   "metadata": {},
   "source": [
    "### **3.2. Split data**\n",
    "Split data into 3 datasets: `Training dataset`, `Validation dataset` and `Testing dataset`. We’ll perform splitting on the following ratio 80-20."
   ]
  },
  {
   "cell_type": "code",
   "execution_count": 26,
   "metadata": {},
   "outputs": [],
   "source": [
    "# Define the constant variable random_state\n",
    "random_state = 2112\n",
    "\n",
    "# Select features and target variable\n",
    "X = data_[specificities]\n",
    "y = data_[target]\n",
    "\n",
    "# Split data on the following ratio 80-20\n",
    "X_train, X_test, y_train, y_test = train_test_split(X, y, test_size=0.3,random_state=random_state)"
   ]
  },
  {
   "cell_type": "markdown",
   "metadata": {},
   "source": [
    "### **3.3. Initialize transformer**"
   ]
  },
  {
   "cell_type": "code",
   "execution_count": 27,
   "metadata": {},
   "outputs": [],
   "source": [
    "# Create transformer for numerical and categorical features by using Pipeline\n",
    "num_transformer = Pipeline(steps=[('scaler', StandardScaler())])\n",
    "cat_transformer = Pipeline(steps=[('onehot', OneHotEncoder(sparse=False, handle_unknown='ignore'))])\n",
    "\n",
    "# Create a preprocessor using ColumnTransformer\n",
    "preprocessor = ColumnTransformer(transformers=[('num', num_transformer, numeracy_),\n",
    "                                               ('cat', cat_transformer, category_)])"
   ]
  },
  {
   "cell_type": "markdown",
   "metadata": {},
   "source": [
    "### **3.4. Search hyperparameter for available data fitting model**"
   ]
  },
  {
   "cell_type": "markdown",
   "metadata": {},
   "source": [
    "- When tuning the hyperparameter, I use `GridSearchCV`.\n",
    "- While setting up the `Pipeline` for `GridSearchCV`, I set the variable value `cv=5`.\n",
    "    + This means that `GridSearchCV` will divide the training dataset into 5 sub-datasets.\n",
    "    + Each sub-dataset will be used as a **_validation dataset_** while the others will be used for **_training_** and **_hyperparameter-tuning_**.\n",
    "- To calculate the **Mean Squared Error** (MSE) score, `GridSearchCV` will take the average of splitting the training dataset 5 times.\n",
    "\n",
    "We take into account some essential hyperparameters for fine-tuning SVMs:\n",
    "- **`C`**: The regularization parameter that controls the trade-off between the margin and the number of training errors. A larger value of C penalizes training errors more heavily, resulting in a smaller margin but potentially better generalization performance. A smaller value of C allows for more training errors but may lead to overfitting.\n",
    "- **`Kernel`**: The kernel function that defines the similarity between data points. Different kernels can capture different relationships between data points, and the choice of kernel can significantly impact the performance of the SVM. Common kernels include linear, polynomial, radial basis function (RBF), and sigmoid.\n",
    "- **`Gamma`**: The parameter that controls the influence of support vectors on the decision boundary. A larger value of gamma indicates that nearby support vectors have a stronger influence, while a smaller value indicates that distant support vectors have a weaker influence. The choice of gamma is particularly important for RBF kernels."
   ]
  },
  {
   "cell_type": "code",
   "execution_count": 12,
   "metadata": {},
   "outputs": [],
   "source": [
    "# Use SVR for regression\n",
    "pipe_svm = Pipeline([('preprocessor', preprocessor),\n",
    "                      ('regressor', SVR())])\n",
    "\n",
    "# Fine-tuning hyperparameters\n",
    "param_kernel = ['linear', 'rbf', 'sigmoid', 'poly']\n",
    "param_C = [0.01, 0.1, 1.0, 10.0]\n",
    "param_gamma = [0.001, 0.01, 0.1, 1.0]\n",
    "param_grid = [{'regressor__C': param_C,\n",
    "               'regressor__kernel': param_kernel,\n",
    "               'regressor__gamma': param_gamma}]\n",
    "\n",
    "# Use a regression-specific scoring metric\n",
    "reg_gs = GridSearchCV(\n",
    "    estimator=pipe_svm,\n",
    "    param_grid=param_grid,\n",
    "    scoring=\"neg_mean_squared_error\",\n",
    "    return_train_score=True,\n",
    "    cv=5)\n",
    "\n",
    "reg_gs = reg_gs.fit(X_train, y_train)"
   ]
  },
  {
   "cell_type": "code",
   "execution_count": 16,
   "metadata": {},
   "outputs": [],
   "source": [
    "# Get scoring values of ref_gs\n",
    "recording_df = pd.DataFrame({'kernel':np.ma.getdata(reg_gs.cv_results_['param_regressor__kernel']),\n",
    "                             'C':np.ma.getdata(reg_gs.cv_results_['param_regressor__C']),\n",
    "                             'gamma':np.ma.getdata(reg_gs.cv_results_['param_regressor__gamma']),\n",
    "                             'mean_test':['{:f}'.format(item) for item in -reg_gs.cv_results_['mean_test_score'].round(6)],\n",
    "                             'mean_train':['{:f}'.format(item) for item in -reg_gs.cv_results_['mean_train_score'].round(6)],\n",
    "                             'ranking':reg_gs.cv_results_['rank_test_score']},\n",
    "                            index=reg_gs.cv_results_['params'])\\\n",
    "                                .sort_values(by=['kernel', 'C', 'gamma'], ascending=[True, True, True])\n",
    "recording_df.to_csv('record_hyperparameters_svm.csv', encoding='utf-8-sig')"
   ]
  },
  {
   "cell_type": "markdown",
   "metadata": {},
   "source": [
    "Since hyperparameter-tuning is time-consuming, I have saved the table that records the **Mean Squared Error** (**MSE**) data results to a `record_hyperparameters_svm.csv` file. By doing so, I can retrieve the saved data later on to explore the results, saving my time in case of interruptions during the project. This way, I can avoid redoing the hyperparameter tuning process."
   ]
  },
  {
   "cell_type": "code",
   "execution_count": 28,
   "metadata": {},
   "outputs": [
    {
     "data": {
      "text/html": [
       "<div>\n",
       "<style scoped>\n",
       "    .dataframe tbody tr th:only-of-type {\n",
       "        vertical-align: middle;\n",
       "    }\n",
       "\n",
       "    .dataframe tbody tr th {\n",
       "        vertical-align: top;\n",
       "    }\n",
       "\n",
       "    .dataframe thead th {\n",
       "        text-align: right;\n",
       "    }\n",
       "</style>\n",
       "<table border=\"1\" class=\"dataframe\">\n",
       "  <thead>\n",
       "    <tr style=\"text-align: right;\">\n",
       "      <th></th>\n",
       "      <th>kernel</th>\n",
       "      <th>C</th>\n",
       "      <th>gamma</th>\n",
       "      <th>mean_test</th>\n",
       "      <th>mean_train</th>\n",
       "      <th>ranking</th>\n",
       "    </tr>\n",
       "  </thead>\n",
       "  <tbody>\n",
       "    <tr>\n",
       "      <th>{'regressor__C': 0.01, 'regressor__gamma': 0.001, 'regressor__kernel': 'linear'}</th>\n",
       "      <td>linear</td>\n",
       "      <td>0.01</td>\n",
       "      <td>0.001</td>\n",
       "      <td>3.433600e-02</td>\n",
       "      <td>3.288000e-02</td>\n",
       "      <td>10</td>\n",
       "    </tr>\n",
       "    <tr>\n",
       "      <th>{'regressor__C': 0.01, 'regressor__gamma': 0.01, 'regressor__kernel': 'linear'}</th>\n",
       "      <td>linear</td>\n",
       "      <td>0.01</td>\n",
       "      <td>0.010</td>\n",
       "      <td>3.433600e-02</td>\n",
       "      <td>3.288000e-02</td>\n",
       "      <td>10</td>\n",
       "    </tr>\n",
       "    <tr>\n",
       "      <th>{'regressor__C': 0.01, 'regressor__gamma': 0.1, 'regressor__kernel': 'linear'}</th>\n",
       "      <td>linear</td>\n",
       "      <td>0.01</td>\n",
       "      <td>0.100</td>\n",
       "      <td>3.433600e-02</td>\n",
       "      <td>3.288000e-02</td>\n",
       "      <td>10</td>\n",
       "    </tr>\n",
       "    <tr>\n",
       "      <th>{'regressor__C': 0.01, 'regressor__gamma': 1.0, 'regressor__kernel': 'linear'}</th>\n",
       "      <td>linear</td>\n",
       "      <td>0.01</td>\n",
       "      <td>1.000</td>\n",
       "      <td>3.433600e-02</td>\n",
       "      <td>3.288000e-02</td>\n",
       "      <td>10</td>\n",
       "    </tr>\n",
       "    <tr>\n",
       "      <th>{'regressor__C': 0.1, 'regressor__gamma': 0.001, 'regressor__kernel': 'linear'}</th>\n",
       "      <td>linear</td>\n",
       "      <td>0.10</td>\n",
       "      <td>0.001</td>\n",
       "      <td>3.418000e-02</td>\n",
       "      <td>3.055900e-02</td>\n",
       "      <td>4</td>\n",
       "    </tr>\n",
       "    <tr>\n",
       "      <th>...</th>\n",
       "      <td>...</td>\n",
       "      <td>...</td>\n",
       "      <td>...</td>\n",
       "      <td>...</td>\n",
       "      <td>...</td>\n",
       "      <td>...</td>\n",
       "    </tr>\n",
       "    <tr>\n",
       "      <th>{'regressor__C': 1.0, 'regressor__gamma': 1.0, 'regressor__kernel': 'sigmoid'}</th>\n",
       "      <td>sigmoid</td>\n",
       "      <td>1.00</td>\n",
       "      <td>1.000</td>\n",
       "      <td>2.418177e+04</td>\n",
       "      <td>2.503934e+04</td>\n",
       "      <td>62</td>\n",
       "    </tr>\n",
       "    <tr>\n",
       "      <th>{'regressor__C': 10.0, 'regressor__gamma': 0.001, 'regressor__kernel': 'sigmoid'}</th>\n",
       "      <td>sigmoid</td>\n",
       "      <td>10.00</td>\n",
       "      <td>0.001</td>\n",
       "      <td>3.433300e-02</td>\n",
       "      <td>3.288200e-02</td>\n",
       "      <td>9</td>\n",
       "    </tr>\n",
       "    <tr>\n",
       "      <th>{'regressor__C': 10.0, 'regressor__gamma': 0.01, 'regressor__kernel': 'sigmoid'}</th>\n",
       "      <td>sigmoid</td>\n",
       "      <td>10.00</td>\n",
       "      <td>0.010</td>\n",
       "      <td>4.741948e+00</td>\n",
       "      <td>4.718597e+00</td>\n",
       "      <td>58</td>\n",
       "    </tr>\n",
       "    <tr>\n",
       "      <th>{'regressor__C': 10.0, 'regressor__gamma': 0.1, 'regressor__kernel': 'sigmoid'}</th>\n",
       "      <td>sigmoid</td>\n",
       "      <td>10.00</td>\n",
       "      <td>0.100</td>\n",
       "      <td>6.242521e+04</td>\n",
       "      <td>6.056644e+04</td>\n",
       "      <td>63</td>\n",
       "    </tr>\n",
       "    <tr>\n",
       "      <th>{'regressor__C': 10.0, 'regressor__gamma': 1.0, 'regressor__kernel': 'sigmoid'}</th>\n",
       "      <td>sigmoid</td>\n",
       "      <td>10.00</td>\n",
       "      <td>1.000</td>\n",
       "      <td>2.398410e+06</td>\n",
       "      <td>2.503694e+06</td>\n",
       "      <td>64</td>\n",
       "    </tr>\n",
       "  </tbody>\n",
       "</table>\n",
       "<p>64 rows × 6 columns</p>\n",
       "</div>"
      ],
      "text/plain": [
       "                                                     kernel      C  gamma  \\\n",
       "{'regressor__C': 0.01, 'regressor__gamma': 0.00...   linear   0.01  0.001   \n",
       "{'regressor__C': 0.01, 'regressor__gamma': 0.01...   linear   0.01  0.010   \n",
       "{'regressor__C': 0.01, 'regressor__gamma': 0.1,...   linear   0.01  0.100   \n",
       "{'regressor__C': 0.01, 'regressor__gamma': 1.0,...   linear   0.01  1.000   \n",
       "{'regressor__C': 0.1, 'regressor__gamma': 0.001...   linear   0.10  0.001   \n",
       "...                                                     ...    ...    ...   \n",
       "{'regressor__C': 1.0, 'regressor__gamma': 1.0, ...  sigmoid   1.00  1.000   \n",
       "{'regressor__C': 10.0, 'regressor__gamma': 0.00...  sigmoid  10.00  0.001   \n",
       "{'regressor__C': 10.0, 'regressor__gamma': 0.01...  sigmoid  10.00  0.010   \n",
       "{'regressor__C': 10.0, 'regressor__gamma': 0.1,...  sigmoid  10.00  0.100   \n",
       "{'regressor__C': 10.0, 'regressor__gamma': 1.0,...  sigmoid  10.00  1.000   \n",
       "\n",
       "                                                       mean_test  \\\n",
       "{'regressor__C': 0.01, 'regressor__gamma': 0.00...  3.433600e-02   \n",
       "{'regressor__C': 0.01, 'regressor__gamma': 0.01...  3.433600e-02   \n",
       "{'regressor__C': 0.01, 'regressor__gamma': 0.1,...  3.433600e-02   \n",
       "{'regressor__C': 0.01, 'regressor__gamma': 1.0,...  3.433600e-02   \n",
       "{'regressor__C': 0.1, 'regressor__gamma': 0.001...  3.418000e-02   \n",
       "...                                                          ...   \n",
       "{'regressor__C': 1.0, 'regressor__gamma': 1.0, ...  2.418177e+04   \n",
       "{'regressor__C': 10.0, 'regressor__gamma': 0.00...  3.433300e-02   \n",
       "{'regressor__C': 10.0, 'regressor__gamma': 0.01...  4.741948e+00   \n",
       "{'regressor__C': 10.0, 'regressor__gamma': 0.1,...  6.242521e+04   \n",
       "{'regressor__C': 10.0, 'regressor__gamma': 1.0,...  2.398410e+06   \n",
       "\n",
       "                                                      mean_train  ranking  \n",
       "{'regressor__C': 0.01, 'regressor__gamma': 0.00...  3.288000e-02       10  \n",
       "{'regressor__C': 0.01, 'regressor__gamma': 0.01...  3.288000e-02       10  \n",
       "{'regressor__C': 0.01, 'regressor__gamma': 0.1,...  3.288000e-02       10  \n",
       "{'regressor__C': 0.01, 'regressor__gamma': 1.0,...  3.288000e-02       10  \n",
       "{'regressor__C': 0.1, 'regressor__gamma': 0.001...  3.055900e-02        4  \n",
       "...                                                          ...      ...  \n",
       "{'regressor__C': 1.0, 'regressor__gamma': 1.0, ...  2.503934e+04       62  \n",
       "{'regressor__C': 10.0, 'regressor__gamma': 0.00...  3.288200e-02        9  \n",
       "{'regressor__C': 10.0, 'regressor__gamma': 0.01...  4.718597e+00       58  \n",
       "{'regressor__C': 10.0, 'regressor__gamma': 0.1,...  6.056644e+04       63  \n",
       "{'regressor__C': 10.0, 'regressor__gamma': 1.0,...  2.503694e+06       64  \n",
       "\n",
       "[64 rows x 6 columns]"
      ]
     },
     "execution_count": 28,
     "metadata": {},
     "output_type": "execute_result"
    }
   ],
   "source": [
    "# Read recording data from record_hyperparameters_svm.csv\n",
    "recording_save_df = pd.read_csv('record_hyperparameters_svm.csv', sep=',', engine='python', encoding='utf-8', index_col=[0])\n",
    "recording_save_df"
   ]
  },
  {
   "cell_type": "markdown",
   "metadata": {},
   "source": [
    "Let's examine the MSE value of each kernel through the relationship between `C` and `gamma`."
   ]
  },
  {
   "cell_type": "code",
   "execution_count": 29,
   "metadata": {},
   "outputs": [
    {
     "data": {
      "image/png": "[encoded data removed]",
      "text/plain": [
       "<Figure size 1000x800 with 8 Axes>"
      ]
     },
     "metadata": {},
     "output_type": "display_data"
    }
   ],
   "source": [
    "heatmap_df = recording_save_df.copy().reset_index().drop(columns=['index', 'mean_test', 'ranking']).set_index(['kernel'])\n",
    "min_range = heatmap_df['mean_train'].min()\n",
    "\n",
    "# Set up the matplotlib figure\n",
    "fig, axes = plt.subplots(nrows=2, ncols=2, figsize=(10, 8), sharex=True, sharey=True)\n",
    "\n",
    "# Plot heatmap each kernel\n",
    "for index, kernel in enumerate(heatmap_df.index.unique()):\n",
    "    ax = axes[index // 2, index % 2]\n",
    "    data_plot = heatmap_df.loc[kernel].copy()\\\n",
    "        .reset_index().drop(columns=['kernel'])\\\n",
    "        .set_index(['C', 'gamma'])\n",
    "    data_plot = data_plot['mean_train'].unstack('gamma').rename_axis(None, axis=1)\n",
    "    data_plot.index.name = None\n",
    "    sns.heatmap(data_plot, annot=True, ax=ax,\n",
    "                vmin=min_range, vmax=0.1, fmt='.3f',\n",
    "                cmap='Blues_r', annot_kws={\"size\": 6})\n",
    "    ax.set_title('MSE of SVM with ' + kernel)\n",
    "    if index % 2 == 0:\n",
    "        ax.set_ylabel('C')\n",
    "        \n",
    "    if index // 2 == 1:\n",
    "        ax.set_xlabel('gamma')\n",
    "\n",
    "plt.show()"
   ]
  },
  {
   "cell_type": "markdown",
   "metadata": {},
   "source": [
    "It appears that the `sigmoid` kernel have lighter colors compared to the `linear`, `rbf` and `poly` kernels. When using the `sigmoid` kernel, the MSE tends to increase as the hyperparameter gets larger. This indicates that when the penalty coefficient `C` is higher, the SVM with sigmoid tends to suffer from **_underfitting_**."
   ]
  },
  {
   "cell_type": "markdown",
   "metadata": {},
   "source": [
    "Let's check if **_overfitting_** occurs with the kernels of the SVM model."
   ]
  },
  {
   "cell_type": "code",
   "execution_count": 30,
   "metadata": {},
   "outputs": [
    {
     "data": {
      "image/png": "[encoded data removed]",
      "text/plain": [
       "<Figure size 1000x800 with 8 Axes>"
      ]
     },
     "metadata": {},
     "output_type": "display_data"
    }
   ],
   "source": [
    "bar_df = pd.DataFrame({'kernel': recording_save_df['kernel'],\n",
    "                       'C': recording_save_df['C'],\n",
    "                       'gamma': recording_save_df['gamma'],\n",
    "                       'influence': recording_save_df['mean_train'] - recording_save_df['mean_test']},\n",
    "                       index=recording_save_df.index)\n",
    "bar_df = bar_df.reset_index().drop(columns=['index']).set_index(['kernel'])\n",
    "\n",
    "# Set up the matplotlib figure\n",
    "fig, axes = plt.subplots(nrows=2, ncols=2, figsize=(10, 8), sharex=True, sharey=True)\n",
    "\n",
    "# Plot heatmap each kernel\n",
    "for index, kernel in enumerate(bar_df.index.unique()):\n",
    "    ax = axes[index // 2, index % 2]\n",
    "    data_plot = bar_df.loc[kernel].copy()\\\n",
    "        .reset_index().drop(columns=['kernel'])\\\n",
    "        .set_index(['C', 'gamma'])\n",
    "    data_plot = data_plot['influence'].unstack('gamma').rename_axis(None, axis=1)\n",
    "    data_plot.index.name = None\n",
    "    sns.heatmap(data_plot, annot=True, ax=ax,\n",
    "                vmin=-0.5, vmax=0.5, fmt='.3f',\n",
    "                cmap='coolwarm_r', annot_kws={\"size\": 6})\n",
    "    ax.set_title('Influence value of SVM with ' + kernel)\n",
    "    if index % 2 == 0:\n",
    "        ax.set_ylabel('C')\n",
    "        \n",
    "    if index // 2 == 1:\n",
    "        ax.set_xlabel('gamma')\n",
    "\n",
    "plt.show()"
   ]
  },
  {
   "cell_type": "markdown",
   "metadata": {},
   "source": [
    "The `influence` value has a specific meaning:\n",
    "- When the value is positive (in blue), it indicates that the MSE of the training dataset is higher than the MSE of the validation dataset. It means that the model performs better on the validation dataset compared to the training dataset.\n",
    "- When the value is negative (in red), it indicates that the MSE of the training dataset is lower than the MSE of the validation dataset. It means that the model performs better on the training dataset compared to the validation dataset.\n",
    "\n",
    "It has been observed that the difference between the MSE of the training dataset and validation dataset is larger for SVM with `poly` and `sigmoid` kernels when the hyperparameter value is higher.\n",
    "\n",
    "Besides, for SVM with `poly` kernel, the `influence` value tends to be redder, which indicates that as the value of the penalty coefficient `C` increases, the model performs better on the training dataset but not on the validation dataset. This suggests that SVM with `poly` kernel is prone to **_overfitting_**."
   ]
  },
  {
   "cell_type": "markdown",
   "metadata": {},
   "source": [
    "After conducting `cross-validation` and `hyperparameter-tuning`, `GridSearchCV()` gave the best hyperparameter on my dataset:"
   ]
  },
  {
   "cell_type": "code",
   "execution_count": 31,
   "metadata": {},
   "outputs": [
    {
     "name": "stdout",
     "output_type": "stream",
     "text": [
      "SVR: Grid Search with cv=5\n",
      "- Kernel:  rbf\n",
      "- C:  10.0\n",
      "- Gamma:  0.01\n",
      "- Validation MSE: 0.033245\n"
     ]
    }
   ],
   "source": [
    "# # If you ran Grid Search with cv=5, you can print the best parameters and the best score by code below\n",
    "# print('SVR: Grid Search with cv=5')\n",
    "# print('- Kernel: ', reg_gs.best_params_['regressor__kernel'])\n",
    "# print('- C: ', reg_gs.best_params_['regressor__C'])\n",
    "# print('- Gamma: ', reg_gs.best_params_['regressor__gamma'])\n",
    "# print('- Validation MSE: %.6f' % -reg_gs.best_score_)\n",
    "\n",
    "# Otherwise, you can print the best parameters and the best score by code below\n",
    "print('SVR: Grid Search with cv=5')\n",
    "print('- Kernel: ', recording_save_df[recording_save_df['ranking'] == 1]['kernel'].values[0])\n",
    "print('- C: ', recording_save_df[recording_save_df['ranking'] == 1]['C'].values[0])\n",
    "print('- Gamma: ', recording_save_df[recording_save_df['ranking'] == 1]['gamma'].values[0])\n",
    "print('- Validation MSE: %.6f' % recording_save_df[recording_save_df['ranking'] == 1]['mean_test'].values[0])"
   ]
  },
  {
   "cell_type": "markdown",
   "metadata": {},
   "source": [
    "## **4. Evaluate SVM model**"
   ]
  },
  {
   "cell_type": "code",
   "execution_count": 40,
   "metadata": {},
   "outputs": [
    {
     "name": "stdout",
     "output_type": "stream",
     "text": [
      "MSE of SVM: 0.032113\n"
     ]
    }
   ],
   "source": [
    "# SVM model with best parameters on testing dataset\n",
    "kernel_best = recording_save_df[recording_save_df['ranking'] == 1]['kernel'].values[0]\n",
    "C_best = recording_save_df[recording_save_df['ranking'] == 1]['C'].values[0]\n",
    "gamma_best = recording_save_df[recording_save_df['ranking'] == 1]['gamma'].values[0]\n",
    "\n",
    "# Create the SVM model\n",
    "modelSVM = SVR(kernel=kernel_best, C=C_best, gamma=gamma_best)\n",
    "pipe_svm = Pipeline([('preprocessor', preprocessor),\n",
    "                      ('regressor', modelSVM)])\n",
    "\n",
    "# Training the model on the training dataset\n",
    "pipe_svm.fit(X_train, y_train)\n",
    "\n",
    "# Evaluate the model on the testing dataset\n",
    "print('MSE of SVM: %.6f' % mean_squared_error(y_test, pipe_svm.predict(X_test)))"
   ]
  }
 ],
 "metadata": {
  "kernelspec": {
   "display_name": "min_ds-env",
   "language": "python",
   "name": "python3"
  },
  "language_info": {
   "codemirror_mode": {
    "name": "ipython",
    "version": 3
   },
   "file_extension": ".py",
   "mimetype": "text/x-python",
   "name": "python",
   "nbconvert_exporter": "python",
   "pygments_lexer": "ipython3",
   "version": "3.10.8"
  }
 },
 "nbformat": 4,
 "nbformat_minor": 2
}
