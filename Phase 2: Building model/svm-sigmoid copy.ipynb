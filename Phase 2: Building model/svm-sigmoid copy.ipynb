{
 "cells": [
  {
   "cell_type": "markdown",
   "metadata": {},
   "source": [
    "# **Support vector machine sigmoid kernel (SVM with sigmoid)**"
   ]
  },
  {
   "cell_type": "markdown",
   "metadata": {},
   "source": [
    "## **1. Import necessary libraries**"
   ]
  },
  {
   "cell_type": "code",
   "execution_count": 1,
   "metadata": {},
   "outputs": [],
   "source": [
    "import pandas as pd\n",
    "import numpy as np\n",
    "\n",
    "from sklearn.model_selection import train_test_split\n",
    "from sklearn.svm import SVR\n",
    "from sklearn.model_selection import GridSearchCV\n",
    "from sklearn.preprocessing import OneHotEncoder, StandardScaler, MinMaxScaler\n",
    "from sklearn.metrics import accuracy_score\n",
    "from sklearn import preprocessing\n",
    "from sklearn import utils\n",
    "from sklearn.compose import ColumnTransformer, make_column_transformer\n",
    "from sklearn.pipeline import Pipeline, make_pipeline\n",
    "\n",
    "import matplotlib.pyplot as plt\n",
    "import seaborn as sns"
   ]
  },
  {
   "cell_type": "code",
   "execution_count": 2,
   "metadata": {},
   "outputs": [],
   "source": [
    "import warnings\n",
    "\n",
    "warnings.filterwarnings('ignore')"
   ]
  },
  {
   "cell_type": "markdown",
   "metadata": {},
   "source": [
    "## **2. Insert and preprocess data**"
   ]
  },
  {
   "cell_type": "markdown",
   "metadata": {},
   "source": [
    "### **2.1. Load data**\n",
    "Load our data from path `../Data/processed_data.csv`."
   ]
  },
  {
   "cell_type": "code",
   "execution_count": 3,
   "metadata": {},
   "outputs": [
    {
     "data": {
      "text/html": [
       "<div>\n",
       "<style scoped>\n",
       "    .dataframe tbody tr th:only-of-type {\n",
       "        vertical-align: middle;\n",
       "    }\n",
       "\n",
       "    .dataframe tbody tr th {\n",
       "        vertical-align: top;\n",
       "    }\n",
       "\n",
       "    .dataframe thead th {\n",
       "        text-align: right;\n",
       "    }\n",
       "</style>\n",
       "<table border=\"1\" class=\"dataframe\">\n",
       "  <thead>\n",
       "    <tr style=\"text-align: right;\">\n",
       "      <th></th>\n",
       "      <th>name</th>\n",
       "      <th>general</th>\n",
       "      <th>specify</th>\n",
       "      <th>enrollment</th>\n",
       "      <th>language</th>\n",
       "      <th>rating</th>\n",
       "      <th>level</th>\n",
       "      <th>duration</th>\n",
       "      <th>instructor</th>\n",
       "      <th>instructor_rate</th>\n",
       "      <th>offered by</th>\n",
       "    </tr>\n",
       "  </thead>\n",
       "  <tbody>\n",
       "    <tr>\n",
       "      <th>653</th>\n",
       "      <td>Blockchain Transformations of Financial Services</td>\n",
       "      <td>Computer Science</td>\n",
       "      <td>Computer Security and Networks</td>\n",
       "      <td>6499</td>\n",
       "      <td>English</td>\n",
       "      <td>4.7</td>\n",
       "      <td>Beginner</td>\n",
       "      <td>15</td>\n",
       "      <td>Don Tapscott, Alex Tapscott</td>\n",
       "      <td>4.7</td>\n",
       "      <td>INSEAD</td>\n",
       "    </tr>\n",
       "    <tr>\n",
       "      <th>4243</th>\n",
       "      <td>Prepare for the EMT Certification Test</td>\n",
       "      <td>Health</td>\n",
       "      <td>Patient Care</td>\n",
       "      <td>10274</td>\n",
       "      <td>English</td>\n",
       "      <td>4.7</td>\n",
       "      <td>Beginner</td>\n",
       "      <td>10</td>\n",
       "      <td>Arthur Pliaconis, Whitney Barrett, MD, Kathrin...</td>\n",
       "      <td>4.9</td>\n",
       "      <td>University of Colorado System</td>\n",
       "    </tr>\n",
       "    <tr>\n",
       "      <th>2532</th>\n",
       "      <td>Entrepreneurship 3: Growth Strategies</td>\n",
       "      <td>Business</td>\n",
       "      <td>Entrepreneurship</td>\n",
       "      <td>45326</td>\n",
       "      <td>English</td>\n",
       "      <td>4.8</td>\n",
       "      <td>Beginner</td>\n",
       "      <td>8</td>\n",
       "      <td>Kartik Hosanagar, David Hsu, Lori Rosenkopf, K...</td>\n",
       "      <td>4.7</td>\n",
       "      <td>University of Pennsylvania</td>\n",
       "    </tr>\n",
       "    <tr>\n",
       "      <th>1994</th>\n",
       "      <td>Habilidades de Excel para el negocio: Concepto...</td>\n",
       "      <td>Business</td>\n",
       "      <td>Business Essentials</td>\n",
       "      <td>47238</td>\n",
       "      <td>Spanish</td>\n",
       "      <td>4.9</td>\n",
       "      <td>Beginner</td>\n",
       "      <td>26</td>\n",
       "      <td>Nicky Bull, Professor Yvonne Breyer, Dr Prasha...</td>\n",
       "      <td>4.9</td>\n",
       "      <td>Macquarie University</td>\n",
       "    </tr>\n",
       "    <tr>\n",
       "      <th>863</th>\n",
       "      <td>Chinese Politics Part 2 – China and the World</td>\n",
       "      <td>Social Sciences</td>\n",
       "      <td>Governance and Society</td>\n",
       "      <td>10568</td>\n",
       "      <td>English</td>\n",
       "      <td>4.7</td>\n",
       "      <td>Beginner</td>\n",
       "      <td>13</td>\n",
       "      <td>David Zweig</td>\n",
       "      <td>4.9</td>\n",
       "      <td>The Hong Kong University of Science and Techno...</td>\n",
       "    </tr>\n",
       "  </tbody>\n",
       "</table>\n",
       "</div>"
      ],
      "text/plain": [
       "                                                   name           general  \\\n",
       "653    Blockchain Transformations of Financial Services  Computer Science   \n",
       "4243             Prepare for the EMT Certification Test            Health   \n",
       "2532              Entrepreneurship 3: Growth Strategies          Business   \n",
       "1994  Habilidades de Excel para el negocio: Concepto...          Business   \n",
       "863       Chinese Politics Part 2 – China and the World   Social Sciences   \n",
       "\n",
       "                             specify  enrollment language  rating     level  \\\n",
       "653   Computer Security and Networks        6499  English     4.7  Beginner   \n",
       "4243                    Patient Care       10274  English     4.7  Beginner   \n",
       "2532                Entrepreneurship       45326  English     4.8  Beginner   \n",
       "1994             Business Essentials       47238  Spanish     4.9  Beginner   \n",
       "863           Governance and Society       10568  English     4.7  Beginner   \n",
       "\n",
       "      duration                                         instructor  \\\n",
       "653         15                        Don Tapscott, Alex Tapscott   \n",
       "4243        10  Arthur Pliaconis, Whitney Barrett, MD, Kathrin...   \n",
       "2532         8  Kartik Hosanagar, David Hsu, Lori Rosenkopf, K...   \n",
       "1994        26  Nicky Bull, Professor Yvonne Breyer, Dr Prasha...   \n",
       "863         13                                        David Zweig   \n",
       "\n",
       "      instructor_rate                                         offered by  \n",
       "653               4.7                                             INSEAD  \n",
       "4243              4.9                      University of Colorado System  \n",
       "2532              4.7                         University of Pennsylvania  \n",
       "1994              4.9                               Macquarie University  \n",
       "863               4.9  The Hong Kong University of Science and Techno...  "
      ]
     },
     "execution_count": 3,
     "metadata": {},
     "output_type": "execute_result"
    }
   ],
   "source": [
    "# Load our data from path `../Data/processed_data.csv`\n",
    "courses_df = pd.read_csv('../Data/processed_data.csv', sep=',',engine='python', encoding='utf-8')\n",
    "courses_df.sample(5)"
   ]
  },
  {
   "cell_type": "markdown",
   "metadata": {},
   "source": [
    "### **2.2. Preprocess data**"
   ]
  },
  {
   "cell_type": "markdown",
   "metadata": {},
   "source": [
    "- The `name` and `instructor` features needs to be removed because it is not useful in training the model."
   ]
  },
  {
   "cell_type": "code",
   "execution_count": 4,
   "metadata": {},
   "outputs": [
    {
     "data": {
      "text/html": [
       "<div>\n",
       "<style scoped>\n",
       "    .dataframe tbody tr th:only-of-type {\n",
       "        vertical-align: middle;\n",
       "    }\n",
       "\n",
       "    .dataframe tbody tr th {\n",
       "        vertical-align: top;\n",
       "    }\n",
       "\n",
       "    .dataframe thead th {\n",
       "        text-align: right;\n",
       "    }\n",
       "</style>\n",
       "<table border=\"1\" class=\"dataframe\">\n",
       "  <thead>\n",
       "    <tr style=\"text-align: right;\">\n",
       "      <th></th>\n",
       "      <th>general</th>\n",
       "      <th>specify</th>\n",
       "      <th>enrollment</th>\n",
       "      <th>language</th>\n",
       "      <th>rating</th>\n",
       "      <th>level</th>\n",
       "      <th>duration</th>\n",
       "      <th>instructor_rate</th>\n",
       "      <th>offered by</th>\n",
       "    </tr>\n",
       "  </thead>\n",
       "  <tbody>\n",
       "    <tr>\n",
       "      <th>1245</th>\n",
       "      <td>Personal Development</td>\n",
       "      <td>Personal Development</td>\n",
       "      <td>7427</td>\n",
       "      <td>Arabic</td>\n",
       "      <td>4.9</td>\n",
       "      <td>Intermediate</td>\n",
       "      <td>5</td>\n",
       "      <td>4.8</td>\n",
       "      <td>Alfaisal University | KLD</td>\n",
       "    </tr>\n",
       "    <tr>\n",
       "      <th>2156</th>\n",
       "      <td>Physical Science and Engineering</td>\n",
       "      <td>Mechanical Engineering</td>\n",
       "      <td>48569</td>\n",
       "      <td>English</td>\n",
       "      <td>4.8</td>\n",
       "      <td>Other</td>\n",
       "      <td>19</td>\n",
       "      <td>4.7</td>\n",
       "      <td>University of Minnesota</td>\n",
       "    </tr>\n",
       "    <tr>\n",
       "      <th>2387</th>\n",
       "      <td>Business</td>\n",
       "      <td>Leadership and Management</td>\n",
       "      <td>4181</td>\n",
       "      <td>Portuguese (Brazilian)</td>\n",
       "      <td>4.9</td>\n",
       "      <td>Beginner</td>\n",
       "      <td>22</td>\n",
       "      <td>5.0</td>\n",
       "      <td>Google</td>\n",
       "    </tr>\n",
       "    <tr>\n",
       "      <th>3107</th>\n",
       "      <td>Information Technology</td>\n",
       "      <td>Cloud Computing</td>\n",
       "      <td>15400</td>\n",
       "      <td>English</td>\n",
       "      <td>4.2</td>\n",
       "      <td>Beginner</td>\n",
       "      <td>1</td>\n",
       "      <td>4.3</td>\n",
       "      <td>Google Cloud</td>\n",
       "    </tr>\n",
       "    <tr>\n",
       "      <th>208</th>\n",
       "      <td>Data Science</td>\n",
       "      <td>Machine Learning</td>\n",
       "      <td>19320</td>\n",
       "      <td>English</td>\n",
       "      <td>4.5</td>\n",
       "      <td>Advanced</td>\n",
       "      <td>15</td>\n",
       "      <td>4.5</td>\n",
       "      <td>IBM</td>\n",
       "    </tr>\n",
       "  </tbody>\n",
       "</table>\n",
       "</div>"
      ],
      "text/plain": [
       "                               general                    specify  enrollment  \\\n",
       "1245              Personal Development       Personal Development        7427   \n",
       "2156  Physical Science and Engineering     Mechanical Engineering       48569   \n",
       "2387                          Business  Leadership and Management        4181   \n",
       "3107            Information Technology            Cloud Computing       15400   \n",
       "208                       Data Science           Machine Learning       19320   \n",
       "\n",
       "                    language  rating         level  duration  instructor_rate  \\\n",
       "1245                  Arabic     4.9  Intermediate         5              4.8   \n",
       "2156                 English     4.8         Other        19              4.7   \n",
       "2387  Portuguese (Brazilian)     4.9      Beginner        22              5.0   \n",
       "3107                 English     4.2      Beginner         1              4.3   \n",
       "208                  English     4.5      Advanced        15              4.5   \n",
       "\n",
       "                     offered by  \n",
       "1245  Alfaisal University | KLD  \n",
       "2156    University of Minnesota  \n",
       "2387                     Google  \n",
       "3107               Google Cloud  \n",
       "208                         IBM  "
      ]
     },
     "execution_count": 4,
     "metadata": {},
     "output_type": "execute_result"
    }
   ],
   "source": [
    "data_ = courses_df.copy().drop(columns=['name', 'instructor'])\n",
    "data_.sample(5)"
   ]
  },
  {
   "cell_type": "markdown",
   "metadata": {},
   "source": [
    "- Explore missing values in variables:\n",
    "    + View summary of dataset."
   ]
  },
  {
   "cell_type": "code",
   "execution_count": 5,
   "metadata": {},
   "outputs": [
    {
     "name": "stdout",
     "output_type": "stream",
     "text": [
      "<class 'pandas.core.frame.DataFrame'>\n",
      "RangeIndex: 5718 entries, 0 to 5717\n",
      "Data columns (total 9 columns):\n",
      " #   Column           Non-Null Count  Dtype  \n",
      "---  ------           --------------  -----  \n",
      " 0   general          5717 non-null   object \n",
      " 1   specify          5717 non-null   object \n",
      " 2   enrollment       5718 non-null   int64  \n",
      " 3   language         5718 non-null   object \n",
      " 4   rating           5718 non-null   float64\n",
      " 5   level            5718 non-null   object \n",
      " 6   duration         5718 non-null   int64  \n",
      " 7   instructor_rate  5718 non-null   float64\n",
      " 8   offered by       5703 non-null   object \n",
      "dtypes: float64(2), int64(2), object(5)\n",
      "memory usage: 402.2+ KB\n"
     ]
    }
   ],
   "source": [
    "data_.info()"
   ]
  },
  {
   "cell_type": "code",
   "execution_count": 6,
   "metadata": {},
   "outputs": [
    {
     "name": "stdout",
     "output_type": "stream",
     "text": [
      "Number missing values in each column:\n",
      " general             1\n",
      "specify             1\n",
      "enrollment          0\n",
      "language            0\n",
      "rating              0\n",
      "level               0\n",
      "duration            0\n",
      "instructor_rate     0\n",
      "offered by         15\n",
      "dtype: int64\n"
     ]
    }
   ],
   "source": [
    "print('Number missing values in each column:\\n',data_.isnull().sum())"
   ]
  },
  {
   "cell_type": "markdown",
   "metadata": {},
   "source": [
    "- Explore missing values in variables:\n",
    "    + Drop rows with missing values: Because the number of missing values each variable is insignificant, we will remove rows containing missing data."
   ]
  },
  {
   "cell_type": "code",
   "execution_count": 7,
   "metadata": {},
   "outputs": [
    {
     "name": "stdout",
     "output_type": "stream",
     "text": [
      "Number missing values in each column:\n",
      " general            0\n",
      "specify            0\n",
      "enrollment         0\n",
      "language           0\n",
      "rating             0\n",
      "level              0\n",
      "duration           0\n",
      "instructor_rate    0\n",
      "offered by         0\n",
      "dtype: int64\n"
     ]
    }
   ],
   "source": [
    "# Drop rows with missing values\n",
    "data_.dropna(inplace=True)\n",
    "print('Number missing values in each column:\\n',data_.isnull().sum())"
   ]
  },
  {
   "cell_type": "markdown",
   "metadata": {},
   "source": [
    "## **3. Prepare for training model**"
   ]
  },
  {
   "cell_type": "markdown",
   "metadata": {},
   "source": [
    "### **3.1. Define kind of features**"
   ]
  },
  {
   "cell_type": "markdown",
   "metadata": {},
   "source": [
    "- Define selection and target features to prepare data for training model."
   ]
  },
  {
   "cell_type": "code",
   "execution_count": 8,
   "metadata": {},
   "outputs": [],
   "source": [
    "# Define selection and target features to prepare data for training model\n",
    "target = ['rating']\n",
    "specificities = list(set(data_.columns) - set(target))"
   ]
  },
  {
   "cell_type": "markdown",
   "metadata": {},
   "source": [
    "- Define numerical and categorical features to transformer."
   ]
  },
  {
   "cell_type": "code",
   "execution_count": 9,
   "metadata": {},
   "outputs": [
    {
     "name": "stdout",
     "output_type": "stream",
     "text": [
      "Numerical features: ['duration', 'enrollment', 'instructor_rate']\n",
      "Categorical features: ['general', 'level', 'offered by', 'specify', 'language']\n"
     ]
    }
   ],
   "source": [
    "# Define numerical and categorical features\n",
    "numeracy_ = list(set(specificities) - set(courses_df.select_dtypes(include=['object']).columns))\n",
    "category_ = list(set(specificities) - set(courses_df.select_dtypes(exclude=['object']).columns))\n",
    "print('Numerical features:', numeracy_)\n",
    "print('Categorical features:', category_)"
   ]
  },
  {
   "cell_type": "markdown",
   "metadata": {},
   "source": [
    "### **3.2. Split data**\n",
    "Split data into 3 datasets: `Training dataset`, `Validation dataset` and `Testing dataset`. We’ll perform splitting on the following ratio 80-20."
   ]
  },
  {
   "cell_type": "code",
   "execution_count": 10,
   "metadata": {},
   "outputs": [],
   "source": [
    "# Define the constant variable random_state\n",
    "random_state = 2112\n",
    "\n",
    "# Select features and target variable\n",
    "X = data_[specificities]\n",
    "y = data_[target]\n",
    "\n",
    "# Split data on the following ratio 80-20\n",
    "X_train, X_test, y_train, y_test = train_test_split(X, y, test_size=0.3,random_state=random_state)"
   ]
  },
  {
   "cell_type": "markdown",
   "metadata": {},
   "source": [
    "### **3.3. Initialize transformer**"
   ]
  },
  {
   "cell_type": "code",
   "execution_count": 11,
   "metadata": {},
   "outputs": [],
   "source": [
    "# Create transformer for numerical and categorical features by using Pipeline\n",
    "num_transformer = Pipeline(steps=[('scaler', StandardScaler())])\n",
    "cat_transformer = Pipeline(steps=[('onehot', OneHotEncoder(sparse=False, handle_unknown='ignore'))])\n",
    "\n",
    "# Create a preprocessor using ColumnTransformer\n",
    "preprocessor = ColumnTransformer(transformers=[('num', num_transformer, numeracy_),\n",
    "                                               ('cat', cat_transformer, category_)])"
   ]
  },
  {
   "cell_type": "markdown",
   "metadata": {},
   "source": [
    "### **3.4. Search hyperparameter for available data fitting model**"
   ]
  },
  {
   "cell_type": "code",
   "execution_count": 12,
   "metadata": {},
   "outputs": [],
   "source": [
    "# Use SVR for regression\n",
    "pipe_svm = Pipeline([('preprocessor', preprocessor),\n",
    "                      ('regressor', SVR())])\n",
    "\n",
    "# Fine-tuning hyperparameters\n",
    "param_kernel = ['linear', 'rbf', 'sigmoid', 'poly']\n",
    "param_C = [0.01, 0.1, 1.0, 10.0]\n",
    "param_gamma = [0.001, 0.01, 0.1, 1.0]\n",
    "param_grid = [{'regressor__C': param_C,\n",
    "               'regressor__kernel': param_kernel,\n",
    "               'regressor__gamma': param_gamma}]\n",
    "\n",
    "# Use a regression-specific scoring metric\n",
    "reg_gs = GridSearchCV(\n",
    "    estimator=pipe_svm,\n",
    "    param_grid=param_grid,\n",
    "    scoring=\"neg_mean_squared_error\",\n",
    "    return_train_score=True,\n",
    "    cv=5)\n",
    "\n",
    "reg_gs = reg_gs.fit(X_train, y_train)"
   ]
  },
  {
   "cell_type": "code",
   "execution_count": 15,
   "metadata": {},
   "outputs": [
    {
     "name": "stdout",
     "output_type": "stream",
     "text": [
      "[SVR: grid search]\n",
      "Validation MSE: 0.033245\n",
      "{'regressor__C': 10.0, 'regressor__gamma': 0.01, 'regressor__kernel': 'rbf'}\n"
     ]
    }
   ],
   "source": [
    "print('[SVR: grid search]')\n",
    "print('Validation MSE: %.6f' % -reg_gs.best_score_)  # Print as positive MSE # Common regression metric\n",
    "print(reg_gs.best_params_)"
   ]
  },
  {
   "cell_type": "code",
   "execution_count": 43,
   "metadata": {},
   "outputs": [
    {
     "data": {
      "text/html": [
       "<div>\n",
       "<style scoped>\n",
       "    .dataframe tbody tr th:only-of-type {\n",
       "        vertical-align: middle;\n",
       "    }\n",
       "\n",
       "    .dataframe tbody tr th {\n",
       "        vertical-align: top;\n",
       "    }\n",
       "\n",
       "    .dataframe thead th {\n",
       "        text-align: right;\n",
       "    }\n",
       "</style>\n",
       "<table border=\"1\" class=\"dataframe\">\n",
       "  <thead>\n",
       "    <tr style=\"text-align: right;\">\n",
       "      <th></th>\n",
       "      <th>kernel</th>\n",
       "      <th>C</th>\n",
       "      <th>gamma</th>\n",
       "      <th>mean_test</th>\n",
       "      <th>mean_train</th>\n",
       "      <th>ranking</th>\n",
       "    </tr>\n",
       "  </thead>\n",
       "  <tbody>\n",
       "    <tr>\n",
       "      <th>{'regressor__C': 0.01, 'regressor__gamma': 0.001, 'regressor__kernel': 'linear'}</th>\n",
       "      <td>linear</td>\n",
       "      <td>0.01</td>\n",
       "      <td>0.001</td>\n",
       "      <td>0.034336</td>\n",
       "      <td>0.032880</td>\n",
       "      <td>10</td>\n",
       "    </tr>\n",
       "    <tr>\n",
       "      <th>{'regressor__C': 0.01, 'regressor__gamma': 0.01, 'regressor__kernel': 'linear'}</th>\n",
       "      <td>linear</td>\n",
       "      <td>0.01</td>\n",
       "      <td>0.01</td>\n",
       "      <td>0.034336</td>\n",
       "      <td>0.032880</td>\n",
       "      <td>10</td>\n",
       "    </tr>\n",
       "    <tr>\n",
       "      <th>{'regressor__C': 0.01, 'regressor__gamma': 0.1, 'regressor__kernel': 'linear'}</th>\n",
       "      <td>linear</td>\n",
       "      <td>0.01</td>\n",
       "      <td>0.1</td>\n",
       "      <td>0.034336</td>\n",
       "      <td>0.032880</td>\n",
       "      <td>10</td>\n",
       "    </tr>\n",
       "    <tr>\n",
       "      <th>{'regressor__C': 0.01, 'regressor__gamma': 1.0, 'regressor__kernel': 'linear'}</th>\n",
       "      <td>linear</td>\n",
       "      <td>0.01</td>\n",
       "      <td>1.0</td>\n",
       "      <td>0.034336</td>\n",
       "      <td>0.032880</td>\n",
       "      <td>10</td>\n",
       "    </tr>\n",
       "    <tr>\n",
       "      <th>{'regressor__C': 0.1, 'regressor__gamma': 0.001, 'regressor__kernel': 'linear'}</th>\n",
       "      <td>linear</td>\n",
       "      <td>0.1</td>\n",
       "      <td>0.001</td>\n",
       "      <td>0.034180</td>\n",
       "      <td>0.030559</td>\n",
       "      <td>4</td>\n",
       "    </tr>\n",
       "    <tr>\n",
       "      <th>{'regressor__C': 0.1, 'regressor__gamma': 0.01, 'regressor__kernel': 'linear'}</th>\n",
       "      <td>linear</td>\n",
       "      <td>0.1</td>\n",
       "      <td>0.01</td>\n",
       "      <td>0.034180</td>\n",
       "      <td>0.030559</td>\n",
       "      <td>4</td>\n",
       "    </tr>\n",
       "    <tr>\n",
       "      <th>{'regressor__C': 0.1, 'regressor__gamma': 0.1, 'regressor__kernel': 'linear'}</th>\n",
       "      <td>linear</td>\n",
       "      <td>0.1</td>\n",
       "      <td>0.1</td>\n",
       "      <td>0.034180</td>\n",
       "      <td>0.030559</td>\n",
       "      <td>4</td>\n",
       "    </tr>\n",
       "    <tr>\n",
       "      <th>{'regressor__C': 0.1, 'regressor__gamma': 1.0, 'regressor__kernel': 'linear'}</th>\n",
       "      <td>linear</td>\n",
       "      <td>0.1</td>\n",
       "      <td>1.0</td>\n",
       "      <td>0.034180</td>\n",
       "      <td>0.030559</td>\n",
       "      <td>4</td>\n",
       "    </tr>\n",
       "    <tr>\n",
       "      <th>{'regressor__C': 1.0, 'regressor__gamma': 0.001, 'regressor__kernel': 'linear'}</th>\n",
       "      <td>linear</td>\n",
       "      <td>1.0</td>\n",
       "      <td>0.001</td>\n",
       "      <td>0.034680</td>\n",
       "      <td>0.029107</td>\n",
       "      <td>14</td>\n",
       "    </tr>\n",
       "    <tr>\n",
       "      <th>{'regressor__C': 1.0, 'regressor__gamma': 0.01, 'regressor__kernel': 'linear'}</th>\n",
       "      <td>linear</td>\n",
       "      <td>1.0</td>\n",
       "      <td>0.01</td>\n",
       "      <td>0.034680</td>\n",
       "      <td>0.029107</td>\n",
       "      <td>14</td>\n",
       "    </tr>\n",
       "    <tr>\n",
       "      <th>{'regressor__C': 1.0, 'regressor__gamma': 0.1, 'regressor__kernel': 'linear'}</th>\n",
       "      <td>linear</td>\n",
       "      <td>1.0</td>\n",
       "      <td>0.1</td>\n",
       "      <td>0.034680</td>\n",
       "      <td>0.029107</td>\n",
       "      <td>14</td>\n",
       "    </tr>\n",
       "    <tr>\n",
       "      <th>{'regressor__C': 1.0, 'regressor__gamma': 1.0, 'regressor__kernel': 'linear'}</th>\n",
       "      <td>linear</td>\n",
       "      <td>1.0</td>\n",
       "      <td>1.0</td>\n",
       "      <td>0.034680</td>\n",
       "      <td>0.029107</td>\n",
       "      <td>14</td>\n",
       "    </tr>\n",
       "    <tr>\n",
       "      <th>{'regressor__C': 10.0, 'regressor__gamma': 0.001, 'regressor__kernel': 'linear'}</th>\n",
       "      <td>linear</td>\n",
       "      <td>10.0</td>\n",
       "      <td>0.001</td>\n",
       "      <td>0.034680</td>\n",
       "      <td>0.029076</td>\n",
       "      <td>18</td>\n",
       "    </tr>\n",
       "    <tr>\n",
       "      <th>{'regressor__C': 10.0, 'regressor__gamma': 0.01, 'regressor__kernel': 'linear'}</th>\n",
       "      <td>linear</td>\n",
       "      <td>10.0</td>\n",
       "      <td>0.01</td>\n",
       "      <td>0.034680</td>\n",
       "      <td>0.029076</td>\n",
       "      <td>18</td>\n",
       "    </tr>\n",
       "    <tr>\n",
       "      <th>{'regressor__C': 10.0, 'regressor__gamma': 0.1, 'regressor__kernel': 'linear'}</th>\n",
       "      <td>linear</td>\n",
       "      <td>10.0</td>\n",
       "      <td>0.1</td>\n",
       "      <td>0.034680</td>\n",
       "      <td>0.029076</td>\n",
       "      <td>18</td>\n",
       "    </tr>\n",
       "    <tr>\n",
       "      <th>{'regressor__C': 10.0, 'regressor__gamma': 1.0, 'regressor__kernel': 'linear'}</th>\n",
       "      <td>linear</td>\n",
       "      <td>10.0</td>\n",
       "      <td>1.0</td>\n",
       "      <td>0.034680</td>\n",
       "      <td>0.029076</td>\n",
       "      <td>18</td>\n",
       "    </tr>\n",
       "    <tr>\n",
       "      <th>{'regressor__C': 0.01, 'regressor__gamma': 0.001, 'regressor__kernel': 'poly'}</th>\n",
       "      <td>poly</td>\n",
       "      <td>0.01</td>\n",
       "      <td>0.001</td>\n",
       "      <td>0.064499</td>\n",
       "      <td>0.064499</td>\n",
       "      <td>53</td>\n",
       "    </tr>\n",
       "    <tr>\n",
       "      <th>{'regressor__C': 0.01, 'regressor__gamma': 0.01, 'regressor__kernel': 'poly'}</th>\n",
       "      <td>poly</td>\n",
       "      <td>0.01</td>\n",
       "      <td>0.01</td>\n",
       "      <td>0.063693</td>\n",
       "      <td>0.063672</td>\n",
       "      <td>49</td>\n",
       "    </tr>\n",
       "    <tr>\n",
       "      <th>{'regressor__C': 0.01, 'regressor__gamma': 0.1, 'regressor__kernel': 'poly'}</th>\n",
       "      <td>poly</td>\n",
       "      <td>0.01</td>\n",
       "      <td>0.1</td>\n",
       "      <td>0.045041</td>\n",
       "      <td>0.040928</td>\n",
       "      <td>36</td>\n",
       "    </tr>\n",
       "    <tr>\n",
       "      <th>{'regressor__C': 0.01, 'regressor__gamma': 1.0, 'regressor__kernel': 'poly'}</th>\n",
       "      <td>poly</td>\n",
       "      <td>0.01</td>\n",
       "      <td>1.0</td>\n",
       "      <td>0.061294</td>\n",
       "      <td>0.009667</td>\n",
       "      <td>47</td>\n",
       "    </tr>\n",
       "  </tbody>\n",
       "</table>\n",
       "</div>"
      ],
      "text/plain": [
       "                                                    kernel     C  gamma  \\\n",
       "{'regressor__C': 0.01, 'regressor__gamma': 0.00...  linear  0.01  0.001   \n",
       "{'regressor__C': 0.01, 'regressor__gamma': 0.01...  linear  0.01   0.01   \n",
       "{'regressor__C': 0.01, 'regressor__gamma': 0.1,...  linear  0.01    0.1   \n",
       "{'regressor__C': 0.01, 'regressor__gamma': 1.0,...  linear  0.01    1.0   \n",
       "{'regressor__C': 0.1, 'regressor__gamma': 0.001...  linear   0.1  0.001   \n",
       "{'regressor__C': 0.1, 'regressor__gamma': 0.01,...  linear   0.1   0.01   \n",
       "{'regressor__C': 0.1, 'regressor__gamma': 0.1, ...  linear   0.1    0.1   \n",
       "{'regressor__C': 0.1, 'regressor__gamma': 1.0, ...  linear   0.1    1.0   \n",
       "{'regressor__C': 1.0, 'regressor__gamma': 0.001...  linear   1.0  0.001   \n",
       "{'regressor__C': 1.0, 'regressor__gamma': 0.01,...  linear   1.0   0.01   \n",
       "{'regressor__C': 1.0, 'regressor__gamma': 0.1, ...  linear   1.0    0.1   \n",
       "{'regressor__C': 1.0, 'regressor__gamma': 1.0, ...  linear   1.0    1.0   \n",
       "{'regressor__C': 10.0, 'regressor__gamma': 0.00...  linear  10.0  0.001   \n",
       "{'regressor__C': 10.0, 'regressor__gamma': 0.01...  linear  10.0   0.01   \n",
       "{'regressor__C': 10.0, 'regressor__gamma': 0.1,...  linear  10.0    0.1   \n",
       "{'regressor__C': 10.0, 'regressor__gamma': 1.0,...  linear  10.0    1.0   \n",
       "{'regressor__C': 0.01, 'regressor__gamma': 0.00...    poly  0.01  0.001   \n",
       "{'regressor__C': 0.01, 'regressor__gamma': 0.01...    poly  0.01   0.01   \n",
       "{'regressor__C': 0.01, 'regressor__gamma': 0.1,...    poly  0.01    0.1   \n",
       "{'regressor__C': 0.01, 'regressor__gamma': 1.0,...    poly  0.01    1.0   \n",
       "\n",
       "                                                   mean_test mean_train  \\\n",
       "{'regressor__C': 0.01, 'regressor__gamma': 0.00...  0.034336   0.032880   \n",
       "{'regressor__C': 0.01, 'regressor__gamma': 0.01...  0.034336   0.032880   \n",
       "{'regressor__C': 0.01, 'regressor__gamma': 0.1,...  0.034336   0.032880   \n",
       "{'regressor__C': 0.01, 'regressor__gamma': 1.0,...  0.034336   0.032880   \n",
       "{'regressor__C': 0.1, 'regressor__gamma': 0.001...  0.034180   0.030559   \n",
       "{'regressor__C': 0.1, 'regressor__gamma': 0.01,...  0.034180   0.030559   \n",
       "{'regressor__C': 0.1, 'regressor__gamma': 0.1, ...  0.034180   0.030559   \n",
       "{'regressor__C': 0.1, 'regressor__gamma': 1.0, ...  0.034180   0.030559   \n",
       "{'regressor__C': 1.0, 'regressor__gamma': 0.001...  0.034680   0.029107   \n",
       "{'regressor__C': 1.0, 'regressor__gamma': 0.01,...  0.034680   0.029107   \n",
       "{'regressor__C': 1.0, 'regressor__gamma': 0.1, ...  0.034680   0.029107   \n",
       "{'regressor__C': 1.0, 'regressor__gamma': 1.0, ...  0.034680   0.029107   \n",
       "{'regressor__C': 10.0, 'regressor__gamma': 0.00...  0.034680   0.029076   \n",
       "{'regressor__C': 10.0, 'regressor__gamma': 0.01...  0.034680   0.029076   \n",
       "{'regressor__C': 10.0, 'regressor__gamma': 0.1,...  0.034680   0.029076   \n",
       "{'regressor__C': 10.0, 'regressor__gamma': 1.0,...  0.034680   0.029076   \n",
       "{'regressor__C': 0.01, 'regressor__gamma': 0.00...  0.064499   0.064499   \n",
       "{'regressor__C': 0.01, 'regressor__gamma': 0.01...  0.063693   0.063672   \n",
       "{'regressor__C': 0.01, 'regressor__gamma': 0.1,...  0.045041   0.040928   \n",
       "{'regressor__C': 0.01, 'regressor__gamma': 1.0,...  0.061294   0.009667   \n",
       "\n",
       "                                                    ranking  \n",
       "{'regressor__C': 0.01, 'regressor__gamma': 0.00...       10  \n",
       "{'regressor__C': 0.01, 'regressor__gamma': 0.01...       10  \n",
       "{'regressor__C': 0.01, 'regressor__gamma': 0.1,...       10  \n",
       "{'regressor__C': 0.01, 'regressor__gamma': 1.0,...       10  \n",
       "{'regressor__C': 0.1, 'regressor__gamma': 0.001...        4  \n",
       "{'regressor__C': 0.1, 'regressor__gamma': 0.01,...        4  \n",
       "{'regressor__C': 0.1, 'regressor__gamma': 0.1, ...        4  \n",
       "{'regressor__C': 0.1, 'regressor__gamma': 1.0, ...        4  \n",
       "{'regressor__C': 1.0, 'regressor__gamma': 0.001...       14  \n",
       "{'regressor__C': 1.0, 'regressor__gamma': 0.01,...       14  \n",
       "{'regressor__C': 1.0, 'regressor__gamma': 0.1, ...       14  \n",
       "{'regressor__C': 1.0, 'regressor__gamma': 1.0, ...       14  \n",
       "{'regressor__C': 10.0, 'regressor__gamma': 0.00...       18  \n",
       "{'regressor__C': 10.0, 'regressor__gamma': 0.01...       18  \n",
       "{'regressor__C': 10.0, 'regressor__gamma': 0.1,...       18  \n",
       "{'regressor__C': 10.0, 'regressor__gamma': 1.0,...       18  \n",
       "{'regressor__C': 0.01, 'regressor__gamma': 0.00...       53  \n",
       "{'regressor__C': 0.01, 'regressor__gamma': 0.01...       49  \n",
       "{'regressor__C': 0.01, 'regressor__gamma': 0.1,...       36  \n",
       "{'regressor__C': 0.01, 'regressor__gamma': 1.0,...       47  "
      ]
     },
     "execution_count": 43,
     "metadata": {},
     "output_type": "execute_result"
    }
   ],
   "source": [
    "# Get scoring values of ref_gs\n",
    "recording_df = pd.DataFrame({'kernel':np.ma.getdata(reg_gs.cv_results_['param_regressor__kernel']),\n",
    "                             'C':np.ma.getdata(reg_gs.cv_results_['param_regressor__C']),\n",
    "                             'gamma':np.ma.getdata(reg_gs.cv_results_['param_regressor__gamma']),\n",
    "                             'mean_test':['{:f}'.format(item) for item in -reg_gs.cv_results_['mean_test_score'].round(6)],\n",
    "                             'mean_train':['{:f}'.format(item) for item in -reg_gs.cv_results_['mean_train_score'].round(6)],\n",
    "                             'ranking':reg_gs.cv_results_['rank_test_score']},\n",
    "                            index=reg_gs.cv_results_['params'])\\\n",
    "                                .sort_values(by=['kernel', 'C', 'gamma'], ascending=[True, True, True])\n",
    "recording_df.head(20)"
   ]
  },
  {
   "cell_type": "code",
   "execution_count": 83,
   "metadata": {},
   "outputs": [
    {
     "name": "stdout",
     "output_type": "stream",
     "text": [
      "          0.001     0.010     0.100     1.000\n",
      "0.01   0.034336  0.034336  0.034336  0.034336\n",
      "0.10   0.034180  0.034180  0.034180  0.034180\n",
      "1.00   0.034680  0.034680  0.034680  0.034680\n",
      "10.00  0.034680  0.034680  0.034680  0.034680\n",
      "          0.001     0.010     0.100     1.000\n",
      "0.01   0.064499  0.063693  0.045041  0.061294\n",
      "0.10   0.064492  0.058730  0.035833  0.158331\n",
      "1.00   0.064422  0.056369  0.039317  0.679049\n",
      "10.00  0.063693  0.045040  0.061286  1.915906\n",
      "          0.001     0.010     0.100     1.000\n",
      "0.01   0.057921  0.041694  0.042040  0.062305\n",
      "0.10   0.039606  0.034881  0.034905  0.054090\n",
      "1.00   0.034966  0.033384  0.034261  0.050765\n",
      "10.00  0.033924  0.033245  0.040438  0.051997\n",
      "          0.001     0.010         0.100           1.000\n",
      "0.01   0.060990  0.044197      0.050574        2.502901\n",
      "0.10   0.044121  0.035569      5.848550      243.098794\n",
      "1.00   0.035606  0.046007    614.454651    24181.768396\n",
      "10.00  0.034333  4.741948  62425.209079  2398409.947203\n"
     ]
    },
    {
     "data": {
      "image/png": "[encoded data removed]",
      "text/plain": [
       "<Figure size 1000x1000 with 4 Axes>"
      ]
     },
     "metadata": {},
     "output_type": "display_data"
    }
   ],
   "source": [
    "heatmap_df = recording_df.reset_index().drop(columns=['index', 'mean_train', 'ranking']).set_index(['kernel'])\n",
    "\n",
    "# Set up the matplotlib figure\n",
    "fig, axes = plt.subplots(nrows=2, ncols=2, figsize=(10, 10))\n",
    "\n",
    "# Plot heatmap each kernel\n",
    "for index, kernel in enumerate(heatmap_df.index.unique()):\n",
    "    ax = axes[index // 2, index % 2]\n",
    "    data_plot = heatmap_df.loc[kernel].copy()\\\n",
    "        .reset_index().drop(columns=['kernel'])\\\n",
    "        .set_index(['C', 'gamma'])\n",
    "    data_plot = data_plot['mean_test'].unstack('gamma').rename_axis(None, axis=1)\n",
    "    data_plot.index.name = None\n",
    "    # sns.heatmap(data_plot, ax=ax)\n",
    "    print(data_plot)\n",
    "\n",
    "# data_temp = heatmap_df.loc['linear'].copy().reset_index().drop(columns=['kernel']).set_index(['C', 'gamma'])\n",
    "# data_temp['mean_test'].unstack('gamma').rename_axis(None, axis=1)"
   ]
  },
  {
   "cell_type": "code",
   "execution_count": null,
   "metadata": {},
   "outputs": [],
   "source": [
    "\n",
    "# # Fit and transform the training data using the preprocessor\n",
    "# pd.DataFrame(preprocessor.fit_transform(X_train, y_train))\n",
    "\n",
    "# # # Transform the validation and test data using the preprocessor\n",
    "# # X_val_preprocessed = preprocessor.transform(X_val)\n",
    "# # X_test_preprocessed = preprocessor.transform(X_test)"
   ]
  },
  {
   "cell_type": "code",
   "execution_count": 35,
   "metadata": {},
   "outputs": [
    {
     "data": {
      "text/plain": [
       "array([0.01, 0.01, 0.01, 0.01, 0.01, 0.01, 0.01, 0.01, 0.01, 0.01, 0.01,\n",
       "       0.01, 0.01, 0.01, 0.01, 0.01, 0.1, 0.1, 0.1, 0.1, 0.1, 0.1, 0.1,\n",
       "       0.1, 0.1, 0.1, 0.1, 0.1, 0.1, 0.1, 0.1, 0.1, 1.0, 1.0, 1.0, 1.0,\n",
       "       1.0, 1.0, 1.0, 1.0, 1.0, 1.0, 1.0, 1.0, 1.0, 1.0, 1.0, 1.0, 10.0,\n",
       "       10.0, 10.0, 10.0, 10.0, 10.0, 10.0, 10.0, 10.0, 10.0, 10.0, 10.0,\n",
       "       10.0, 10.0, 10.0, 10.0], dtype=object)"
      ]
     },
     "execution_count": 35,
     "metadata": {},
     "output_type": "execute_result"
    }
   ],
   "source": []
  },
  {
   "cell_type": "code",
   "execution_count": null,
   "metadata": {},
   "outputs": [],
   "source": [
    "# Import data\n",
    "data = np.loadtxt(\"data.csv\", dtype=float, delimiter=\",\")\n",
    "\n",
    "# Create figure\n",
    "fig = plt.figure(figsize=(10, 10))\n",
    "ax = fig.add_subplot(111, projection=\"3d\")\n",
    "\n",
    "# Plot data\n",
    "ax.scatter(data[:, 0], data[:, 1], data[:, 2], c=data[:, 3])\n",
    "\n",
    "# Set labels\n",
    "ax.set_xlabel(\"C\")\n",
    "ax.set_ylabel(\"Gamma\")\n",
    "ax.set_zlabel(\"Kernel\")\n",
    "ax.set_title(\"Mean test score\")\n",
    "\n",
    "# Show figure\n",
    "plt.show()\n"
   ]
  },
  {
   "cell_type": "code",
   "execution_count": null,
   "metadata": {},
   "outputs": [
    {
     "name": "stdout",
     "output_type": "stream",
     "text": [
      "Grid scores on development set:\n",
      "[0]: 0.0579 (+/-0.008) for {'regressor__C': 0.01, 'regressor__gamma': 0.001, 'regressor__kernel': 'rbf'}\n",
      "[1]: 0.0610 (+/-0.008) for {'regressor__C': 0.01, 'regressor__gamma': 0.001, 'regressor__kernel': 'sigmoid'}\n",
      "[2]: 0.0417 (+/-0.006) for {'regressor__C': 0.01, 'regressor__gamma': 0.01, 'regressor__kernel': 'rbf'}\n",
      "[3]: 0.0442 (+/-0.005) for {'regressor__C': 0.01, 'regressor__gamma': 0.01, 'regressor__kernel': 'sigmoid'}\n",
      "[4]: 0.0420 (+/-0.008) for {'regressor__C': 0.01, 'regressor__gamma': 0.1, 'regressor__kernel': 'rbf'}\n",
      "[5]: 0.0506 (+/-0.007) for {'regressor__C': 0.01, 'regressor__gamma': 0.1, 'regressor__kernel': 'sigmoid'}\n",
      "[6]: 0.0623 (+/-0.009) for {'regressor__C': 0.01, 'regressor__gamma': 1.0, 'regressor__kernel': 'rbf'}\n",
      "[7]: 2.5029 (+/-0.381) for {'regressor__C': 0.01, 'regressor__gamma': 1.0, 'regressor__kernel': 'sigmoid'}\n",
      "[8]: 0.0396 (+/-0.005) for {'regressor__C': 0.1, 'regressor__gamma': 0.001, 'regressor__kernel': 'rbf'}\n",
      "[9]: 0.0441 (+/-0.005) for {'regressor__C': 0.1, 'regressor__gamma': 0.001, 'regressor__kernel': 'sigmoid'}\n",
      "[10]: 0.0349 (+/-0.005) for {'regressor__C': 0.1, 'regressor__gamma': 0.01, 'regressor__kernel': 'rbf'}\n",
      "[11]: 0.0356 (+/-0.004) for {'regressor__C': 0.1, 'regressor__gamma': 0.01, 'regressor__kernel': 'sigmoid'}\n",
      "[12]: 0.0349 (+/-0.008) for {'regressor__C': 0.1, 'regressor__gamma': 0.1, 'regressor__kernel': 'rbf'}\n",
      "[13]: 5.8486 (+/-1.779) for {'regressor__C': 0.1, 'regressor__gamma': 0.1, 'regressor__kernel': 'sigmoid'}\n",
      "[14]: 0.0541 (+/-0.009) for {'regressor__C': 0.1, 'regressor__gamma': 1.0, 'regressor__kernel': 'rbf'}\n",
      "[15]: 243.0988 (+/-34.675) for {'regressor__C': 0.1, 'regressor__gamma': 1.0, 'regressor__kernel': 'sigmoid'}\n",
      "[16]: 0.0350 (+/-0.004) for {'regressor__C': 1.0, 'regressor__gamma': 0.001, 'regressor__kernel': 'rbf'}\n",
      "[17]: 0.0356 (+/-0.004) for {'regressor__C': 1.0, 'regressor__gamma': 0.001, 'regressor__kernel': 'sigmoid'}\n",
      "[18]: 0.0334 (+/-0.005) for {'regressor__C': 1.0, 'regressor__gamma': 0.01, 'regressor__kernel': 'rbf'}\n",
      "[19]: 0.0460 (+/-0.012) for {'regressor__C': 1.0, 'regressor__gamma': 0.01, 'regressor__kernel': 'sigmoid'}\n",
      "[20]: 0.0343 (+/-0.008) for {'regressor__C': 1.0, 'regressor__gamma': 0.1, 'regressor__kernel': 'rbf'}\n",
      "[21]: 614.4547 (+/-184.212) for {'regressor__C': 1.0, 'regressor__gamma': 0.1, 'regressor__kernel': 'sigmoid'}\n",
      "[22]: 0.0508 (+/-0.007) for {'regressor__C': 1.0, 'regressor__gamma': 1.0, 'regressor__kernel': 'rbf'}\n",
      "[23]: 24181.7684 (+/-3422.428) for {'regressor__C': 1.0, 'regressor__gamma': 1.0, 'regressor__kernel': 'sigmoid'}\n",
      "[24]: 0.0339 (+/-0.005) for {'regressor__C': 10.0, 'regressor__gamma': 0.001, 'regressor__kernel': 'rbf'}\n",
      "[25]: 0.0343 (+/-0.005) for {'regressor__C': 10.0, 'regressor__gamma': 0.001, 'regressor__kernel': 'sigmoid'}\n",
      "[26]: 0.0332 (+/-0.005) for {'regressor__C': 10.0, 'regressor__gamma': 0.01, 'regressor__kernel': 'rbf'}\n",
      "[27]: 4.7419 (+/-4.092) for {'regressor__C': 10.0, 'regressor__gamma': 0.01, 'regressor__kernel': 'sigmoid'}\n",
      "[28]: 0.0404 (+/-0.009) for {'regressor__C': 10.0, 'regressor__gamma': 0.1, 'regressor__kernel': 'rbf'}\n",
      "[29]: 62425.2091 (+/-19002.793) for {'regressor__C': 10.0, 'regressor__gamma': 0.1, 'regressor__kernel': 'sigmoid'}\n",
      "[30]: 0.0520 (+/-0.008) for {'regressor__C': 10.0, 'regressor__gamma': 1.0, 'regressor__kernel': 'rbf'}\n",
      "[31]: 2398409.9472 (+/-381389.952) for {'regressor__C': 10.0, 'regressor__gamma': 1.0, 'regressor__kernel': 'sigmoid'}\n",
      "[32]: 0.0334 (+/-0.005) for {'regressor__C': 100.0, 'regressor__gamma': 0.001, 'regressor__kernel': 'rbf'}\n",
      "[33]: 0.0342 (+/-0.004) for {'regressor__C': 100.0, 'regressor__gamma': 0.001, 'regressor__kernel': 'sigmoid'}\n",
      "[34]: 0.0362 (+/-0.007) for {'regressor__C': 100.0, 'regressor__gamma': 0.01, 'regressor__kernel': 'rbf'}\n",
      "[35]: 588.4317 (+/-470.616) for {'regressor__C': 100.0, 'regressor__gamma': 0.01, 'regressor__kernel': 'sigmoid'}\n",
      "[36]: 0.0488 (+/-0.009) for {'regressor__C': 100.0, 'regressor__gamma': 0.1, 'regressor__kernel': 'rbf'}\n",
      "[37]: 6089565.4240 (+/-1818703.485) for {'regressor__C': 100.0, 'regressor__gamma': 0.1, 'regressor__kernel': 'sigmoid'}\n",
      "[38]: 0.0544 (+/-0.011) for {'regressor__C': 100.0, 'regressor__gamma': 1.0, 'regressor__kernel': 'rbf'}\n",
      "[39]: 270964805.4623 (+/-85189723.170) for {'regressor__C': 100.0, 'regressor__gamma': 1.0, 'regressor__kernel': 'sigmoid'}\n"
     ]
    }
   ],
   "source": [
    "# print(\"Grid scores on development set:\")\n",
    "\n",
    "# means = gs_spe.cv_results_['mean_test_score']\n",
    "# stds = gs_spe.cv_results_['std_test_score']\n",
    "# i = 0\n",
    "# for mean, std, params in zip(means, stds, gs_spe.cv_results_['params']):\n",
    "#     print(\"[%d]: %0.4f (+/-%0.03f) for %r\"\n",
    "#           % (i, -mean, std * 2, params))\n",
    "#     i += 1"
   ]
  }
 ],
 "metadata": {
  "kernelspec": {
   "display_name": "min_ds-env",
   "language": "python",
   "name": "python3"
  },
  "language_info": {
   "codemirror_mode": {
    "name": "ipython",
    "version": 3
   },
   "file_extension": ".py",
   "mimetype": "text/x-python",
   "name": "python",
   "nbconvert_exporter": "python",
   "pygments_lexer": "ipython3",
   "version": "3.10.8"
  }
 },
 "nbformat": 4,
 "nbformat_minor": 2
}
