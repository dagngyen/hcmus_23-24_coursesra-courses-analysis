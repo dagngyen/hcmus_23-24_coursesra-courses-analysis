{
 "cells": [
  {
   "cell_type": "markdown",
   "metadata": {},
   "source": [
    "# **Support vector machine sigmoid kernel (SVM with sigmoid)**"
   ]
  },
  {
   "cell_type": "markdown",
   "metadata": {},
   "source": [
    "## **1. Import necessary libraries**"
   ]
  },
  {
   "cell_type": "code",
   "execution_count": 1,
   "metadata": {},
   "outputs": [],
   "source": [
    "import pandas as pd\n",
    "import numpy as np\n",
    "\n",
    "from sklearn.model_selection import train_test_split\n",
    "from sklearn.svm import SVR\n",
    "from sklearn.model_selection import GridSearchCV\n",
    "from sklearn.preprocessing import OneHotEncoder, StandardScaler, MinMaxScaler\n",
    "from sklearn.metrics import accuracy_score\n",
    "from sklearn import preprocessing\n",
    "from sklearn import utils\n",
    "from sklearn.compose import ColumnTransformer, make_column_transformer\n",
    "from sklearn.pipeline import Pipeline, make_pipeline\n",
    "\n",
    "import matplotlib.pyplot as plt\n",
    "import seaborn as sns"
   ]
  },
  {
   "cell_type": "code",
   "execution_count": 2,
   "metadata": {},
   "outputs": [
    {
     "data": {
      "text/plain": [
       "'/home/dagngyen5462/miniconda3/envs/min_ds-env/bin/python'"
      ]
     },
     "execution_count": 2,
     "metadata": {},
     "output_type": "execute_result"
    }
   ],
   "source": [
    "import warnings\n",
    "warnings.filterwarnings('ignore')\n",
    "\n",
    "import sys\n",
    "sys.executable"
   ]
  },
  {
   "cell_type": "markdown",
   "metadata": {},
   "source": [
    "## **2. Insert and preprocess data**"
   ]
  },
  {
   "cell_type": "markdown",
   "metadata": {},
   "source": [
    "### **2.1. Load data**\n",
    "Load our data from path `../Data/processed_data.csv`."
   ]
  },
  {
   "cell_type": "code",
   "execution_count": 3,
   "metadata": {},
   "outputs": [
    {
     "data": {
      "text/html": [
       "<div>\n",
       "<style scoped>\n",
       "    .dataframe tbody tr th:only-of-type {\n",
       "        vertical-align: middle;\n",
       "    }\n",
       "\n",
       "    .dataframe tbody tr th {\n",
       "        vertical-align: top;\n",
       "    }\n",
       "\n",
       "    .dataframe thead th {\n",
       "        text-align: right;\n",
       "    }\n",
       "</style>\n",
       "<table border=\"1\" class=\"dataframe\">\n",
       "  <thead>\n",
       "    <tr style=\"text-align: right;\">\n",
       "      <th></th>\n",
       "      <th>name</th>\n",
       "      <th>general</th>\n",
       "      <th>specify</th>\n",
       "      <th>enrollment</th>\n",
       "      <th>language</th>\n",
       "      <th>rating</th>\n",
       "      <th>level</th>\n",
       "      <th>duration</th>\n",
       "      <th>instructor</th>\n",
       "      <th>instructor_rate</th>\n",
       "      <th>offered by</th>\n",
       "    </tr>\n",
       "  </thead>\n",
       "  <tbody>\n",
       "    <tr>\n",
       "      <th>3833</th>\n",
       "      <td>Mountains 101</td>\n",
       "      <td>Physical Science and Engineering</td>\n",
       "      <td>Environmental Science and Sustainability</td>\n",
       "      <td>74401</td>\n",
       "      <td>English</td>\n",
       "      <td>4.9</td>\n",
       "      <td>Other</td>\n",
       "      <td>18</td>\n",
       "      <td>Zac Robinson, David Hik</td>\n",
       "      <td>4.9</td>\n",
       "      <td>University of Alberta</td>\n",
       "    </tr>\n",
       "    <tr>\n",
       "      <th>1928</th>\n",
       "      <td>Estratégicos empresariales: Proyecto final</td>\n",
       "      <td>Business</td>\n",
       "      <td>Business Strategy</td>\n",
       "      <td>13926</td>\n",
       "      <td>Spanish</td>\n",
       "      <td>4.2</td>\n",
       "      <td>Other</td>\n",
       "      <td>10</td>\n",
       "      <td>Norman Wolf del Valle</td>\n",
       "      <td>4.7</td>\n",
       "      <td>Universidad Nacional Autónoma de México</td>\n",
       "    </tr>\n",
       "    <tr>\n",
       "      <th>1714</th>\n",
       "      <td>China’s Economic Transformation Part 1: Econom...</td>\n",
       "      <td>Social Sciences</td>\n",
       "      <td>Economics</td>\n",
       "      <td>11118</td>\n",
       "      <td>English</td>\n",
       "      <td>4.8</td>\n",
       "      <td>Beginner</td>\n",
       "      <td>12</td>\n",
       "      <td>Albert Park</td>\n",
       "      <td>4.8</td>\n",
       "      <td>The Hong Kong University of Science and Techno...</td>\n",
       "    </tr>\n",
       "    <tr>\n",
       "      <th>1668</th>\n",
       "      <td>Drugs, drug use, drug policy and health</td>\n",
       "      <td>Health</td>\n",
       "      <td>Public Health</td>\n",
       "      <td>32523</td>\n",
       "      <td>English</td>\n",
       "      <td>4.8</td>\n",
       "      <td>Beginner</td>\n",
       "      <td>29</td>\n",
       "      <td>Jennifer Hasselgard-Rowe, Michel Kazatchkine, ...</td>\n",
       "      <td>4.7</td>\n",
       "      <td>University of Geneva</td>\n",
       "    </tr>\n",
       "    <tr>\n",
       "      <th>3677</th>\n",
       "      <td>Medir y optimizar campañas de marketing en red...</td>\n",
       "      <td>Business</td>\n",
       "      <td>Marketing</td>\n",
       "      <td>4516</td>\n",
       "      <td>Spanish</td>\n",
       "      <td>4.9</td>\n",
       "      <td>Beginner</td>\n",
       "      <td>8</td>\n",
       "      <td>Anke Audenaert</td>\n",
       "      <td>4.9</td>\n",
       "      <td>Meta</td>\n",
       "    </tr>\n",
       "  </tbody>\n",
       "</table>\n",
       "</div>"
      ],
      "text/plain": [
       "                                                   name  \\\n",
       "3833                                      Mountains 101   \n",
       "1928        Estratégicos empresariales: Proyecto final    \n",
       "1714  China’s Economic Transformation Part 1: Econom...   \n",
       "1668           Drugs, drug use, drug policy and health    \n",
       "3677  Medir y optimizar campañas de marketing en red...   \n",
       "\n",
       "                               general  \\\n",
       "3833  Physical Science and Engineering   \n",
       "1928                          Business   \n",
       "1714                   Social Sciences   \n",
       "1668                            Health   \n",
       "3677                          Business   \n",
       "\n",
       "                                       specify  enrollment language  rating  \\\n",
       "3833  Environmental Science and Sustainability       74401  English     4.9   \n",
       "1928                         Business Strategy       13926  Spanish     4.2   \n",
       "1714                                 Economics       11118  English     4.8   \n",
       "1668                             Public Health       32523  English     4.8   \n",
       "3677                                 Marketing        4516  Spanish     4.9   \n",
       "\n",
       "         level  duration                                         instructor  \\\n",
       "3833     Other        18                            Zac Robinson, David Hik   \n",
       "1928     Other        10                              Norman Wolf del Valle   \n",
       "1714  Beginner        12                                        Albert Park   \n",
       "1668  Beginner        29  Jennifer Hasselgard-Rowe, Michel Kazatchkine, ...   \n",
       "3677  Beginner         8                                     Anke Audenaert   \n",
       "\n",
       "      instructor_rate                                         offered by  \n",
       "3833              4.9                              University of Alberta  \n",
       "1928              4.7            Universidad Nacional Autónoma de México  \n",
       "1714              4.8  The Hong Kong University of Science and Techno...  \n",
       "1668              4.7                               University of Geneva  \n",
       "3677              4.9                                               Meta  "
      ]
     },
     "execution_count": 3,
     "metadata": {},
     "output_type": "execute_result"
    }
   ],
   "source": [
    "# Load our data from path `../Data/processed_data.csv`\n",
    "courses_df = pd.read_csv('../Data/processed_data.csv', sep=',',engine='python', encoding='utf-8')\n",
    "courses_df.sample(5)"
   ]
  },
  {
   "cell_type": "markdown",
   "metadata": {},
   "source": [
    "### **2.2. Preprocess data**"
   ]
  },
  {
   "cell_type": "markdown",
   "metadata": {},
   "source": [
    "- The `name` and `instructor` features needs to be removed because it is not useful in training the model."
   ]
  },
  {
   "cell_type": "code",
   "execution_count": 4,
   "metadata": {},
   "outputs": [
    {
     "data": {
      "text/html": [
       "<div>\n",
       "<style scoped>\n",
       "    .dataframe tbody tr th:only-of-type {\n",
       "        vertical-align: middle;\n",
       "    }\n",
       "\n",
       "    .dataframe tbody tr th {\n",
       "        vertical-align: top;\n",
       "    }\n",
       "\n",
       "    .dataframe thead th {\n",
       "        text-align: right;\n",
       "    }\n",
       "</style>\n",
       "<table border=\"1\" class=\"dataframe\">\n",
       "  <thead>\n",
       "    <tr style=\"text-align: right;\">\n",
       "      <th></th>\n",
       "      <th>general</th>\n",
       "      <th>specify</th>\n",
       "      <th>enrollment</th>\n",
       "      <th>language</th>\n",
       "      <th>rating</th>\n",
       "      <th>level</th>\n",
       "      <th>duration</th>\n",
       "      <th>instructor_rate</th>\n",
       "      <th>offered by</th>\n",
       "    </tr>\n",
       "  </thead>\n",
       "  <tbody>\n",
       "    <tr>\n",
       "      <th>155</th>\n",
       "      <td>Physical Science and Engineering</td>\n",
       "      <td>Mechanical Engineering</td>\n",
       "      <td>16357</td>\n",
       "      <td>English</td>\n",
       "      <td>4.6</td>\n",
       "      <td>Beginner</td>\n",
       "      <td>18</td>\n",
       "      <td>4.5</td>\n",
       "      <td>The State University of New York</td>\n",
       "    </tr>\n",
       "    <tr>\n",
       "      <th>4938</th>\n",
       "      <td>Social Sciences</td>\n",
       "      <td>Governance and Society</td>\n",
       "      <td>54017</td>\n",
       "      <td>English</td>\n",
       "      <td>4.5</td>\n",
       "      <td>Other</td>\n",
       "      <td>19</td>\n",
       "      <td>4.6</td>\n",
       "      <td>Rutgers the State University of New Jersey</td>\n",
       "    </tr>\n",
       "    <tr>\n",
       "      <th>1800</th>\n",
       "      <td>Health</td>\n",
       "      <td>Patient Care</td>\n",
       "      <td>54147</td>\n",
       "      <td>Spanish</td>\n",
       "      <td>4.8</td>\n",
       "      <td>Intermediate</td>\n",
       "      <td>8</td>\n",
       "      <td>4.8</td>\n",
       "      <td>Pontificia Universidad Católica de Chile</td>\n",
       "    </tr>\n",
       "    <tr>\n",
       "      <th>5457</th>\n",
       "      <td>Computer Science</td>\n",
       "      <td>Software Development</td>\n",
       "      <td>83185</td>\n",
       "      <td>English</td>\n",
       "      <td>4.6</td>\n",
       "      <td>Beginner</td>\n",
       "      <td>8</td>\n",
       "      <td>4.7</td>\n",
       "      <td>University of Virginia</td>\n",
       "    </tr>\n",
       "    <tr>\n",
       "      <th>996</th>\n",
       "      <td>Business</td>\n",
       "      <td>Business Essentials</td>\n",
       "      <td>11229</td>\n",
       "      <td>English</td>\n",
       "      <td>4.9</td>\n",
       "      <td>Beginner</td>\n",
       "      <td>14</td>\n",
       "      <td>4.9</td>\n",
       "      <td>Institute for the Future</td>\n",
       "    </tr>\n",
       "  </tbody>\n",
       "</table>\n",
       "</div>"
      ],
      "text/plain": [
       "                               general                 specify  enrollment  \\\n",
       "155   Physical Science and Engineering  Mechanical Engineering       16357   \n",
       "4938                   Social Sciences  Governance and Society       54017   \n",
       "1800                            Health            Patient Care       54147   \n",
       "5457                  Computer Science    Software Development       83185   \n",
       "996                           Business     Business Essentials       11229   \n",
       "\n",
       "     language  rating         level  duration  instructor_rate  \\\n",
       "155   English     4.6      Beginner        18              4.5   \n",
       "4938  English     4.5         Other        19              4.6   \n",
       "1800  Spanish     4.8  Intermediate         8              4.8   \n",
       "5457  English     4.6      Beginner         8              4.7   \n",
       "996   English     4.9      Beginner        14              4.9   \n",
       "\n",
       "                                      offered by  \n",
       "155             The State University of New York  \n",
       "4938  Rutgers the State University of New Jersey  \n",
       "1800    Pontificia Universidad Católica de Chile  \n",
       "5457                      University of Virginia  \n",
       "996                     Institute for the Future  "
      ]
     },
     "execution_count": 4,
     "metadata": {},
     "output_type": "execute_result"
    }
   ],
   "source": [
    "data_ = courses_df.copy().drop(columns=['name', 'instructor'])\n",
    "data_.sample(5)"
   ]
  },
  {
   "cell_type": "markdown",
   "metadata": {},
   "source": [
    "- Explore missing values in variables:\n",
    "    + View summary of dataset."
   ]
  },
  {
   "cell_type": "code",
   "execution_count": 5,
   "metadata": {},
   "outputs": [
    {
     "name": "stdout",
     "output_type": "stream",
     "text": [
      "<class 'pandas.core.frame.DataFrame'>\n",
      "RangeIndex: 5718 entries, 0 to 5717\n",
      "Data columns (total 9 columns):\n",
      " #   Column           Non-Null Count  Dtype  \n",
      "---  ------           --------------  -----  \n",
      " 0   general          5717 non-null   object \n",
      " 1   specify          5717 non-null   object \n",
      " 2   enrollment       5718 non-null   int64  \n",
      " 3   language         5718 non-null   object \n",
      " 4   rating           5718 non-null   float64\n",
      " 5   level            5718 non-null   object \n",
      " 6   duration         5718 non-null   int64  \n",
      " 7   instructor_rate  5718 non-null   float64\n",
      " 8   offered by       5703 non-null   object \n",
      "dtypes: float64(2), int64(2), object(5)\n",
      "memory usage: 402.2+ KB\n"
     ]
    }
   ],
   "source": [
    "data_.info()"
   ]
  },
  {
   "cell_type": "code",
   "execution_count": 6,
   "metadata": {},
   "outputs": [
    {
     "name": "stdout",
     "output_type": "stream",
     "text": [
      "Number missing values in each column:\n",
      " general             1\n",
      "specify             1\n",
      "enrollment          0\n",
      "language            0\n",
      "rating              0\n",
      "level               0\n",
      "duration            0\n",
      "instructor_rate     0\n",
      "offered by         15\n",
      "dtype: int64\n"
     ]
    }
   ],
   "source": [
    "print('Number missing values in each column:\\n',data_.isnull().sum())"
   ]
  },
  {
   "cell_type": "markdown",
   "metadata": {},
   "source": [
    "- Explore missing values in variables:\n",
    "    + Drop rows with missing values: Because the number of missing values each variable is insignificant, we will remove rows containing missing data."
   ]
  },
  {
   "cell_type": "code",
   "execution_count": 7,
   "metadata": {},
   "outputs": [
    {
     "name": "stdout",
     "output_type": "stream",
     "text": [
      "Number missing values in each column:\n",
      " general            0\n",
      "specify            0\n",
      "enrollment         0\n",
      "language           0\n",
      "rating             0\n",
      "level              0\n",
      "duration           0\n",
      "instructor_rate    0\n",
      "offered by         0\n",
      "dtype: int64\n"
     ]
    }
   ],
   "source": [
    "# Drop rows with missing values\n",
    "data_.dropna(inplace=True)\n",
    "print('Number missing values in each column:\\n',data_.isnull().sum())"
   ]
  },
  {
   "cell_type": "markdown",
   "metadata": {},
   "source": [
    "## **3. Prepare for training model**"
   ]
  },
  {
   "cell_type": "markdown",
   "metadata": {},
   "source": [
    "### **3.1. Define kind of features**"
   ]
  },
  {
   "cell_type": "markdown",
   "metadata": {},
   "source": [
    "- Define selection and target features to prepare data for training model."
   ]
  },
  {
   "cell_type": "code",
   "execution_count": 8,
   "metadata": {},
   "outputs": [],
   "source": [
    "# Define selection and target features to prepare data for training model\n",
    "target = ['rating']\n",
    "specificities = list(set(data_.columns) - set(target))"
   ]
  },
  {
   "cell_type": "markdown",
   "metadata": {},
   "source": [
    "- Define numerical and categorical features to transformer."
   ]
  },
  {
   "cell_type": "code",
   "execution_count": 9,
   "metadata": {},
   "outputs": [
    {
     "name": "stdout",
     "output_type": "stream",
     "text": [
      "Numerical features: ['instructor_rate', 'enrollment', 'duration']\n",
      "Categorical features: ['level', 'language', 'offered by', 'general', 'specify']\n"
     ]
    }
   ],
   "source": [
    "# Define numerical and categorical features\n",
    "numeracy_ = list(set(specificities) - set(courses_df.select_dtypes(include=['object']).columns))\n",
    "category_ = list(set(specificities) - set(courses_df.select_dtypes(exclude=['object']).columns))\n",
    "print('Numerical features:', numeracy_)\n",
    "print('Categorical features:', category_)"
   ]
  },
  {
   "cell_type": "markdown",
   "metadata": {},
   "source": [
    "### **3.2. Split data**\n",
    "Split data into 3 datasets: `Training dataset`, `Validation dataset` and `Testing dataset`. We’ll perform splitting on the following ratio 80-20."
   ]
  },
  {
   "cell_type": "code",
   "execution_count": 10,
   "metadata": {},
   "outputs": [],
   "source": [
    "# Define the constant variable random_state\n",
    "random_state = 2112\n",
    "\n",
    "# Select features and target variable\n",
    "X = data_[specificities]\n",
    "y = data_[target]\n",
    "\n",
    "# Split data on the following ratio 80-20\n",
    "X_train, X_test, y_train, y_test = train_test_split(X, y, test_size=0.3,random_state=random_state)"
   ]
  },
  {
   "cell_type": "markdown",
   "metadata": {},
   "source": [
    "### **3.3. Initialize transformer**"
   ]
  },
  {
   "cell_type": "code",
   "execution_count": 11,
   "metadata": {},
   "outputs": [],
   "source": [
    "# Create transformer for numerical and categorical features by using Pipeline\n",
    "num_transformer = Pipeline(steps=[('scaler', StandardScaler())])\n",
    "cat_transformer = Pipeline(steps=[('onehot', OneHotEncoder(sparse=False, handle_unknown='ignore'))])\n",
    "\n",
    "# Create a preprocessor using ColumnTransformer\n",
    "preprocessor = ColumnTransformer(transformers=[('num', num_transformer, numeracy_),\n",
    "                                               ('cat', cat_transformer, category_)])"
   ]
  },
  {
   "cell_type": "markdown",
   "metadata": {},
   "source": [
    "### **3.4. Search hyperparameter for available data fitting model**"
   ]
  },
  {
   "cell_type": "markdown",
   "metadata": {},
   "source": [
    "- When tuning the hyperparameter, I use `GridSearchCV`.\n",
    "- While setting up the `Pipeline` for `GridSearchCV`, I set the variable value `cv=5`.\n",
    "    + This means that `GridSearchCV` will divide the training dataset into 5 sub-datasets.\n",
    "    + Each sub-dataset will be used as a **_validation dataset_** while the others will be used for **_training_** and **_hyperparameter-tuning_**.\n",
    "- To calculate the **Mean Squared Error** (MSE) score, `GridSearchCV` will take the average of splitting the training dataset 5 times.\n",
    "\n",
    "We take into account some essential hyperparameters for fine-tuning SVMs:\n",
    "- **`C`**: The regularization parameter that controls the trade-off between the margin and the number of training errors. A larger value of C penalizes training errors more heavily, resulting in a smaller margin but potentially better generalization performance. A smaller value of C allows for more training errors but may lead to overfitting.\n",
    "- **`Kernel`**: The kernel function that defines the similarity between data points. Different kernels can capture different relationships between data points, and the choice of kernel can significantly impact the performance of the SVM. Common kernels include linear, polynomial, radial basis function (RBF), and sigmoid.\n",
    "- **`Gamma`**: The parameter that controls the influence of support vectors on the decision boundary. A larger value of gamma indicates that nearby support vectors have a stronger influence, while a smaller value indicates that distant support vectors have a weaker influence. The choice of gamma is particularly important for RBF kernels."
   ]
  },
  {
   "cell_type": "code",
   "execution_count": 12,
   "metadata": {},
   "outputs": [],
   "source": [
    "# Use SVR for regression\n",
    "pipe_svm = Pipeline([('preprocessor', preprocessor),\n",
    "                      ('regressor', SVR())])\n",
    "\n",
    "# Fine-tuning hyperparameters\n",
    "param_kernel = ['linear', 'rbf', 'sigmoid', 'poly']\n",
    "param_C = [0.01, 0.1, 1.0, 10.0]\n",
    "param_gamma = [0.001, 0.01, 0.1, 1.0]\n",
    "param_grid = [{'regressor__C': param_C,\n",
    "               'regressor__kernel': param_kernel,\n",
    "               'regressor__gamma': param_gamma}]\n",
    "\n",
    "# Use a regression-specific scoring metric\n",
    "reg_gs = GridSearchCV(\n",
    "    estimator=pipe_svm,\n",
    "    param_grid=param_grid,\n",
    "    scoring=\"neg_mean_squared_error\",\n",
    "    return_train_score=True,\n",
    "    cv=5)\n",
    "\n",
    "reg_gs = reg_gs.fit(X_train, y_train)"
   ]
  },
  {
   "cell_type": "code",
   "execution_count": 13,
   "metadata": {},
   "outputs": [
    {
     "name": "stdout",
     "output_type": "stream",
     "text": [
      "[SVR: grid search]\n",
      "Validation MSE: 0.033245\n",
      "{'regressor__C': 10.0, 'regressor__gamma': 0.01, 'regressor__kernel': 'rbf'}\n"
     ]
    }
   ],
   "source": [
    "print('[SVR: grid search]')\n",
    "print('Validation MSE: %.6f' % -reg_gs.best_score_)  # Print as positive MSE # Common regression metric\n",
    "print(reg_gs.best_params_)"
   ]
  },
  {
   "cell_type": "code",
   "execution_count": 16,
   "metadata": {},
   "outputs": [],
   "source": [
    "# Get scoring values of ref_gs\n",
    "recording_df = pd.DataFrame({'kernel':np.ma.getdata(reg_gs.cv_results_['param_regressor__kernel']),\n",
    "                             'C':np.ma.getdata(reg_gs.cv_results_['param_regressor__C']),\n",
    "                             'gamma':np.ma.getdata(reg_gs.cv_results_['param_regressor__gamma']),\n",
    "                             'mean_test':['{:f}'.format(item) for item in -reg_gs.cv_results_['mean_test_score'].round(6)],\n",
    "                             'mean_train':['{:f}'.format(item) for item in -reg_gs.cv_results_['mean_train_score'].round(6)],\n",
    "                             'ranking':reg_gs.cv_results_['rank_test_score']},\n",
    "                            index=reg_gs.cv_results_['params'])\\\n",
    "                                .sort_values(by=['kernel', 'C', 'gamma'], ascending=[True, True, True])\n",
    "recording_df.to_csv('record_hyperparameters_svm.csv', encoding='utf-8-sig')"
   ]
  },
  {
   "cell_type": "markdown",
   "metadata": {},
   "source": [
    "Since hyperparameter-tuning is time-consuming, I have saved the table that records the **Mean Squared Error** (**MSE**) data results to a `record_hyperparameters_svm.csv` file. By doing so, I can retrieve the saved data later on to explore the results, saving my time in case of interruptions during the project. This way, I can avoid redoing the hyperparameter tuning process."
   ]
  },
  {
   "cell_type": "code",
   "execution_count": 12,
   "metadata": {},
   "outputs": [
    {
     "data": {
      "text/html": [
       "<div>\n",
       "<style scoped>\n",
       "    .dataframe tbody tr th:only-of-type {\n",
       "        vertical-align: middle;\n",
       "    }\n",
       "\n",
       "    .dataframe tbody tr th {\n",
       "        vertical-align: top;\n",
       "    }\n",
       "\n",
       "    .dataframe thead th {\n",
       "        text-align: right;\n",
       "    }\n",
       "</style>\n",
       "<table border=\"1\" class=\"dataframe\">\n",
       "  <thead>\n",
       "    <tr style=\"text-align: right;\">\n",
       "      <th></th>\n",
       "      <th>kernel</th>\n",
       "      <th>C</th>\n",
       "      <th>gamma</th>\n",
       "      <th>mean_test</th>\n",
       "      <th>mean_train</th>\n",
       "      <th>ranking</th>\n",
       "    </tr>\n",
       "  </thead>\n",
       "  <tbody>\n",
       "    <tr>\n",
       "      <th>{'regressor__C': 0.01, 'regressor__gamma': 0.001, 'regressor__kernel': 'linear'}</th>\n",
       "      <td>linear</td>\n",
       "      <td>0.01</td>\n",
       "      <td>0.001</td>\n",
       "      <td>3.433600e-02</td>\n",
       "      <td>3.288000e-02</td>\n",
       "      <td>10</td>\n",
       "    </tr>\n",
       "    <tr>\n",
       "      <th>{'regressor__C': 0.01, 'regressor__gamma': 0.01, 'regressor__kernel': 'linear'}</th>\n",
       "      <td>linear</td>\n",
       "      <td>0.01</td>\n",
       "      <td>0.010</td>\n",
       "      <td>3.433600e-02</td>\n",
       "      <td>3.288000e-02</td>\n",
       "      <td>10</td>\n",
       "    </tr>\n",
       "    <tr>\n",
       "      <th>{'regressor__C': 0.01, 'regressor__gamma': 0.1, 'regressor__kernel': 'linear'}</th>\n",
       "      <td>linear</td>\n",
       "      <td>0.01</td>\n",
       "      <td>0.100</td>\n",
       "      <td>3.433600e-02</td>\n",
       "      <td>3.288000e-02</td>\n",
       "      <td>10</td>\n",
       "    </tr>\n",
       "    <tr>\n",
       "      <th>{'regressor__C': 0.01, 'regressor__gamma': 1.0, 'regressor__kernel': 'linear'}</th>\n",
       "      <td>linear</td>\n",
       "      <td>0.01</td>\n",
       "      <td>1.000</td>\n",
       "      <td>3.433600e-02</td>\n",
       "      <td>3.288000e-02</td>\n",
       "      <td>10</td>\n",
       "    </tr>\n",
       "    <tr>\n",
       "      <th>{'regressor__C': 0.1, 'regressor__gamma': 0.001, 'regressor__kernel': 'linear'}</th>\n",
       "      <td>linear</td>\n",
       "      <td>0.10</td>\n",
       "      <td>0.001</td>\n",
       "      <td>3.418000e-02</td>\n",
       "      <td>3.055900e-02</td>\n",
       "      <td>4</td>\n",
       "    </tr>\n",
       "    <tr>\n",
       "      <th>...</th>\n",
       "      <td>...</td>\n",
       "      <td>...</td>\n",
       "      <td>...</td>\n",
       "      <td>...</td>\n",
       "      <td>...</td>\n",
       "      <td>...</td>\n",
       "    </tr>\n",
       "    <tr>\n",
       "      <th>{'regressor__C': 1.0, 'regressor__gamma': 1.0, 'regressor__kernel': 'sigmoid'}</th>\n",
       "      <td>sigmoid</td>\n",
       "      <td>1.00</td>\n",
       "      <td>1.000</td>\n",
       "      <td>2.418177e+04</td>\n",
       "      <td>2.503934e+04</td>\n",
       "      <td>62</td>\n",
       "    </tr>\n",
       "    <tr>\n",
       "      <th>{'regressor__C': 10.0, 'regressor__gamma': 0.001, 'regressor__kernel': 'sigmoid'}</th>\n",
       "      <td>sigmoid</td>\n",
       "      <td>10.00</td>\n",
       "      <td>0.001</td>\n",
       "      <td>3.433300e-02</td>\n",
       "      <td>3.288200e-02</td>\n",
       "      <td>9</td>\n",
       "    </tr>\n",
       "    <tr>\n",
       "      <th>{'regressor__C': 10.0, 'regressor__gamma': 0.01, 'regressor__kernel': 'sigmoid'}</th>\n",
       "      <td>sigmoid</td>\n",
       "      <td>10.00</td>\n",
       "      <td>0.010</td>\n",
       "      <td>4.741948e+00</td>\n",
       "      <td>4.718597e+00</td>\n",
       "      <td>58</td>\n",
       "    </tr>\n",
       "    <tr>\n",
       "      <th>{'regressor__C': 10.0, 'regressor__gamma': 0.1, 'regressor__kernel': 'sigmoid'}</th>\n",
       "      <td>sigmoid</td>\n",
       "      <td>10.00</td>\n",
       "      <td>0.100</td>\n",
       "      <td>6.242521e+04</td>\n",
       "      <td>6.056644e+04</td>\n",
       "      <td>63</td>\n",
       "    </tr>\n",
       "    <tr>\n",
       "      <th>{'regressor__C': 10.0, 'regressor__gamma': 1.0, 'regressor__kernel': 'sigmoid'}</th>\n",
       "      <td>sigmoid</td>\n",
       "      <td>10.00</td>\n",
       "      <td>1.000</td>\n",
       "      <td>2.398410e+06</td>\n",
       "      <td>2.503694e+06</td>\n",
       "      <td>64</td>\n",
       "    </tr>\n",
       "  </tbody>\n",
       "</table>\n",
       "<p>64 rows × 6 columns</p>\n",
       "</div>"
      ],
      "text/plain": [
       "                                                     kernel      C  gamma  \\\n",
       "{'regressor__C': 0.01, 'regressor__gamma': 0.00...   linear   0.01  0.001   \n",
       "{'regressor__C': 0.01, 'regressor__gamma': 0.01...   linear   0.01  0.010   \n",
       "{'regressor__C': 0.01, 'regressor__gamma': 0.1,...   linear   0.01  0.100   \n",
       "{'regressor__C': 0.01, 'regressor__gamma': 1.0,...   linear   0.01  1.000   \n",
       "{'regressor__C': 0.1, 'regressor__gamma': 0.001...   linear   0.10  0.001   \n",
       "...                                                     ...    ...    ...   \n",
       "{'regressor__C': 1.0, 'regressor__gamma': 1.0, ...  sigmoid   1.00  1.000   \n",
       "{'regressor__C': 10.0, 'regressor__gamma': 0.00...  sigmoid  10.00  0.001   \n",
       "{'regressor__C': 10.0, 'regressor__gamma': 0.01...  sigmoid  10.00  0.010   \n",
       "{'regressor__C': 10.0, 'regressor__gamma': 0.1,...  sigmoid  10.00  0.100   \n",
       "{'regressor__C': 10.0, 'regressor__gamma': 1.0,...  sigmoid  10.00  1.000   \n",
       "\n",
       "                                                       mean_test  \\\n",
       "{'regressor__C': 0.01, 'regressor__gamma': 0.00...  3.433600e-02   \n",
       "{'regressor__C': 0.01, 'regressor__gamma': 0.01...  3.433600e-02   \n",
       "{'regressor__C': 0.01, 'regressor__gamma': 0.1,...  3.433600e-02   \n",
       "{'regressor__C': 0.01, 'regressor__gamma': 1.0,...  3.433600e-02   \n",
       "{'regressor__C': 0.1, 'regressor__gamma': 0.001...  3.418000e-02   \n",
       "...                                                          ...   \n",
       "{'regressor__C': 1.0, 'regressor__gamma': 1.0, ...  2.418177e+04   \n",
       "{'regressor__C': 10.0, 'regressor__gamma': 0.00...  3.433300e-02   \n",
       "{'regressor__C': 10.0, 'regressor__gamma': 0.01...  4.741948e+00   \n",
       "{'regressor__C': 10.0, 'regressor__gamma': 0.1,...  6.242521e+04   \n",
       "{'regressor__C': 10.0, 'regressor__gamma': 1.0,...  2.398410e+06   \n",
       "\n",
       "                                                      mean_train  ranking  \n",
       "{'regressor__C': 0.01, 'regressor__gamma': 0.00...  3.288000e-02       10  \n",
       "{'regressor__C': 0.01, 'regressor__gamma': 0.01...  3.288000e-02       10  \n",
       "{'regressor__C': 0.01, 'regressor__gamma': 0.1,...  3.288000e-02       10  \n",
       "{'regressor__C': 0.01, 'regressor__gamma': 1.0,...  3.288000e-02       10  \n",
       "{'regressor__C': 0.1, 'regressor__gamma': 0.001...  3.055900e-02        4  \n",
       "...                                                          ...      ...  \n",
       "{'regressor__C': 1.0, 'regressor__gamma': 1.0, ...  2.503934e+04       62  \n",
       "{'regressor__C': 10.0, 'regressor__gamma': 0.00...  3.288200e-02        9  \n",
       "{'regressor__C': 10.0, 'regressor__gamma': 0.01...  4.718597e+00       58  \n",
       "{'regressor__C': 10.0, 'regressor__gamma': 0.1,...  6.056644e+04       63  \n",
       "{'regressor__C': 10.0, 'regressor__gamma': 1.0,...  2.503694e+06       64  \n",
       "\n",
       "[64 rows x 6 columns]"
      ]
     },
     "execution_count": 12,
     "metadata": {},
     "output_type": "execute_result"
    }
   ],
   "source": [
    "# Read recording data from record_hyperparameters_svm.csv\n",
    "recording_save_df = pd.read_csv('record_hyperparameters_svm.csv', sep=',', engine='python', encoding='utf-8', index_col=[0])\n",
    "recording_save_df"
   ]
  },
  {
   "cell_type": "markdown",
   "metadata": {},
   "source": [
    "Let's examine the MSE value of each kernel through the relationship between `C` and `gamma`."
   ]
  },
  {
   "cell_type": "code",
   "execution_count": 24,
   "metadata": {},
   "outputs": [
    {
     "data": {
      "image/png": "[encoded data removed]",
      "text/plain": [
       "<Figure size 1000x800 with 8 Axes>"
      ]
     },
     "metadata": {},
     "output_type": "display_data"
    }
   ],
   "source": [
    "heatmap_df = recording_save_df.copy().reset_index().drop(columns=['index', 'mean_test', 'ranking']).set_index(['kernel'])\n",
    "min_range = heatmap_df['mean_train'].min()\n",
    "\n",
    "# Set up the matplotlib figure\n",
    "fig, axes = plt.subplots(nrows=2, ncols=2, figsize=(10, 8), sharex=True, sharey=True)\n",
    "\n",
    "# Plot heatmap each kernel\n",
    "for index, kernel in enumerate(heatmap_df.index.unique()):\n",
    "    ax = axes[index // 2, index % 2]\n",
    "    data_plot = heatmap_df.loc[kernel].copy()\\\n",
    "        .reset_index().drop(columns=['kernel'])\\\n",
    "        .set_index(['C', 'gamma'])\n",
    "    data_plot = data_plot['mean_train'].unstack('gamma').rename_axis(None, axis=1)\n",
    "    data_plot.index.name = None\n",
    "    sns.heatmap(data_plot, annot=True, ax=ax,\n",
    "                vmin=min_range, vmax=0.1, fmt='.3f',\n",
    "                cmap='Blues_r', annot_kws={\"size\": 6})\n",
    "    ax.set_title('MSE of SVM with ' + kernel)\n",
    "    if index % 2 == 0:\n",
    "        ax.set_ylabel('C')\n",
    "        \n",
    "    if index // 2 == 1:\n",
    "        ax.set_xlabel('gamma')\n",
    "\n",
    "plt.show()"
   ]
  },
  {
   "cell_type": "markdown",
   "metadata": {},
   "source": [
    "It appears that the `poly` and `sigmoid` kernels have lighter colors compared to the `linear` and `rbf` kernels. Specifically, when using the `sigmoid` kernel, the MSE tends to increase as the hyperparameter gets larger. This indicates that when the penalty coefficient `C` is higher, the SVM with sigmoid tends to suffer from **_underfitting_**."
   ]
  },
  {
   "cell_type": "markdown",
   "metadata": {},
   "source": [
    "Let's check if **_overfitting_** occurs with small MSE kernel hyperparameters."
   ]
  },
  {
   "cell_type": "code",
   "execution_count": 25,
   "metadata": {},
   "outputs": [
    {
     "data": {
      "image/png": "[encoded data removed]",
      "text/plain": [
       "<Figure size 1000x800 with 8 Axes>"
      ]
     },
     "metadata": {},
     "output_type": "display_data"
    }
   ],
   "source": [
    "bar_df = pd.DataFrame({'kernel': recording_save_df['kernel'],\n",
    "                       'C': recording_save_df['C'],\n",
    "                       'gamma': recording_save_df['gamma'],\n",
    "                       'influence_level': recording_save_df['mean_test'] - recording_save_df['mean_train']},\n",
    "                       index=recording_save_df.index)\n",
    "bar_df = bar_df.reset_index().drop(columns=['index']).set_index(['kernel'])\n",
    "\n",
    "# Set up the matplotlib figure\n",
    "fig, axes = plt.subplots(nrows=2, ncols=2, figsize=(10, 8), sharex=True, sharey=True)\n",
    "\n",
    "# Plot heatmap each kernel\n",
    "for index, kernel in enumerate(bar_df.index.unique()):\n",
    "    ax = axes[index // 2, index % 2]\n",
    "    data_plot = bar_df.loc[kernel].copy()\\\n",
    "        .reset_index().drop(columns=['kernel'])\\\n",
    "        .set_index(['C', 'gamma'])\n",
    "    data_plot = data_plot['influence_level'].unstack('gamma').rename_axis(None, axis=1)\n",
    "    data_plot.index.name = None\n",
    "    sns.heatmap(data_plot, annot=True, ax=ax,\n",
    "                vmin=-0.2, vmax=0.2, fmt='.3f',\n",
    "                cmap='coolwarm_r', annot_kws={\"size\": 6})\n",
    "    ax.set_title('MSE of SVM with ' + kernel)\n",
    "    if index % 2 == 0:\n",
    "        ax.set_ylabel('C')\n",
    "        \n",
    "    if index // 2 == 1:\n",
    "        ax.set_xlabel('gamma')\n",
    "\n",
    "plt.show()"
   ]
  },
  {
   "cell_type": "code",
   "execution_count": null,
   "metadata": {},
   "outputs": [],
   "source": [
    "\n",
    "# # Fit and transform the training data using the preprocessor\n",
    "# pd.DataFrame(preprocessor.fit_transform(X_train, y_train))\n",
    "\n",
    "# # # Transform the validation and test data using the preprocessor\n",
    "# # X_val_preprocessed = preprocessor.transform(X_val)\n",
    "# # X_test_preprocessed = preprocessor.transform(X_test)"
   ]
  },
  {
   "cell_type": "code",
   "execution_count": null,
   "metadata": {},
   "outputs": [
    {
     "data": {
      "text/plain": [
       "array([0.01, 0.01, 0.01, 0.01, 0.01, 0.01, 0.01, 0.01, 0.01, 0.01, 0.01,\n",
       "       0.01, 0.01, 0.01, 0.01, 0.01, 0.1, 0.1, 0.1, 0.1, 0.1, 0.1, 0.1,\n",
       "       0.1, 0.1, 0.1, 0.1, 0.1, 0.1, 0.1, 0.1, 0.1, 1.0, 1.0, 1.0, 1.0,\n",
       "       1.0, 1.0, 1.0, 1.0, 1.0, 1.0, 1.0, 1.0, 1.0, 1.0, 1.0, 1.0, 10.0,\n",
       "       10.0, 10.0, 10.0, 10.0, 10.0, 10.0, 10.0, 10.0, 10.0, 10.0, 10.0,\n",
       "       10.0, 10.0, 10.0, 10.0], dtype=object)"
      ]
     },
     "execution_count": 35,
     "metadata": {},
     "output_type": "execute_result"
    }
   ],
   "source": []
  },
  {
   "cell_type": "code",
   "execution_count": null,
   "metadata": {},
   "outputs": [],
   "source": [
    "# Import data\n",
    "data = np.loadtxt(\"data.csv\", dtype=float, delimiter=\",\")\n",
    "\n",
    "# Create figure\n",
    "fig = plt.figure(figsize=(10, 10))\n",
    "ax = fig.add_subplot(111, projection=\"3d\")\n",
    "\n",
    "# Plot data\n",
    "ax.scatter(data[:, 0], data[:, 1], data[:, 2], c=data[:, 3])\n",
    "\n",
    "# Set labels\n",
    "ax.set_xlabel(\"C\")\n",
    "ax.set_ylabel(\"Gamma\")\n",
    "ax.set_zlabel(\"Kernel\")\n",
    "ax.set_title(\"Mean test score\")\n",
    "\n",
    "# Show figure\n",
    "plt.show()\n"
   ]
  },
  {
   "cell_type": "code",
   "execution_count": null,
   "metadata": {},
   "outputs": [
    {
     "name": "stdout",
     "output_type": "stream",
     "text": [
      "Grid scores on development set:\n",
      "[0]: 0.0579 (+/-0.008) for {'regressor__C': 0.01, 'regressor__gamma': 0.001, 'regressor__kernel': 'rbf'}\n",
      "[1]: 0.0610 (+/-0.008) for {'regressor__C': 0.01, 'regressor__gamma': 0.001, 'regressor__kernel': 'sigmoid'}\n",
      "[2]: 0.0417 (+/-0.006) for {'regressor__C': 0.01, 'regressor__gamma': 0.01, 'regressor__kernel': 'rbf'}\n",
      "[3]: 0.0442 (+/-0.005) for {'regressor__C': 0.01, 'regressor__gamma': 0.01, 'regressor__kernel': 'sigmoid'}\n",
      "[4]: 0.0420 (+/-0.008) for {'regressor__C': 0.01, 'regressor__gamma': 0.1, 'regressor__kernel': 'rbf'}\n",
      "[5]: 0.0506 (+/-0.007) for {'regressor__C': 0.01, 'regressor__gamma': 0.1, 'regressor__kernel': 'sigmoid'}\n",
      "[6]: 0.0623 (+/-0.009) for {'regressor__C': 0.01, 'regressor__gamma': 1.0, 'regressor__kernel': 'rbf'}\n",
      "[7]: 2.5029 (+/-0.381) for {'regressor__C': 0.01, 'regressor__gamma': 1.0, 'regressor__kernel': 'sigmoid'}\n",
      "[8]: 0.0396 (+/-0.005) for {'regressor__C': 0.1, 'regressor__gamma': 0.001, 'regressor__kernel': 'rbf'}\n",
      "[9]: 0.0441 (+/-0.005) for {'regressor__C': 0.1, 'regressor__gamma': 0.001, 'regressor__kernel': 'sigmoid'}\n",
      "[10]: 0.0349 (+/-0.005) for {'regressor__C': 0.1, 'regressor__gamma': 0.01, 'regressor__kernel': 'rbf'}\n",
      "[11]: 0.0356 (+/-0.004) for {'regressor__C': 0.1, 'regressor__gamma': 0.01, 'regressor__kernel': 'sigmoid'}\n",
      "[12]: 0.0349 (+/-0.008) for {'regressor__C': 0.1, 'regressor__gamma': 0.1, 'regressor__kernel': 'rbf'}\n",
      "[13]: 5.8486 (+/-1.779) for {'regressor__C': 0.1, 'regressor__gamma': 0.1, 'regressor__kernel': 'sigmoid'}\n",
      "[14]: 0.0541 (+/-0.009) for {'regressor__C': 0.1, 'regressor__gamma': 1.0, 'regressor__kernel': 'rbf'}\n",
      "[15]: 243.0988 (+/-34.675) for {'regressor__C': 0.1, 'regressor__gamma': 1.0, 'regressor__kernel': 'sigmoid'}\n",
      "[16]: 0.0350 (+/-0.004) for {'regressor__C': 1.0, 'regressor__gamma': 0.001, 'regressor__kernel': 'rbf'}\n",
      "[17]: 0.0356 (+/-0.004) for {'regressor__C': 1.0, 'regressor__gamma': 0.001, 'regressor__kernel': 'sigmoid'}\n",
      "[18]: 0.0334 (+/-0.005) for {'regressor__C': 1.0, 'regressor__gamma': 0.01, 'regressor__kernel': 'rbf'}\n",
      "[19]: 0.0460 (+/-0.012) for {'regressor__C': 1.0, 'regressor__gamma': 0.01, 'regressor__kernel': 'sigmoid'}\n",
      "[20]: 0.0343 (+/-0.008) for {'regressor__C': 1.0, 'regressor__gamma': 0.1, 'regressor__kernel': 'rbf'}\n",
      "[21]: 614.4547 (+/-184.212) for {'regressor__C': 1.0, 'regressor__gamma': 0.1, 'regressor__kernel': 'sigmoid'}\n",
      "[22]: 0.0508 (+/-0.007) for {'regressor__C': 1.0, 'regressor__gamma': 1.0, 'regressor__kernel': 'rbf'}\n",
      "[23]: 24181.7684 (+/-3422.428) for {'regressor__C': 1.0, 'regressor__gamma': 1.0, 'regressor__kernel': 'sigmoid'}\n",
      "[24]: 0.0339 (+/-0.005) for {'regressor__C': 10.0, 'regressor__gamma': 0.001, 'regressor__kernel': 'rbf'}\n",
      "[25]: 0.0343 (+/-0.005) for {'regressor__C': 10.0, 'regressor__gamma': 0.001, 'regressor__kernel': 'sigmoid'}\n",
      "[26]: 0.0332 (+/-0.005) for {'regressor__C': 10.0, 'regressor__gamma': 0.01, 'regressor__kernel': 'rbf'}\n",
      "[27]: 4.7419 (+/-4.092) for {'regressor__C': 10.0, 'regressor__gamma': 0.01, 'regressor__kernel': 'sigmoid'}\n",
      "[28]: 0.0404 (+/-0.009) for {'regressor__C': 10.0, 'regressor__gamma': 0.1, 'regressor__kernel': 'rbf'}\n",
      "[29]: 62425.2091 (+/-19002.793) for {'regressor__C': 10.0, 'regressor__gamma': 0.1, 'regressor__kernel': 'sigmoid'}\n",
      "[30]: 0.0520 (+/-0.008) for {'regressor__C': 10.0, 'regressor__gamma': 1.0, 'regressor__kernel': 'rbf'}\n",
      "[31]: 2398409.9472 (+/-381389.952) for {'regressor__C': 10.0, 'regressor__gamma': 1.0, 'regressor__kernel': 'sigmoid'}\n",
      "[32]: 0.0334 (+/-0.005) for {'regressor__C': 100.0, 'regressor__gamma': 0.001, 'regressor__kernel': 'rbf'}\n",
      "[33]: 0.0342 (+/-0.004) for {'regressor__C': 100.0, 'regressor__gamma': 0.001, 'regressor__kernel': 'sigmoid'}\n",
      "[34]: 0.0362 (+/-0.007) for {'regressor__C': 100.0, 'regressor__gamma': 0.01, 'regressor__kernel': 'rbf'}\n",
      "[35]: 588.4317 (+/-470.616) for {'regressor__C': 100.0, 'regressor__gamma': 0.01, 'regressor__kernel': 'sigmoid'}\n",
      "[36]: 0.0488 (+/-0.009) for {'regressor__C': 100.0, 'regressor__gamma': 0.1, 'regressor__kernel': 'rbf'}\n",
      "[37]: 6089565.4240 (+/-1818703.485) for {'regressor__C': 100.0, 'regressor__gamma': 0.1, 'regressor__kernel': 'sigmoid'}\n",
      "[38]: 0.0544 (+/-0.011) for {'regressor__C': 100.0, 'regressor__gamma': 1.0, 'regressor__kernel': 'rbf'}\n",
      "[39]: 270964805.4623 (+/-85189723.170) for {'regressor__C': 100.0, 'regressor__gamma': 1.0, 'regressor__kernel': 'sigmoid'}\n"
     ]
    }
   ],
   "source": [
    "# print(\"Grid scores on development set:\")\n",
    "\n",
    "# means = gs_spe.cv_results_['mean_test_score']\n",
    "# stds = gs_spe.cv_results_['std_test_score']\n",
    "# i = 0\n",
    "# for mean, std, params in zip(means, stds, gs_spe.cv_results_['params']):\n",
    "#     print(\"[%d]: %0.4f (+/-%0.03f) for %r\"\n",
    "#           % (i, -mean, std * 2, params))\n",
    "#     i += 1"
   ]
  }
 ],
 "metadata": {
  "kernelspec": {
   "display_name": "min_ds-env",
   "language": "python",
   "name": "python3"
  },
  "language_info": {
   "codemirror_mode": {
    "name": "ipython",
    "version": 3
   },
   "file_extension": ".py",
   "mimetype": "text/x-python",
   "name": "python",
   "nbconvert_exporter": "python",
   "pygments_lexer": "ipython3",
   "version": "3.10.8"
  }
 },
 "nbformat": 4,
 "nbformat_minor": 2
}
