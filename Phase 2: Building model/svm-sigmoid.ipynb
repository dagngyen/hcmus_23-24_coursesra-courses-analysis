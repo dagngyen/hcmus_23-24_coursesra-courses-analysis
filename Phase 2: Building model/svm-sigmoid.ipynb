{
 "cells": [
  {
   "cell_type": "markdown",
   "metadata": {},
   "source": [
    "# **Support vector machine sigmoid kernel (SVM with sigmoid)**"
   ]
  },
  {
   "cell_type": "markdown",
   "metadata": {},
   "source": [
    "## **1. Import necessary libraries**"
   ]
  },
  {
   "cell_type": "code",
   "execution_count": 1,
   "metadata": {},
   "outputs": [],
   "source": [
    "import pandas as pd\n",
    "import numpy as np\n",
    "\n",
    "from sklearn.model_selection import train_test_split\n",
    "from sklearn.svm import SVC\n",
    "from sklearn.model_selection import GridSearchCV\n",
    "\n",
    "import matplotlib.pyplot as plt\n",
    "import seaborn as sns"
   ]
  },
  {
   "cell_type": "markdown",
   "metadata": {},
   "source": [
    "## **2. Insert and preprocess data**"
   ]
  },
  {
   "cell_type": "markdown",
   "metadata": {},
   "source": [
    "- Load our data from path `../Data/processed_data.csv`."
   ]
  },
  {
   "cell_type": "code",
   "execution_count": 16,
   "metadata": {},
   "outputs": [
    {
     "data": {
      "text/html": [
       "<div>\n",
       "<style scoped>\n",
       "    .dataframe tbody tr th:only-of-type {\n",
       "        vertical-align: middle;\n",
       "    }\n",
       "\n",
       "    .dataframe tbody tr th {\n",
       "        vertical-align: top;\n",
       "    }\n",
       "\n",
       "    .dataframe thead th {\n",
       "        text-align: right;\n",
       "    }\n",
       "</style>\n",
       "<table border=\"1\" class=\"dataframe\">\n",
       "  <thead>\n",
       "    <tr style=\"text-align: right;\">\n",
       "      <th></th>\n",
       "      <th>name</th>\n",
       "      <th>general</th>\n",
       "      <th>specify</th>\n",
       "      <th>enrollment</th>\n",
       "      <th>language</th>\n",
       "      <th>rating</th>\n",
       "      <th>level</th>\n",
       "      <th>duration</th>\n",
       "      <th>instructor</th>\n",
       "      <th>instructor_rate</th>\n",
       "      <th>offered by</th>\n",
       "    </tr>\n",
       "  </thead>\n",
       "  <tbody>\n",
       "    <tr>\n",
       "      <th>3964</th>\n",
       "      <td>Introduction to Object-Oriented Programming wi...</td>\n",
       "      <td>Computer Science</td>\n",
       "      <td>Software Development</td>\n",
       "      <td>28834</td>\n",
       "      <td>English</td>\n",
       "      <td>4.7</td>\n",
       "      <td>Beginner</td>\n",
       "      <td>17</td>\n",
       "      <td>Noel J. Bergman, Evan Bergman</td>\n",
       "      <td>4.5</td>\n",
       "      <td>LearnQuest</td>\n",
       "    </tr>\n",
       "    <tr>\n",
       "      <th>909</th>\n",
       "      <td>Teaching and Assessing Clinical Skills</td>\n",
       "      <td>Health</td>\n",
       "      <td>Patient Care</td>\n",
       "      <td>20207</td>\n",
       "      <td>English</td>\n",
       "      <td>4.7</td>\n",
       "      <td>Intermediate</td>\n",
       "      <td>16</td>\n",
       "      <td>Sally Santen, M.D., Ph.D.</td>\n",
       "      <td>4.6</td>\n",
       "      <td>University of Michigan</td>\n",
       "    </tr>\n",
       "    <tr>\n",
       "      <th>4318</th>\n",
       "      <td>Processar os dados para limpá-los</td>\n",
       "      <td>Data Science</td>\n",
       "      <td>Data Analysis</td>\n",
       "      <td>8454</td>\n",
       "      <td>Portuguese (Brazilian)</td>\n",
       "      <td>4.8</td>\n",
       "      <td>Beginner</td>\n",
       "      <td>22</td>\n",
       "      <td>Google Career Certificates</td>\n",
       "      <td>4.9</td>\n",
       "      <td>Google</td>\n",
       "    </tr>\n",
       "    <tr>\n",
       "      <th>3555</th>\n",
       "      <td>Managing Talent</td>\n",
       "      <td>Business</td>\n",
       "      <td>Leadership and Management</td>\n",
       "      <td>71790</td>\n",
       "      <td>English</td>\n",
       "      <td>4.6</td>\n",
       "      <td>Beginner</td>\n",
       "      <td>13</td>\n",
       "      <td>Cheri Alexander, Maxim Sytch, Ph.D.</td>\n",
       "      <td>4.6</td>\n",
       "      <td>University of Michigan</td>\n",
       "    </tr>\n",
       "    <tr>\n",
       "      <th>343</th>\n",
       "      <td>Anticipating Your Next Battle, in Business and...</td>\n",
       "      <td>Business</td>\n",
       "      <td>Business Strategy</td>\n",
       "      <td>12004</td>\n",
       "      <td>English</td>\n",
       "      <td>4.5</td>\n",
       "      <td>Beginner</td>\n",
       "      <td>26</td>\n",
       "      <td>Jeremy Ghez</td>\n",
       "      <td>4.3</td>\n",
       "      <td>HEC Paris</td>\n",
       "    </tr>\n",
       "  </tbody>\n",
       "</table>\n",
       "</div>"
      ],
      "text/plain": [
       "                                                   name           general  \\\n",
       "3964  Introduction to Object-Oriented Programming wi...  Computer Science   \n",
       "909              Teaching and Assessing Clinical Skills            Health   \n",
       "4318                  Processar os dados para limpá-los      Data Science   \n",
       "3555                                    Managing Talent          Business   \n",
       "343   Anticipating Your Next Battle, in Business and...          Business   \n",
       "\n",
       "                        specify  enrollment                language  rating  \\\n",
       "3964       Software Development       28834                 English     4.7   \n",
       "909                Patient Care       20207                 English     4.7   \n",
       "4318              Data Analysis        8454  Portuguese (Brazilian)     4.8   \n",
       "3555  Leadership and Management       71790                 English     4.6   \n",
       "343           Business Strategy       12004                 English     4.5   \n",
       "\n",
       "             level  duration                           instructor  \\\n",
       "3964      Beginner        17        Noel J. Bergman, Evan Bergman   \n",
       "909   Intermediate        16            Sally Santen, M.D., Ph.D.   \n",
       "4318      Beginner        22           Google Career Certificates   \n",
       "3555      Beginner        13  Cheri Alexander, Maxim Sytch, Ph.D.   \n",
       "343       Beginner        26                          Jeremy Ghez   \n",
       "\n",
       "      instructor_rate              offered by  \n",
       "3964              4.5              LearnQuest  \n",
       "909               4.6  University of Michigan  \n",
       "4318              4.9                  Google  \n",
       "3555              4.6  University of Michigan  \n",
       "343               4.3               HEC Paris  "
      ]
     },
     "execution_count": 16,
     "metadata": {},
     "output_type": "execute_result"
    }
   ],
   "source": [
    "courses_df = pd.read_csv('../Data/processed_data.csv', sep=',',engine='python', encoding='utf-8')\n",
    "courses_df.sample(5)"
   ]
  },
  {
   "cell_type": "markdown",
   "metadata": {},
   "source": [
    "- Define `categorical` and `numerical` features."
   ]
  },
  {
   "cell_type": "code",
   "execution_count": 17,
   "metadata": {},
   "outputs": [],
   "source": [
    "category_ = courses_df.select_dtypes(include=['object']).columns\n",
    "numeracy_ = courses_df.select_dtypes(exclude=['object']).columns"
   ]
  }
 ],
 "metadata": {
  "kernelspec": {
   "display_name": "min_ds-env",
   "language": "python",
   "name": "python3"
  },
  "language_info": {
   "codemirror_mode": {
    "name": "ipython",
    "version": 3
   },
   "file_extension": ".py",
   "mimetype": "text/x-python",
   "name": "python",
   "nbconvert_exporter": "python",
   "pygments_lexer": "ipython3",
   "version": "3.10.8"
  }
 },
 "nbformat": 4,
 "nbformat_minor": 2
}
